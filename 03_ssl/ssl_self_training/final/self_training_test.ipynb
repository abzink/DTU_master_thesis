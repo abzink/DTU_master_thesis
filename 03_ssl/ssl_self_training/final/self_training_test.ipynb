{
 "cells": [
  {
   "cell_type": "code",
   "execution_count": 1,
   "metadata": {},
   "outputs": [],
   "source": [
    "import numpy as np\n",
    "import pandas as pd\n",
    "from self_training_class_test import SelfTrainingPipeline"
   ]
  },
  {
   "cell_type": "code",
   "execution_count": 2,
   "metadata": {},
   "outputs": [
    {
     "name": "stderr",
     "output_type": "stream",
     "text": [
      "/var/folders/n9/qhmmsj1s7w52648j4cjf7ztc0000gn/T/ipykernel_58577/3282795029.py:1: DtypeWarning: Columns (12) have mixed types. Specify dtype option on import or set low_memory=False.\n",
      "  df = pd.read_csv('/Users/annabzinkowska/DTU/master_thesis/data/processed_data_all_bertopic_vol_2.csv')\n"
     ]
    }
   ],
   "source": [
    "df = pd.read_csv('/Users/annabzinkowska/DTU/master_thesis/data/processed_data_all_bertopic_vol_2.csv')"
   ]
  },
  {
   "cell_type": "code",
   "execution_count": 3,
   "metadata": {},
   "outputs": [],
   "source": [
    "categorical_columns = ['day_week_mode','month_mode', 'quarter_mode', 'year_mode', 'customer_country_mode']\n",
    "numerical_columns = ['quantity_sum', 'price_sum', 'unit_weight', 'unit_price_mean', 'customer_country_count', 'customer_id_count'] \n",
    "text_column = 'description'"
   ]
  },
  {
   "cell_type": "code",
   "execution_count": 4,
   "metadata": {},
   "outputs": [
    {
     "name": "stderr",
     "output_type": "stream",
     "text": [
      "2023-12-06 12:20:17,464 - INFO - Running for 100.0% labeled data...\n",
      "2023-12-06 12:20:17,871 - INFO - Data shape after SMOTE: (48890, 112) with labels shape: (48890,)\n",
      "2023-12-06 12:20:17,888 - INFO - Total training data shape after combining labeled and unlabeled data: (65983, 112)\n",
      "2023-12-06 12:20:17,892 - INFO - Training RandomForest...\n",
      "2023-12-06 12:20:17,892 - INFO - Training data shape: (65983, 112), Training labels shape: (65983,)\n",
      "2023-12-06 12:20:17,893 - INFO - Test data shape: (3408, 112), Test labels shape: (3408,)\n",
      "2023-12-06 12:20:17,893 - INFO - Initializing RandomForest classifier.\n"
     ]
    },
    {
     "name": "stdout",
     "output_type": "stream",
     "text": [
      "Fitting 5 folds for each of 10 candidates, totalling 50 fits\n"
     ]
    },
    {
     "name": "stderr",
     "output_type": "stream",
     "text": [
      "2023-12-06 12:48:03,035 - INFO - Cross-validation results saved to cv_results_RandomForest_1.0.csv\n",
      "2023-12-06 12:48:03,047 - INFO - Best parameters for RandomForest: {'bootstrap': True, 'criterion': 'gini', 'max_depth': 82, 'max_features': None, 'min_samples_leaf': 5, 'min_samples_split': 9, 'n_estimators': 673}\n",
      "2023-12-06 12:48:03,048 - INFO - Starting self-training for RandomForest.\n"
     ]
    },
    {
     "name": "stdout",
     "output_type": "stream",
     "text": [
      "End of iteration 1, added 6928 new labels.\n",
      "End of iteration 2, added 1684 new labels.\n",
      "End of iteration 3, added 716 new labels.\n",
      "End of iteration 4, added 389 new labels.\n",
      "End of iteration 5, added 231 new labels.\n",
      "End of iteration 6, added 176 new labels.\n",
      "End of iteration 7, added 118 new labels.\n",
      "End of iteration 8, added 81 new labels.\n",
      "End of iteration 9, added 77 new labels.\n",
      "End of iteration 10, added 71 new labels.\n"
     ]
    },
    {
     "name": "stderr",
     "output_type": "stream",
     "text": [
      "/Users/annabzinkowska/anaconda3/envs/thesis_/lib/python3.10/site-packages/sklearn/metrics/_classification.py:2916: UserWarning: The y_pred values do not sum to one. Starting from 1.5 thiswill result in an error.\n",
      "  warnings.warn(\n",
      "2023-12-06 13:10:29,616 - INFO - Evaluating RandomForest on the test set.\n",
      "/Users/annabzinkowska/anaconda3/envs/thesis_/lib/python3.10/site-packages/sklearn/metrics/_classification.py:2916: UserWarning: The y_pred values do not sum to one. Starting from 1.5 thiswill result in an error.\n",
      "  warnings.warn(\n",
      "2023-12-06 13:10:30,002 - INFO - Pseudo-labels generated: 10471\n",
      "2023-12-06 13:10:30,003 - INFO - Pseudo-label distribution: [1248 2231 6747   60  185]\n",
      "2023-12-06 13:10:30,128 - INFO - RandomForest: Training and evaluation completed with 100.0% labeled data.\n",
      "2023-12-06 13:10:49,373 - INFO - RandomForest: Mean Accuracy on Bootstrap Samples: 0.7285475352112677, Standard Deviation: 0.00711467493004747\n",
      "2023-12-06 13:10:49,374 - INFO - Training XGBoost...\n",
      "2023-12-06 13:10:49,374 - INFO - Training data shape: (65983, 112), Training labels shape: (65983,)\n",
      "2023-12-06 13:10:49,374 - INFO - Test data shape: (3408, 112), Test labels shape: (3408,)\n",
      "2023-12-06 13:10:49,375 - INFO - Initializing XGBoost classifier.\n"
     ]
    },
    {
     "name": "stdout",
     "output_type": "stream",
     "text": [
      "Fitting 5 folds for each of 10 candidates, totalling 50 fits\n"
     ]
    },
    {
     "name": "stderr",
     "output_type": "stream",
     "text": [
      "2023-12-06 13:12:50,626 - INFO - Cross-validation results saved to cv_results_XGBoost_1.0.csv\n",
      "2023-12-06 13:12:50,628 - INFO - Best parameters for XGBoost: {'colsample_bytree': 0.6558555380447055, 'gamma': 2.600340105889054, 'learning_rate': 0.1866775698358199, 'max_depth': 8, 'min_child_weight': 2, 'n_estimators': 267, 'subsample': 0.7799016533479063}\n",
      "2023-12-06 13:12:50,629 - INFO - Starting self-training for XGBoost.\n"
     ]
    },
    {
     "name": "stdout",
     "output_type": "stream",
     "text": [
      "End of iteration 1, added 8977 new labels.\n",
      "End of iteration 2, added 2688 new labels.\n",
      "End of iteration 3, added 982 new labels.\n",
      "End of iteration 4, added 581 new labels.\n",
      "End of iteration 5, added 332 new labels.\n",
      "End of iteration 6, added 233 new labels.\n",
      "End of iteration 7, added 151 new labels.\n",
      "End of iteration 8, added 131 new labels.\n",
      "End of iteration 9, added 102 new labels.\n",
      "End of iteration 10, added 86 new labels.\n"
     ]
    },
    {
     "name": "stderr",
     "output_type": "stream",
     "text": [
      "2023-12-06 13:13:54,528 - INFO - Evaluating XGBoost on the test set.\n",
      "2023-12-06 13:13:54,554 - INFO - Pseudo-labels generated: 14263\n",
      "2023-12-06 13:13:54,555 - INFO - Pseudo-label distribution: [ 1062   600 12562     0    39]\n",
      "2023-12-06 13:13:54,557 - INFO - XGBoost: Training and evaluation completed with 100.0% labeled data.\n",
      "2023-12-06 13:13:56,544 - INFO - XGBoost: Mean Accuracy on Bootstrap Samples: 0.7977963615023473, Standard Deviation: 0.006831045785477273\n",
      "2023-12-06 13:13:56,544 - INFO - Training LightGBM...\n",
      "2023-12-06 13:13:56,544 - INFO - Training data shape: (65983, 112), Training labels shape: (65983,)\n",
      "2023-12-06 13:13:56,545 - INFO - Test data shape: (3408, 112), Test labels shape: (3408,)\n",
      "2023-12-06 13:13:56,545 - INFO - Initializing LightGBM classifier.\n"
     ]
    },
    {
     "name": "stdout",
     "output_type": "stream",
     "text": [
      "Fitting 5 folds for each of 10 candidates, totalling 50 fits\n"
     ]
    },
    {
     "name": "stderr",
     "output_type": "stream",
     "text": [
      "2023-12-06 13:14:37,735 - INFO - Cross-validation results saved to cv_results_LightGBM_1.0.csv\n",
      "2023-12-06 13:14:37,736 - INFO - Best parameters for LightGBM: {'bagging_fraction': 0.608233797718321, 'feature_fraction': 0.9879639408647978, 'learning_rate': 0.17648852816008437, 'max_depth': 8, 'min_data_in_leaf': 485, 'num_leaves': 28}\n",
      "2023-12-06 13:14:37,737 - INFO - Starting self-training for LightGBM.\n"
     ]
    },
    {
     "name": "stdout",
     "output_type": "stream",
     "text": [
      "End of iteration 1, added 10528 new labels.\n",
      "End of iteration 2, added 2246 new labels.\n",
      "End of iteration 3, added 847 new labels.\n",
      "End of iteration 4, added 428 new labels.\n",
      "End of iteration 5, added 268 new labels.\n",
      "End of iteration 6, added 203 new labels.\n",
      "End of iteration 7, added 137 new labels.\n",
      "End of iteration 8, added 107 new labels.\n",
      "End of iteration 9, added 97 new labels.\n",
      "End of iteration 10, added 64 new labels.\n"
     ]
    },
    {
     "name": "stderr",
     "output_type": "stream",
     "text": [
      "2023-12-06 13:14:59,924 - INFO - Evaluating LightGBM on the test set.\n",
      "2023-12-06 13:14:59,992 - INFO - Pseudo-labels generated: 14925\n",
      "2023-12-06 13:14:59,993 - INFO - Pseudo-label distribution: [ 1165   882 12841     1    36]\n",
      "2023-12-06 13:14:59,994 - INFO - LightGBM: Training and evaluation completed with 100.0% labeled data.\n",
      "2023-12-06 13:15:05,918 - INFO - LightGBM: Mean Accuracy on Bootstrap Samples: 0.8011443661971831, Standard Deviation: 0.0070132177236546505\n",
      "2023-12-06 13:15:05,924 - INFO - Training Bagging...\n",
      "2023-12-06 13:15:05,924 - INFO - Training data shape: (65983, 112), Training labels shape: (65983,)\n",
      "2023-12-06 13:15:05,924 - INFO - Test data shape: (3408, 112), Test labels shape: (3408,)\n",
      "2023-12-06 13:15:05,925 - INFO - Initializing Bagging classifier.\n"
     ]
    },
    {
     "name": "stdout",
     "output_type": "stream",
     "text": [
      "Fitting 5 folds for each of 10 candidates, totalling 50 fits\n"
     ]
    },
    {
     "name": "stderr",
     "output_type": "stream",
     "text": [
      "2023-12-06 13:18:59,638 - INFO - Cross-validation results saved to cv_results_Bagging_1.0.csv\n",
      "2023-12-06 13:18:59,645 - INFO - Best parameters for Bagging: {'bootstrap': False, 'bootstrap_features': True, 'max_features': 0.8005575058716043, 'max_samples': 0.8540362888980227, 'n_estimators': 31}\n",
      "2023-12-06 13:18:59,645 - INFO - Starting self-training for Bagging.\n"
     ]
    },
    {
     "name": "stdout",
     "output_type": "stream",
     "text": [
      "End of iteration 1, added 4302 new labels.\n",
      "End of iteration 2, added 2222 new labels.\n",
      "End of iteration 3, added 1488 new labels.\n",
      "End of iteration 4, added 1000 new labels.\n",
      "End of iteration 5, added 610 new labels.\n",
      "End of iteration 6, added 488 new labels.\n",
      "End of iteration 7, added 369 new labels.\n",
      "End of iteration 8, added 301 new labels.\n",
      "End of iteration 9, added 256 new labels.\n",
      "End of iteration 10, added 214 new labels.\n"
     ]
    },
    {
     "name": "stderr",
     "output_type": "stream",
     "text": [
      "2023-12-06 13:20:19,710 - INFO - Evaluating Bagging on the test set.\n",
      "2023-12-06 13:20:20,160 - INFO - Pseudo-labels generated: 11250\n",
      "2023-12-06 13:20:20,161 - INFO - Pseudo-label distribution: [  197   262 10787     0     4]\n",
      "2023-12-06 13:20:20,162 - INFO - Bagging: Training and evaluation completed with 100.0% labeled data.\n",
      "2023-12-06 13:21:06,946 - INFO - Bagging: Mean Accuracy on Bootstrap Samples: 0.7867297535211268, Standard Deviation: 0.007431616660636726\n"
     ]
    }
   ],
   "source": [
    "# Example usage\n",
    "pipeline = SelfTrainingPipelineFinal()\n",
    "pipeline.set_data(df, label_column='category_bertopic', numerical_columns=numerical_columns, \n",
    "                  categorical_columns=categorical_columns, include_text=False)\n",
    "\n",
    "# Define the percentages of labeled data to be used in the loop\n",
    "labeled_data_percentages = [1.0]\n",
    "results = pipeline.run(labeled_data_percentages, n_bootstrap_samples=200)"
   ]
  }
 ],
 "metadata": {
  "kernelspec": {
   "display_name": "thesis_",
   "language": "python",
   "name": "python3"
  },
  "language_info": {
   "codemirror_mode": {
    "name": "ipython",
    "version": 3
   },
   "file_extension": ".py",
   "mimetype": "text/x-python",
   "name": "python",
   "nbconvert_exporter": "python",
   "pygments_lexer": "ipython3",
   "version": "3.10.13"
  },
  "orig_nbformat": 4
 },
 "nbformat": 4,
 "nbformat_minor": 2
}
