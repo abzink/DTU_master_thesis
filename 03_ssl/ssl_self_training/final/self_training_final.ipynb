{
 "cells": [
  {
   "cell_type": "code",
   "execution_count": 1,
   "metadata": {},
   "outputs": [],
   "source": [
    "import numpy as np\n",
    "import pandas as pd\n",
    "from self_training_class import SelfTrainingPipelineFinal"
   ]
  },
  {
   "cell_type": "code",
   "execution_count": 2,
   "metadata": {},
   "outputs": [
    {
     "name": "stderr",
     "output_type": "stream",
     "text": [
      "/var/folders/n9/qhmmsj1s7w52648j4cjf7ztc0000gn/T/ipykernel_49332/3282795029.py:1: DtypeWarning: Columns (12) have mixed types. Specify dtype option on import or set low_memory=False.\n",
      "  df = pd.read_csv('/Users/annabzinkowska/DTU/master_thesis/data/processed_data_all_bertopic_vol_2.csv')\n"
     ]
    }
   ],
   "source": [
    "df = pd.read_csv('/Users/annabzinkowska/DTU/master_thesis/data/processed_data_all_bertopic_vol_2.csv')"
   ]
  },
  {
   "cell_type": "code",
   "execution_count": 3,
   "metadata": {},
   "outputs": [],
   "source": [
    "categorical_columns = ['day_week_mode', 'month_mode', 'quarter_mode', 'customer_country_mode']\n",
    "numerical_columns = ['quantity_sum', 'price_sum', 'unit_weight', 'unit_price_mean', 'customer_country_count', 'customer_id_count'] \n",
    "text_column = 'description'"
   ]
  },
  {
   "cell_type": "code",
   "execution_count": 4,
   "metadata": {},
   "outputs": [
    {
     "name": "stderr",
     "output_type": "stream",
     "text": [
      "2023-12-20 15:08:37,111 - INFO - Running for 100.0% labeled data...\n",
      "2023-12-20 15:08:37,129 - INFO - Shapes after initial train-test split: X_train: (13630, 16), y_train: (13630,), X_test: (3408, 16), y_test: (3408,)\n",
      "2023-12-20 15:08:37,137 - INFO - Shapes after train-validation split: X_train_labeled: (12267, 16), y_train_labeled: (12267,), X_val_labeled: (1363, 16), y_val_labeled: (1363,)\n",
      "2023-12-20 15:08:37,138 - INFO - Shapes after reducing labeled data: X_train_labeled: (12267, 16), y_train_labeled: (12267,)\n",
      "2023-12-20 15:08:37,139 - INFO - Feature names before preprocessing: ['product_id', 'description', 'month_mode', 'quarter_mode', 'year_mode', 'day_week_mode', 'quantity_sum', 'price_sum', 'unit_weight', 'customer_country_mode', 'customer_country_count', 'customer_id_count', 'category', 'unit_price_mean', 'description_original', 'topic']\n",
      "2023-12-20 15:08:37,163 - INFO - Feature names after preprocessing: ['day_week_mode_0', 'day_week_mode_1', 'day_week_mode_2', 'day_week_mode_3', 'day_week_mode_4', 'day_week_mode_5', 'day_week_mode_6', 'month_mode_1', 'month_mode_2', 'month_mode_3', 'month_mode_4', 'month_mode_5', 'month_mode_6', 'month_mode_7', 'month_mode_8', 'month_mode_9', 'month_mode_10', 'month_mode_11', 'month_mode_12', 'quarter_mode_1', 'quarter_mode_2', 'quarter_mode_3', 'quarter_mode_4', 'year_mode_2014', 'year_mode_2015', 'year_mode_2016', 'year_mode_2017', 'year_mode_2018', 'year_mode_2019', 'year_mode_2020', 'year_mode_2021', 'year_mode_2022', 'year_mode_2023', 'customer_country_mode_14', 'customer_country_mode_AE', 'customer_country_mode_AR', 'customer_country_mode_AT', 'customer_country_mode_AU', 'customer_country_mode_BA', 'customer_country_mode_BE', 'customer_country_mode_BG', 'customer_country_mode_BO', 'customer_country_mode_BR', 'customer_country_mode_BY', 'customer_country_mode_CA', 'customer_country_mode_CH', 'customer_country_mode_CL', 'customer_country_mode_CN', 'customer_country_mode_CO', 'customer_country_mode_CR', 'customer_country_mode_CZ', 'customer_country_mode_DE', 'customer_country_mode_DK', 'customer_country_mode_DO', 'customer_country_mode_EC', 'customer_country_mode_EE', 'customer_country_mode_EG', 'customer_country_mode_ES', 'customer_country_mode_FI', 'customer_country_mode_FR', 'customer_country_mode_GB', 'customer_country_mode_GR', 'customer_country_mode_HK', 'customer_country_mode_HR', 'customer_country_mode_HU', 'customer_country_mode_ID', 'customer_country_mode_IE', 'customer_country_mode_IL', 'customer_country_mode_IN', 'customer_country_mode_IT', 'customer_country_mode_JO', 'customer_country_mode_JP', 'customer_country_mode_KE', 'customer_country_mode_KR', 'customer_country_mode_LV', 'customer_country_mode_MA', 'customer_country_mode_MX', 'customer_country_mode_MY', 'customer_country_mode_NL', 'customer_country_mode_NO', 'customer_country_mode_NZ', 'customer_country_mode_PA', 'customer_country_mode_PE', 'customer_country_mode_PH', 'customer_country_mode_PK', 'customer_country_mode_PL', 'customer_country_mode_PT', 'customer_country_mode_PY', 'customer_country_mode_RO', 'customer_country_mode_RS', 'customer_country_mode_RU', 'customer_country_mode_SA', 'customer_country_mode_SE', 'customer_country_mode_SG', 'customer_country_mode_SI', 'customer_country_mode_SK', 'customer_country_mode_TH', 'customer_country_mode_TN', 'customer_country_mode_TR', 'customer_country_mode_TW', 'customer_country_mode_UA', 'customer_country_mode_US', 'customer_country_mode_UY', 'customer_country_mode_VE', 'customer_country_mode_VN', 'customer_country_mode_ZA', 'quantity_sum', 'price_sum', 'unit_weight', 'unit_price_mean', 'customer_country_count', 'customer_id_count']\n",
      "2023-12-20 15:08:37,586 - INFO - Data shape after SMOTE: (44000, 112) with labels shape: (44000,)\n",
      "2023-12-20 15:08:37,600 - INFO - Shapes after combining labeled and unlabeled data: X_train_final: (61093, 112), y_train_final: (61093,), X_unlabeled: (17093, 112)\n",
      "2023-12-20 15:08:37,605 - INFO - Training RandomForest...\n",
      "2023-12-20 15:08:37,605 - INFO - Training data shape: (61093, 112), Training labels shape: (61093,)\n",
      "2023-12-20 15:08:37,606 - INFO - Test data shape: (3408, 112), Test labels shape: (3408,)\n",
      "2023-12-20 15:08:37,606 - INFO - Initializing RandomForest classifier.\n",
      "2023-12-20 15:08:37,614 - INFO - Starting hyperparameter tuning for RandomForest...\n"
     ]
    },
    {
     "name": "stdout",
     "output_type": "stream",
     "text": [
      "Fitting 5 folds for each of 20 candidates, totalling 100 fits\n"
     ]
    },
    {
     "name": "stderr",
     "output_type": "stream",
     "text": [
      "2023-12-20 15:31:03,750 - INFO - Cross-validation results saved to cv_results_RandomForest_1.0_SMOTE.csv\n",
      "2023-12-20 15:31:03,762 - INFO - Best parameters for RandomForest: {'bootstrap': False, 'criterion': 'entropy', 'max_depth': 63, 'max_features': 'sqrt', 'min_samples_leaf': 5, 'min_samples_split': 14, 'n_estimators': 485}\n",
      "2023-12-20 15:31:03,763 - INFO - Applying feature selection for RandomForest.\n",
      "2023-12-20 15:31:25,618 - INFO - Number of features after selection in X_train_labeled: (44000, 30)\n",
      "2023-12-20 15:31:25,619 - INFO - Number of features after selection in X_train_final: (61093, 30)\n",
      "2023-12-20 15:31:25,694 - INFO - Starting self-training for RandomForest with selected features.\n"
     ]
    },
    {
     "name": "stdout",
     "output_type": "stream",
     "text": [
      "End of iteration 1, added 2512 new labels.\n",
      "End of iteration 2, added 524 new labels.\n",
      "End of iteration 3, added 291 new labels.\n",
      "End of iteration 4, added 203 new labels.\n",
      "End of iteration 5, added 159 new labels.\n",
      "End of iteration 6, added 110 new labels.\n",
      "End of iteration 7, added 95 new labels.\n",
      "End of iteration 8, added 102 new labels.\n",
      "End of iteration 9, added 53 new labels.\n",
      "End of iteration 10, added 56 new labels.\n"
     ]
    },
    {
     "name": "stderr",
     "output_type": "stream",
     "text": [
      "2023-12-20 15:36:48,077 - INFO - Threshold decreased to 0.75 based on improved F1 score.\n",
      "2023-12-20 15:36:48,084 - INFO - Finished self-training for RandomForest with selected features.\n",
      "2023-12-20 15:36:49,129 - INFO - Shape of X_train_labeled_selected: (44000, 30)\n",
      "2023-12-20 15:36:49,130 - INFO - Shape of y_train_pred: (44000,)\n",
      "/Users/annabzinkowska/anaconda3/envs/thesis_/lib/python3.10/site-packages/sklearn/metrics/_classification.py:2916: UserWarning: The y_pred values do not sum to one. Starting from 1.5 thiswill result in an error.\n",
      "  warnings.warn(\n",
      "2023-12-20 15:36:50,288 - INFO - Evaluating RandomForest on the test set.\n",
      "2023-12-20 15:36:50,549 - INFO - RandomForest training completed in 1692.94 seconds.\n",
      "2023-12-20 15:36:50,673 - INFO - Pseudo-labels generated: 4105\n",
      "2023-12-20 15:36:50,674 - INFO - Pseudo-label distribution: [ 266  340 3493    0    6]\n",
      "2023-12-20 15:36:50,761 - INFO - RandomForest: Training and evaluation completed with 100.0% labeled data.\n"
     ]
    },
    {
     "name": "stdout",
     "output_type": "stream",
     "text": [
      "Saved ROC data for RandomForest with 1.0% labeled data to roc_auc_models/roc_data_RandomForest_1.0.json\n"
     ]
    },
    {
     "name": "stderr",
     "output_type": "stream",
     "text": [
      "2023-12-20 15:38:19,211 - INFO - RandomForest: Mean and Standard Deviation on Bootstrap Samples: {'accuracy': (0.7659019953051643, 0.007103317293676488), 'precision': (0.7928551939327231, 0.0073184925991766165), 'recall': (0.7659019953051643, 0.007103317293676488), 'f1_score': (0.7739252124474527, 0.006901898562879962)}\n",
      "2023-12-20 15:38:19,211 - INFO - Training XGBoost...\n",
      "2023-12-20 15:38:19,212 - INFO - Training data shape: (61093, 112), Training labels shape: (61093,)\n",
      "2023-12-20 15:38:19,212 - INFO - Test data shape: (3408, 112), Test labels shape: (3408,)\n",
      "2023-12-20 15:38:19,212 - INFO - Initializing XGBoost classifier.\n",
      "2023-12-20 15:38:19,268 - INFO - Class weights for XGBoost: {0: 1.0, 1: 1.0, 2: 1.0, 3: 1.0, 4: 1.0}\n",
      "2023-12-20 15:38:19,269 - INFO - Starting hyperparameter tuning for XGBoost...\n"
     ]
    },
    {
     "name": "stdout",
     "output_type": "stream",
     "text": [
      "Fitting 5 folds for each of 20 candidates, totalling 100 fits\n"
     ]
    },
    {
     "name": "stderr",
     "output_type": "stream",
     "text": [
      "2023-12-20 15:42:37,853 - INFO - Cross-validation results saved to cv_results_XGBoost_1.0_SMOTE.csv\n",
      "2023-12-20 15:42:37,861 - INFO - Best parameters for XGBoost: {'alpha': 0.001, 'colsample_bytree': 0.7019180855290204, 'gamma': 0.3244612355449078, 'lambda': 1, 'learning_rate': 0.2906118237355278, 'max_depth': 9, 'min_child_weight': 7, 'n_estimators': 435, 'subsample': 0.8849082359697769}\n",
      "2023-12-20 15:42:37,861 - INFO - Applying feature selection for XGBoost.\n",
      "2023-12-20 15:42:46,092 - INFO - Number of features after selection in X_train_labeled: (44000, 48)\n",
      "2023-12-20 15:42:46,093 - INFO - Number of features after selection in X_train_final: (61093, 48)\n",
      "2023-12-20 15:42:46,096 - INFO - Starting self-training for XGBoost with selected features.\n"
     ]
    },
    {
     "name": "stdout",
     "output_type": "stream",
     "text": [
      "End of iteration 1, added 11770 new labels.\n",
      "End of iteration 2, added 2091 new labels.\n",
      "End of iteration 3, added 777 new labels.\n",
      "End of iteration 4, added 403 new labels.\n",
      "End of iteration 5, added 299 new labels.\n",
      "End of iteration 6, added 186 new labels.\n",
      "End of iteration 7, added 137 new labels.\n",
      "End of iteration 8, added 105 new labels.\n",
      "End of iteration 9, added 84 new labels.\n",
      "End of iteration 10, added 76 new labels.\n"
     ]
    },
    {
     "name": "stderr",
     "output_type": "stream",
     "text": [
      "2023-12-20 15:43:51,722 - INFO - Threshold decreased to 0.7 based on improved F1 score.\n",
      "2023-12-20 15:43:51,727 - INFO - Finished self-training for XGBoost with selected features.\n",
      "2023-12-20 15:43:51,908 - INFO - Shape of X_train_labeled_selected: (44000, 48)\n",
      "2023-12-20 15:43:51,908 - INFO - Shape of y_train_pred: (44000,)\n",
      "2023-12-20 15:43:52,220 - INFO - Evaluating XGBoost on the test set.\n",
      "2023-12-20 15:43:52,271 - INFO - XGBoost training completed in 333.06 seconds.\n",
      "2023-12-20 15:43:52,441 - INFO - Pseudo-labels generated: 15928\n",
      "2023-12-20 15:43:52,442 - INFO - Pseudo-label distribution: [ 1301  1179 13403     3    42]\n",
      "2023-12-20 15:43:52,446 - INFO - XGBoost: Training and evaluation completed with 100.0% labeled data.\n"
     ]
    },
    {
     "name": "stdout",
     "output_type": "stream",
     "text": [
      "Saved ROC data for XGBoost with 1.0% labeled data to roc_auc_models/roc_data_XGBoost_1.0.json\n"
     ]
    },
    {
     "name": "stderr",
     "output_type": "stream",
     "text": [
      "2023-12-20 15:44:03,447 - INFO - XGBoost: Mean and Standard Deviation on Bootstrap Samples: {'accuracy': (0.7987769953051643, 0.006691055657740698), 'precision': (0.7821509933012221, 0.007904104882539559), 'recall': (0.7987769953051643, 0.006691055657740698), 'f1_score': (0.7857812000562956, 0.007535682682149357)}\n",
      "2023-12-20 15:44:03,448 - INFO - Training LightGBM...\n",
      "2023-12-20 15:44:03,449 - INFO - Training data shape: (61093, 112), Training labels shape: (61093,)\n",
      "2023-12-20 15:44:03,449 - INFO - Test data shape: (3408, 112), Test labels shape: (3408,)\n",
      "2023-12-20 15:44:03,449 - INFO - Initializing LightGBM classifier.\n",
      "2023-12-20 15:44:03,480 - INFO - Starting hyperparameter tuning for LightGBM...\n"
     ]
    },
    {
     "name": "stdout",
     "output_type": "stream",
     "text": [
      "Fitting 5 folds for each of 20 candidates, totalling 100 fits\n"
     ]
    },
    {
     "name": "stderr",
     "output_type": "stream",
     "text": [
      "2023-12-20 15:46:11,384 - INFO - Cross-validation results saved to cv_results_LightGBM_1.0_SMOTE.csv\n",
      "2023-12-20 15:46:11,391 - INFO - Best parameters for LightGBM: {'bagging_fraction': 0.5764923982534326, 'feature_fraction': 0.9966461771613577, 'lambda_l1': 0.01, 'lambda_l2': 1, 'learning_rate': 0.22899106101044808, 'max_depth': 8, 'min_data_in_leaf': 320, 'num_leaves': 28}\n",
      "2023-12-20 15:46:11,392 - INFO - Applying feature selection for LightGBM.\n",
      "2023-12-20 15:46:13,420 - INFO - Number of features after selection in X_train_labeled: (44000, 19)\n",
      "2023-12-20 15:46:13,421 - INFO - Number of features after selection in X_train_final: (61093, 19)\n",
      "2023-12-20 15:46:13,425 - INFO - Starting self-training for LightGBM with selected features.\n"
     ]
    },
    {
     "name": "stdout",
     "output_type": "stream",
     "text": [
      "End of iteration 1, added 11911 new labels.\n",
      "End of iteration 2, added 1980 new labels.\n",
      "End of iteration 3, added 750 new labels.\n",
      "End of iteration 4, added 402 new labels.\n",
      "End of iteration 5, added 246 new labels.\n",
      "End of iteration 6, added 168 new labels.\n",
      "End of iteration 7, added 120 new labels.\n",
      "End of iteration 8, added 97 new labels.\n",
      "End of iteration 9, added 74 new labels.\n",
      "End of iteration 10, added 70 new labels.\n"
     ]
    },
    {
     "name": "stderr",
     "output_type": "stream",
     "text": [
      "2023-12-20 15:46:35,603 - INFO - Threshold increased to 0.75 due to decreased F1 score.\n",
      "2023-12-20 15:46:35,608 - INFO - Finished self-training for LightGBM with selected features.\n",
      "2023-12-20 15:46:35,894 - INFO - Shape of X_train_labeled_selected: (44000, 19)\n",
      "2023-12-20 15:46:35,895 - INFO - Shape of y_train_pred: (44000,)\n",
      "2023-12-20 15:46:36,306 - INFO - Evaluating LightGBM on the test set.\n",
      "2023-12-20 15:46:36,360 - INFO - LightGBM training completed in 152.91 seconds.\n",
      "2023-12-20 15:46:36,536 - INFO - Pseudo-labels generated: 15818\n",
      "2023-12-20 15:46:36,537 - INFO - Pseudo-label distribution: [ 1815  2139 11637     8   219]\n",
      "2023-12-20 15:46:36,538 - INFO - LightGBM: Training and evaluation completed with 100.0% labeled data.\n"
     ]
    },
    {
     "name": "stdout",
     "output_type": "stream",
     "text": [
      "Saved ROC data for LightGBM with 1.0% labeled data to roc_auc_models/roc_data_LightGBM_1.0.json\n"
     ]
    },
    {
     "name": "stderr",
     "output_type": "stream",
     "text": [
      "2023-12-20 15:46:49,759 - INFO - LightGBM: Mean and Standard Deviation on Bootstrap Samples: {'accuracy': (0.7754495305164318, 0.00668290534110638), 'precision': (0.7876173908999223, 0.007144054096180906), 'recall': (0.7754495305164318, 0.00668290534110638), 'f1_score': (0.7798068055064376, 0.006692276371811759)}\n"
     ]
    }
   ],
   "source": [
    "# Example usage\n",
    "pipeline = SelfTrainingPipelineFinal()\n",
    "pipeline.set_data(df, label_column='category_bertopic', numerical_columns=numerical_columns, \n",
    "                  categorical_columns=categorical_columns, include_text=False)\n",
    "\n",
    "# Define the percentages of labeled data to be used in the loop\n",
    "labeled_data_percentages = [1.0]\n",
    "results = pipeline.run(labeled_data_percentages, n_bootstrap_samples=500)"
   ]
  }
 ],
 "metadata": {
  "kernelspec": {
   "display_name": "thesis_",
   "language": "python",
   "name": "python3"
  },
  "language_info": {
   "codemirror_mode": {
    "name": "ipython",
    "version": 3
   },
   "file_extension": ".py",
   "mimetype": "text/x-python",
   "name": "python",
   "nbconvert_exporter": "python",
   "pygments_lexer": "ipython3",
   "version": "3.10.13"
  },
  "orig_nbformat": 4
 },
 "nbformat": 4,
 "nbformat_minor": 2
}
