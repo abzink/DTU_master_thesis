{
 "cells": [
  {
   "cell_type": "code",
   "execution_count": 1,
   "metadata": {},
   "outputs": [],
   "source": [
    "import sys\n",
    "sys.path.append('../')\n",
    "import numpy as np\n",
    "import pandas as pd\n",
    "from sklearn.model_selection import train_test_split"
   ]
  },
  {
   "cell_type": "code",
   "execution_count": 2,
   "metadata": {},
   "outputs": [
    {
     "name": "stderr",
     "output_type": "stream",
     "text": [
      "/var/folders/n9/qhmmsj1s7w52648j4cjf7ztc0000gn/T/ipykernel_50294/1349628965.py:1: DtypeWarning: Columns (12) have mixed types. Specify dtype option on import or set low_memory=False.\n",
      "  data = pd.read_csv('/Users/annabzinkowska/DTU/master_thesis/data/processed_data_all_bertopic_vol_2.csv')\n"
     ]
    }
   ],
   "source": [
    "data = pd.read_csv('/Users/annabzinkowska/DTU/master_thesis/data/processed_data_all_bertopic_vol_2.csv')"
   ]
  },
  {
   "cell_type": "code",
   "execution_count": 4,
   "metadata": {},
   "outputs": [],
   "source": [
    "categorical_columns = ['month_mode', 'quarter_mode','year_mode','day_week_mode', 'customer_country_mode']\n",
    "numerical_columns = ['quantity_sum', 'price_sum', 'unit_weight', 'unit_price_mean', 'customer_country_count', 'customer_id_count'] \n",
    "text_column = 'description'"
   ]
  },
  {
   "cell_type": "code",
   "execution_count": 5,
   "metadata": {},
   "outputs": [],
   "source": [
    "# Determine the sample size you want, for example, 10% of the total data\n",
    "test_size = int(0.3 * len(data))\n",
    "\n",
    "# Sample from the entire data preserving the proportion of the labeled data\n",
    "# Here, we treat -1 just as another label for stratification purposes\n",
    "_, sampled_df = train_test_split(data, test_size=test_size, random_state=42, stratify=data['category_bertopic'])"
   ]
  },
  {
   "cell_type": "code",
   "execution_count": 6,
   "metadata": {},
   "outputs": [
    {
     "data": {
      "text/plain": [
       "34131"
      ]
     },
     "execution_count": 6,
     "metadata": {},
     "output_type": "execute_result"
    }
   ],
   "source": [
    "len(data)"
   ]
  },
  {
   "cell_type": "markdown",
   "metadata": {},
   "source": [
    "### Run Model"
   ]
  },
  {
   "cell_type": "code",
   "execution_count": 7,
   "metadata": {},
   "outputs": [
    {
     "ename": "ModuleNotFoundError",
     "evalue": "No module named 'semi_supervised_transformers_robust'",
     "output_type": "error",
     "traceback": [
      "\u001b[0;31m---------------------------------------------------------------------------\u001b[0m",
      "\u001b[0;31mModuleNotFoundError\u001b[0m                       Traceback (most recent call last)",
      "Cell \u001b[0;32mIn[7], line 1\u001b[0m\n\u001b[0;32m----> 1\u001b[0m \u001b[39mfrom\u001b[39;00m \u001b[39mself_training_tuning\u001b[39;00m \u001b[39mimport\u001b[39;00m SelfTrainingPipeline\n\u001b[1;32m      3\u001b[0m pipeline_instance \u001b[39m=\u001b[39m SelfTrainingPipeline(labeled_percentage\u001b[39m=\u001b[39m\u001b[39m0.8\u001b[39m)\n\u001b[1;32m      4\u001b[0m pipeline_instance\u001b[39m.\u001b[39mset_data(data, categorical_columns, numerical_columns, include_text\u001b[39m=\u001b[39m\u001b[39mFalse\u001b[39;00m, text_column\u001b[39m=\u001b[39m\u001b[39mNone\u001b[39;00m)\n",
      "File \u001b[0;32m~/DTU/master_thesis/semi_supervised_self_training/iteration_vol_2/self_training_tuning.py:17\u001b[0m\n\u001b[1;32m     15\u001b[0m \u001b[39mimport\u001b[39;00m \u001b[39mnumpy\u001b[39;00m \u001b[39mas\u001b[39;00m \u001b[39mnp\u001b[39;00m\n\u001b[1;32m     16\u001b[0m \u001b[39mimport\u001b[39;00m \u001b[39mpandas\u001b[39;00m \u001b[39mas\u001b[39;00m \u001b[39mpd\u001b[39;00m\n\u001b[0;32m---> 17\u001b[0m \u001b[39mfrom\u001b[39;00m \u001b[39msemi_supervised_transformers_robust\u001b[39;00m \u001b[39mimport\u001b[39;00m PreprocessingPipeline\n\u001b[1;32m     18\u001b[0m \u001b[39mfrom\u001b[39;00m \u001b[39mscipy\u001b[39;00m\u001b[39m.\u001b[39;00m\u001b[39mstats\u001b[39;00m \u001b[39mimport\u001b[39;00m uniform, randint\n\u001b[1;32m     19\u001b[0m \u001b[39mfrom\u001b[39;00m \u001b[39msklearn\u001b[39;00m\u001b[39m.\u001b[39;00m\u001b[39mtree\u001b[39;00m \u001b[39mimport\u001b[39;00m DecisionTreeClassifier\n",
      "\u001b[0;31mModuleNotFoundError\u001b[0m: No module named 'semi_supervised_transformers_robust'"
     ]
    }
   ],
   "source": [
    "from self_training_tuning import SelfTrainingPipeline\n",
    "\n",
    "pipeline_instance = SelfTrainingPipeline(labeled_percentage=1)\n",
    "pipeline_instance.set_data(data, categorical_columns, numerical_columns, include_text=False, text_column=None)\n",
    "results = pipeline_instance.run()"
   ]
  },
  {
   "cell_type": "markdown",
   "metadata": {},
   "source": [
    "### Analyze Results"
   ]
  },
  {
   "cell_type": "code",
   "execution_count": null,
   "metadata": {},
   "outputs": [],
   "source": [
    "from joblib import load\n",
    "\n",
    "# Load the best hyperparameters\n",
    "best_hyperparams = load('best_hyperparameters.joblib')\n",
    "\n",
    "# Access parameters for a specific model, e.g., Random Forest\n",
    "best_hyperparams"
   ]
  },
  {
   "cell_type": "code",
   "execution_count": null,
   "metadata": {},
   "outputs": [],
   "source": []
  }
 ],
 "metadata": {
  "kernelspec": {
   "display_name": "thesis_",
   "language": "python",
   "name": "python3"
  },
  "language_info": {
   "codemirror_mode": {
    "name": "ipython",
    "version": 3
   },
   "file_extension": ".py",
   "mimetype": "text/x-python",
   "name": "python",
   "nbconvert_exporter": "python",
   "pygments_lexer": "ipython3",
   "version": "3.10.13"
  },
  "orig_nbformat": 4
 },
 "nbformat": 4,
 "nbformat_minor": 2
}
