{
 "cells": [
  {
   "cell_type": "code",
   "execution_count": 13,
   "metadata": {},
   "outputs": [],
   "source": [
    "import sys\n",
    "sys.path.append('../')\n",
    "import numpy as np\n",
    "import pandas as pd\n",
    "from sklearn.metrics import accuracy_score, classification_report, confusion_matrix\n",
    "from sklearn.semi_supervised import SelfTrainingClassifier\n",
    "from sklearn.model_selection import train_test_split\n",
    "from sklearn.ensemble import RandomForestClassifier\n",
    "import xgboost as xgb\n",
    "import lightgbm as lgb\n",
    "from sklearn.svm import SVC\n",
    "from sklearn.neighbors import KNeighborsClassifier\n",
    "from sklearn.neural_network import MLPClassifier\n",
    "from semi_supervised_transformers import PreprocessingPipeline\n",
    "from sklearn.naive_bayes import MultinomialNB, GaussianNB\n",
    "from sklearn.preprocessing import LabelEncoder"
   ]
  },
  {
   "cell_type": "code",
   "execution_count": 14,
   "metadata": {},
   "outputs": [
    {
     "name": "stderr",
     "output_type": "stream",
     "text": [
      "/var/folders/n9/qhmmsj1s7w52648j4cjf7ztc0000gn/T/ipykernel_13243/639417878.py:1: DtypeWarning: Columns (12) have mixed types. Specify dtype option on import or set low_memory=False.\n",
      "  data = pd.read_csv('/Users/annabzinkowska/DTU/master_thesis/data/processed_data_all_bertopic.csv')\n"
     ]
    }
   ],
   "source": [
    "data = pd.read_csv('/Users/annabzinkowska/DTU/master_thesis/data/processed_data_all_bertopic.csv')"
   ]
  },
  {
   "cell_type": "code",
   "execution_count": 15,
   "metadata": {},
   "outputs": [],
   "source": [
    "categorical_columns = ['month_mode', 'quarter_mode','year_mode','day_week_mode', 'customer_country_mode']\n",
    "numerical_columns = ['quantity_sum', 'price_sum', 'unit_weight', 'unit_price_mean', 'customer_country_count', 'customer_id_count'] "
   ]
  },
  {
   "cell_type": "markdown",
   "metadata": {},
   "source": [
    "This code will train each classifier using the self-training approach, evaluate it on the validation set, and then display a ranking of classifiers by accuracy."
   ]
  },
  {
   "cell_type": "code",
   "execution_count": 16,
   "metadata": {},
   "outputs": [
    {
     "name": "stderr",
     "output_type": "stream",
     "text": [
      "/Users/annabzinkowska/anaconda3/envs/thesis_/lib/python3.10/site-packages/sklearn/preprocessing/_encoders.py:975: FutureWarning: `sparse` was renamed to `sparse_output` in version 1.2 and will be removed in 1.4. `sparse_output` is ignored unless you leave `sparse` to its default value.\n",
      "  warnings.warn(\n"
     ]
    },
    {
     "name": "stdout",
     "output_type": "stream",
     "text": [
      "Length of X_train: 14573\n",
      "Length of y_train: 14573\n",
      "Length of X_val: 3644\n",
      "Length of y_val: 3644\n",
      "Length of X_train_processed: 14573\n",
      "Length of X_val_processed: 3644\n",
      "Length of X_unlabeled_processed: 16969\n"
     ]
    }
   ],
   "source": [
    "# Assuming `data` is your DataFrame and `categorical_columns`, `numerical_columns`, \n",
    "# and `log_transform_columns` are lists of column names\n",
    "\n",
    "# Set a random seed for replicability\n",
    "random_seed = 42\n",
    "\n",
    "# Splitting data into labeled and unlabeled samples\n",
    "labeled_data = data[data['category_bertopic'] != '-1']\n",
    "unlabeled_data = data[data['category_bertopic'] == '-1']\n",
    "\n",
    "X_labeled = labeled_data.drop(columns='category_bertopic')\n",
    "y_labeled = labeled_data['category_bertopic']\n",
    "X_unlabeled = unlabeled_data.drop(columns='category_bertopic')\n",
    "\n",
    "# Further split labeled data for evaluation\n",
    "X_train, X_val, y_train, y_val = train_test_split(X_labeled, y_labeled, test_size=0.2, stratify=y_labeled, random_state=random_seed)\n",
    "\n",
    "# Check lengths\n",
    "print(\"Length of X_train:\", len(X_train))\n",
    "print(\"Length of y_train:\", len(y_train))\n",
    "print(\"Length of X_val:\", len(X_val))\n",
    "print(\"Length of y_val:\", len(y_val))\n",
    "\n",
    "# Preprocess the data\n",
    "pipeline = PreprocessingPipeline(categorical_columns, numerical_columns, text_column=None)\n",
    "X_train_processed = pipeline.fit_transform(X_train, include_text=False)\n",
    "X_val_processed = pipeline.transform(X_val, include_text=False)\n",
    "X_unlabeled_processed = pipeline.transform(X_unlabeled, include_text=False)\n",
    "\n",
    "# Double-check lengths after processing\n",
    "print(\"Length of X_train_processed:\", len(X_train_processed))\n",
    "print(\"Length of X_val_processed:\", len(X_val_processed))\n",
    "print(\"Length of X_unlabeled_processed:\", len(X_unlabeled_processed))\n",
    "\n",
    "# Define the classifiers\n",
    "classifiers = [\n",
    "   #('Random Forest', RandomForestClassifier(random_state=random_seed)),\n",
    "   #('XGBoost', xgb.XGBClassifier(use_label_encoder=False, eval_metric='mlogloss', random_state=random_seed)),\n",
    "   #('LightGBM', lgb.LGBMClassifier(random_state=random_seed)),\n",
    "   #('SVM', SVC(probability=True, random_state=random_seed)),\n",
    "   #('KNN', KNeighborsClassifier()),\n",
    "]\n",
    "\n",
    "# Fit the LabelEncoder on labels from the labeled dataset\n",
    "le = LabelEncoder()\n",
    "le.fit(y_labeled)\n",
    "\n",
    "# Encode the labeled data\n",
    "y_train_encoded = le.transform(y_train)\n",
    "y_val_encoded = le.transform(y_val)\n",
    "\n",
    "# Define a placeholder value for unlabeled data\n",
    "# We'll use the next integer after the maximum label for labeled data\n",
    "unlabeled_placeholder = len(le.classes_)\n",
    "\n",
    "# Confidence threshold for self-training, default 0.75\n",
    "\n",
    "# Track the number of samples pseudo-labeled in each iteration\n",
    "pseudo_labeled_counts = []\n",
    "\n",
    "# Training and evaluation\n",
    "results = []"
   ]
  },
  {
   "cell_type": "code",
   "execution_count": 17,
   "metadata": {},
   "outputs": [
    {
     "name": "stderr",
     "output_type": "stream",
     "text": [
      "/Users/annabzinkowska/anaconda3/envs/thesis_/lib/python3.10/site-packages/sklearn/neural_network/_multilayer_perceptron.py:698: UserWarning: Training interrupted by user.\n",
      "  warnings.warn(\"Training interrupted by user.\")\n"
     ]
    }
   ],
   "source": [
    "for name, base_classifier in classifiers:\n",
    "    if hasattr(base_classifier, 'predict_proba'):\n",
    "        self_training_model = SelfTrainingClassifier(base_classifier, criterion='threshold', threshold=threshold)\n",
    "\n",
    "        # Combine the data\n",
    "        combined_X = np.vstack((X_train_processed, X_unlabeled_processed))\n",
    "        combined_y = np.concatenate([y_train_encoded, [-1] * len(X_unlabeled_processed)])\n",
    "\n",
    "        # Track the number of samples pseudo-labeled in this iteration\n",
    "        pseudo_labels = np.full(len(X_unlabeled_processed), -1)  # Placeholder labels for unlabeled data\n",
    "        self_training_model.fit(combined_X, combined_y)\n",
    "\n",
    "        # Get the model's confidence scores for the unlabeled data\n",
    "        confidence_scores = self_training_model.predict_proba(X_unlabeled_processed)\n",
    "\n",
    "        # Check which samples meet the confidence threshold for pseudo-labeling\n",
    "        confident_samples = np.max(confidence_scores, axis=1) >= threshold\n",
    "\n",
    "        # Update the pseudo-labels for confident samples\n",
    "        pseudo_labels[confident_samples] = self_training_model.classes_[np.argmax(confidence_scores, axis=1)][confident_samples]\n",
    "\n",
    "        # Count the number of pseudo-labeled samples in this iteration\n",
    "        pseudo_labeled_count = np.sum(pseudo_labels != -1)\n",
    "        pseudo_labeled_counts.append((name, pseudo_labeled_count))\n",
    "\n",
    "        # Update the combined_y with pseudo-labels\n",
    "        combined_y[len(y_train_encoded):] = pseudo_labels\n",
    "\n",
    "        # Fit the model with updated pseudo-labels\n",
    "        self_training_model.fit(combined_X, combined_y)\n",
    "\n",
    "        # Evaluate the classifier after self-training\n",
    "        y_pred = self_training_model.predict(X_val_processed)\n",
    "        acc = accuracy_score(y_val_encoded, y_pred)\n",
    "\n",
    "        # Convert y_pred back to original labels for reporting\n",
    "        y_pred_original = le.inverse_transform(y_pred)\n",
    "        y_val_original = le.inverse_transform(y_val_encoded)\n",
    "\n",
    "        print(f\"Results for {name}:\")\n",
    "        print(\"Accuracy:\", acc)\n",
    "        print(\"Classification Report:\")\n",
    "        print(classification_report(y_val_original, y_pred_original))\n",
    "        print(\"Confusion Matrix:\")\n",
    "        print(confusion_matrix(y_val_original, y_pred_original))\n",
    "        print(\"Pseudo-labeled Count:\", pseudo_labeled_count)  # Print the number of pseudo-labeled samples\n",
    "        print(\"-\" * 50)\n",
    "\n",
    "        results.append((name, acc))\n",
    "\n",
    "    else:\n",
    "        print(f\"Skipping {name} as it does not support predict_proba\")\n",
    "\n",
    "# Sort and display classifiers by accuracy\n",
    "results.sort(key=lambda x: x[1], reverse=True)\n",
    "print(\"Classifier rankings:\")\n",
    "for i, (name, acc) in enumerate(results):\n",
    "    print(f\"{i + 1}. {name}: {acc:.4f}\")\n",
    "\n",
    "# Print the number of pseudo-labeled samples for each classifier\n",
    "print(\"Pseudo-labeled Counts:\")\n",
    "for name, count in pseudo_labeled_counts:\n",
    "    print(f\"{name}: {count}\")"
   ]
  },
  {
   "cell_type": "code",
   "execution_count": null,
   "metadata": {},
   "outputs": [
    {
     "name": "stdout",
     "output_type": "stream",
     "text": [
      "Unique labels in data: ['-1' 'C' 'D' 'B' 'E' 'A']\n",
      "Labels seen by the encoder: ['A' 'B' 'C' 'D' 'E']\n"
     ]
    }
   ],
   "source": [
    "print(\"Unique labels in data:\", data['category_bertopic'].unique())\n",
    "print(\"Labels seen by the encoder:\", le.classes_)"
   ]
  }
 ],
 "metadata": {
  "kernelspec": {
   "display_name": "thesis_",
   "language": "python",
   "name": "python3"
  },
  "language_info": {
   "codemirror_mode": {
    "name": "ipython",
    "version": 3
   },
   "file_extension": ".py",
   "mimetype": "text/x-python",
   "name": "python",
   "nbconvert_exporter": "python",
   "pygments_lexer": "ipython3",
   "version": "3.10.13"
  },
  "orig_nbformat": 4
 },
 "nbformat": 4,
 "nbformat_minor": 2
}
