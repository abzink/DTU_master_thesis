{
 "cells": [
  {
   "cell_type": "code",
   "execution_count": 1,
   "metadata": {},
   "outputs": [
    {
     "name": "stderr",
     "output_type": "stream",
     "text": [
      "/Users/annabzinkowska/anaconda3/envs/thesis_/lib/python3.10/site-packages/tqdm/auto.py:21: TqdmWarning: IProgress not found. Please update jupyter and ipywidgets. See https://ipywidgets.readthedocs.io/en/stable/user_install.html\n",
      "  from .autonotebook import tqdm as notebook_tqdm\n"
     ]
    }
   ],
   "source": [
    "import pandas as pd\n",
    "from bertopic import BERTopic\n",
    "from sentence_transformers import SentenceTransformer\n",
    "from collections import Counter\n",
    "import matplotlib.pyplot as plt\n",
    "from plotting_utils import save_figure\n",
    "from umap import UMAP\n",
    "import hdbscan\n",
    "\n",
    "\n",
    "import multiprocessing"
   ]
  },
  {
   "cell_type": "code",
   "execution_count": 2,
   "metadata": {},
   "outputs": [],
   "source": [
    "# load processed_labeled_data_all.csv\n",
    "df = pd.read_csv('./data/processed_data_all.csv')"
   ]
  },
  {
   "cell_type": "code",
   "execution_count": 37,
   "metadata": {},
   "outputs": [
    {
     "data": {
      "text/html": [
       "<div>\n",
       "<style scoped>\n",
       "    .dataframe tbody tr th:only-of-type {\n",
       "        vertical-align: middle;\n",
       "    }\n",
       "\n",
       "    .dataframe tbody tr th {\n",
       "        vertical-align: top;\n",
       "    }\n",
       "\n",
       "    .dataframe thead th {\n",
       "        text-align: right;\n",
       "    }\n",
       "</style>\n",
       "<table border=\"1\" class=\"dataframe\">\n",
       "  <thead>\n",
       "    <tr style=\"text-align: right;\">\n",
       "      <th></th>\n",
       "      <th>product_id</th>\n",
       "      <th>description</th>\n",
       "      <th>month_mode</th>\n",
       "      <th>quarter_mode</th>\n",
       "      <th>year_mode</th>\n",
       "      <th>day_week_mode</th>\n",
       "      <th>quantity_sum</th>\n",
       "      <th>price_sum</th>\n",
       "      <th>unit_weight</th>\n",
       "      <th>customer_country_mode</th>\n",
       "      <th>customer_country_count</th>\n",
       "      <th>customer_id_count</th>\n",
       "      <th>category</th>\n",
       "      <th>unit_price_mean</th>\n",
       "      <th>description_original</th>\n",
       "    </tr>\n",
       "  </thead>\n",
       "  <tbody>\n",
       "    <tr>\n",
       "      <th>0</th>\n",
       "      <td>010004</td>\n",
       "      <td>cfcf sfy bolted hanger nptf stud viton</td>\n",
       "      <td>2</td>\n",
       "      <td>1</td>\n",
       "      <td>2020</td>\n",
       "      <td>2</td>\n",
       "      <td>6</td>\n",
       "      <td>232.92</td>\n",
       "      <td>0.124</td>\n",
       "      <td>DK</td>\n",
       "      <td>1</td>\n",
       "      <td>1</td>\n",
       "      <td>-1</td>\n",
       "      <td>38.8200</td>\n",
       "      <td>C24FCF-1/2-SFY-S              BOLTED HANGER, N...</td>\n",
       "    </tr>\n",
       "    <tr>\n",
       "      <th>1</th>\n",
       "      <td>010005</td>\n",
       "      <td>cfcf sfy bolted hanger nptf stud viton</td>\n",
       "      <td>10</td>\n",
       "      <td>4</td>\n",
       "      <td>2019</td>\n",
       "      <td>2</td>\n",
       "      <td>200</td>\n",
       "      <td>1774.00</td>\n",
       "      <td>0.259</td>\n",
       "      <td>CO</td>\n",
       "      <td>1</td>\n",
       "      <td>1</td>\n",
       "      <td>-1</td>\n",
       "      <td>8.8700</td>\n",
       "      <td>C24FCF-1-SFY-S                BOLTED HANGER, N...</td>\n",
       "    </tr>\n",
       "    <tr>\n",
       "      <th>2</th>\n",
       "      <td>010006</td>\n",
       "      <td>cfcf sfy bolted hanger nptf stud viton</td>\n",
       "      <td>10</td>\n",
       "      <td>4</td>\n",
       "      <td>2019</td>\n",
       "      <td>2</td>\n",
       "      <td>300</td>\n",
       "      <td>1848.00</td>\n",
       "      <td>0.276</td>\n",
       "      <td>CO</td>\n",
       "      <td>1</td>\n",
       "      <td>1</td>\n",
       "      <td>-1</td>\n",
       "      <td>6.1600</td>\n",
       "      <td>C24FCF-1 1/2-SFY-S            BOLTED HANGER, N...</td>\n",
       "    </tr>\n",
       "    <tr>\n",
       "      <th>3</th>\n",
       "      <td>010015</td>\n",
       "      <td>cfcf sfy bolted hanger nptf stud viton</td>\n",
       "      <td>1</td>\n",
       "      <td>1</td>\n",
       "      <td>2019</td>\n",
       "      <td>2</td>\n",
       "      <td>300</td>\n",
       "      <td>2115.00</td>\n",
       "      <td>0.318</td>\n",
       "      <td>SE</td>\n",
       "      <td>2</td>\n",
       "      <td>2</td>\n",
       "      <td>-1</td>\n",
       "      <td>7.0500</td>\n",
       "      <td>C24FCF-2-SFY-S                BOLTED HANGER, N...</td>\n",
       "    </tr>\n",
       "    <tr>\n",
       "      <th>4</th>\n",
       "      <td>010040</td>\n",
       "      <td>cfcf sfy bolted hanger nptf stud viton</td>\n",
       "      <td>1</td>\n",
       "      <td>1</td>\n",
       "      <td>2019</td>\n",
       "      <td>2</td>\n",
       "      <td>400</td>\n",
       "      <td>3119.00</td>\n",
       "      <td>0.363</td>\n",
       "      <td>CO</td>\n",
       "      <td>2</td>\n",
       "      <td>2</td>\n",
       "      <td>-1</td>\n",
       "      <td>7.7975</td>\n",
       "      <td>C24FCF-3-SFY-S                BOLTED HANGER, N...</td>\n",
       "    </tr>\n",
       "  </tbody>\n",
       "</table>\n",
       "</div>"
      ],
      "text/plain": [
       "  product_id                             description  month_mode  \\\n",
       "0     010004  cfcf sfy bolted hanger nptf stud viton           2   \n",
       "1     010005  cfcf sfy bolted hanger nptf stud viton          10   \n",
       "2     010006  cfcf sfy bolted hanger nptf stud viton          10   \n",
       "3     010015  cfcf sfy bolted hanger nptf stud viton           1   \n",
       "4     010040  cfcf sfy bolted hanger nptf stud viton           1   \n",
       "\n",
       "   quarter_mode  year_mode  day_week_mode  quantity_sum  price_sum  \\\n",
       "0             1       2020              2             6     232.92   \n",
       "1             4       2019              2           200    1774.00   \n",
       "2             4       2019              2           300    1848.00   \n",
       "3             1       2019              2           300    2115.00   \n",
       "4             1       2019              2           400    3119.00   \n",
       "\n",
       "   unit_weight customer_country_mode  customer_country_count  \\\n",
       "0        0.124                    DK                       1   \n",
       "1        0.259                    CO                       1   \n",
       "2        0.276                    CO                       1   \n",
       "3        0.318                    SE                       2   \n",
       "4        0.363                    CO                       2   \n",
       "\n",
       "   customer_id_count category  unit_price_mean  \\\n",
       "0                  1       -1          38.8200   \n",
       "1                  1       -1           8.8700   \n",
       "2                  1       -1           6.1600   \n",
       "3                  2       -1           7.0500   \n",
       "4                  2       -1           7.7975   \n",
       "\n",
       "                                description_original  \n",
       "0  C24FCF-1/2-SFY-S              BOLTED HANGER, N...  \n",
       "1  C24FCF-1-SFY-S                BOLTED HANGER, N...  \n",
       "2  C24FCF-1 1/2-SFY-S            BOLTED HANGER, N...  \n",
       "3  C24FCF-2-SFY-S                BOLTED HANGER, N...  \n",
       "4  C24FCF-3-SFY-S                BOLTED HANGER, N...  "
      ]
     },
     "execution_count": 37,
     "metadata": {},
     "output_type": "execute_result"
    }
   ],
   "source": [
    "df.head()"
   ]
  },
  {
   "cell_type": "code",
   "execution_count": 3,
   "metadata": {},
   "outputs": [
    {
     "name": "stderr",
     "output_type": "stream",
     "text": [
      "Batches:  17%|█▋        | 185/1100 [00:38<02:33,  5.95it/s]"
     ]
    }
   ],
   "source": [
    "from sentence_transformers import SentenceTransformer\n",
    "from bertopic import BERTopic\n",
    "\n",
    "# 1. Pre-calculate embeddings\n",
    "embedding_model = SentenceTransformer(\"all-MiniLM-L6-v2\")\n",
    "embeddings = embedding_model.encode(df['description'].tolist(), show_progress_bar=True)\n"
   ]
  },
  {
   "cell_type": "code",
   "execution_count": null,
   "metadata": {},
   "outputs": [],
   "source": [
    "# adjust umap parameters\n",
    "# default parameters: n_neighbors=15, n_components=5, min_dist=0.0, metric='cosine', random_state=None\n",
    "umap_model = UMAP(n_neighbors=200, # tune\n",
    "                  n_components=5, # fixed\n",
    "                  metric='cosine', # fixed\n",
    "                  random_state=42)"
   ]
  },
  {
   "cell_type": "code",
   "execution_count": null,
   "metadata": {},
   "outputs": [],
   "source": [
    "# default -> min_cluster_size=10, min_samples=min_cluster_size\n",
    "hdbscan_model = hdbscan.HDBSCAN(min_cluster_size=50, # tune\n",
    "                                min_samples=10, # tune\n",
    "                                prediction_data=True)"
   ]
  },
  {
   "cell_type": "code",
   "execution_count": null,
   "metadata": {},
   "outputs": [
    {
     "name": "stderr",
     "output_type": "stream",
     "text": [
      "OMP: Info #276: omp_set_nested routine deprecated, please use omp_set_max_active_levels instead.\n",
      "2023-10-05 19:17:46,701 - BERTopic - Reduced dimensionality\n"
     ]
    },
    {
     "name": "stdout",
     "output_type": "stream",
     "text": [
      "huggingface/tokenizers: The current process just got forked, after parallelism has already been used. Disabling parallelism to avoid deadlocks...\n",
      "To disable this warning, you can either:\n",
      "\t- Avoid using `tokenizers` before the fork if possible\n",
      "\t- Explicitly set the environment variable TOKENIZERS_PARALLELISM=(true | false)\n",
      "huggingface/tokenizers: The current process just got forked, after parallelism has already been used. Disabling parallelism to avoid deadlocks...\n",
      "To disable this warning, you can either:\n",
      "\t- Avoid using `tokenizers` before the fork if possible\n",
      "\t- Explicitly set the environment variable TOKENIZERS_PARALLELISM=(true | false)\n",
      "huggingface/tokenizers: The current process just got forked, after parallelism has already been used. Disabling parallelism to avoid deadlocks...\n",
      "To disable this warning, you can either:\n",
      "\t- Avoid using `tokenizers` before the fork if possible\n",
      "\t- Explicitly set the environment variable TOKENIZERS_PARALLELISM=(true | false)\n",
      "huggingface/tokenizers: The current process just got forked, after parallelism has already been used. Disabling parallelism to avoid deadlocks...\n",
      "To disable this warning, you can either:\n",
      "\t- Avoid using `tokenizers` before the fork if possible\n",
      "\t- Explicitly set the environment variable TOKENIZERS_PARALLELISM=(true | false)\n",
      "huggingface/tokenizers: The current process just got forked, after parallelism has already been used. Disabling parallelism to avoid deadlocks...\n",
      "To disable this warning, you can either:\n",
      "\t- Avoid using `tokenizers` before the fork if possible\n",
      "\t- Explicitly set the environment variable TOKENIZERS_PARALLELISM=(true | false)\n"
     ]
    },
    {
     "name": "stderr",
     "output_type": "stream",
     "text": [
      "2023-10-05 19:17:48,600 - BERTopic - Clustered reduced embeddings\n",
      "2023-10-05 19:17:49,109 - BERTopic - Reduced number of topics from 288 to 136\n"
     ]
    }
   ],
   "source": [
    "# 2. Initialize BERTopic Model\n",
    "model = BERTopic(language=\"english\", \n",
    "                calculate_probabilities=False, \n",
    "                verbose=True, \n",
    "                nr_topics=\"auto\", # fixed\n",
    "                min_topic_size=500, # tune\n",
    "                top_n_words=10, # fixed\n",
    "                umap_model=umap_model,\n",
    "                hdbscan_model=hdbscan_model)\n",
    "\n",
    "# 3. Fit the Model to the pre-calculated embeddings and assign the discovered topics back to DataFrame\n",
    "topics, _ = model.fit_transform(df['description'].tolist(), embeddings=embeddings)\n",
    "df['topic'] = topics\n",
    "\n",
    "\n",
    "# 4. If needed, extract topic representation\n",
    "topic_representation = model.get_topic_info()\n",
    "topic_documents = model.get_document_info(df['description'])"
   ]
  },
  {
   "cell_type": "code",
   "execution_count": null,
   "metadata": {},
   "outputs": [
    {
     "data": {
      "application/vnd.plotly.v1+json": {
       "config": {
        "plotlyServerURL": "https://plot.ly"
       },
       "data": [
        {
         "marker": {
          "color": "#D55E00"
         },
         "orientation": "h",
         "type": "bar",
         "x": [
          0.03185454821121168,
          0.03209500873407327,
          0.04635737508335018,
          0.051545299888542305,
          0.05175968107759774,
          0.052560435608216646,
          0.052907538694544495,
          0.05624261835665921,
          0.05710358966631468,
          0.06783193334126927
         ],
         "xaxis": "x",
         "y": [
          "shroud  ",
          "sms  ",
          "legs  ",
          "screw  ",
          "lkh  ",
          "seal  ",
          "pump  ",
          "hz  ",
          "kw  ",
          "sic  "
         ],
         "yaxis": "y"
        },
        {
         "marker": {
          "color": "#0072B2"
         },
         "orientation": "h",
         "type": "bar",
         "x": [
          0.04683236381282683,
          0.04723409613860019,
          0.058046185995706184,
          0.05831660474179066,
          0.06287602486920353,
          0.07141236077840199,
          0.08573337881872484,
          0.09127865671282591,
          0.10107430986938495,
          0.12215880953834957
         ],
         "xaxis": "x2",
         "y": [
          "pipe  ",
          "tz  ",
          "npt  ",
          "tjg  ",
          "gear  ",
          "shaft  ",
          "sanitary  ",
          "bearing  ",
          "item  ",
          "gj  "
         ],
         "yaxis": "y2"
        },
        {
         "marker": {
          "color": "#CC79A7"
         },
         "orientation": "h",
         "type": "bar",
         "x": [
          0.04123959596405333,
          0.042638686821028345,
          0.044159265994840734,
          0.04925208251836986,
          0.06626659633215526,
          0.08263501347401755,
          0.08735588823829606,
          0.08818497396586567,
          0.10336913247112772,
          0.11961426689075876
         ],
         "xaxis": "x3",
         "y": [
          "epdm  ",
          "shut  ",
          "tri  ",
          "cla  ",
          "blasted  ",
          "maintainable  ",
          "change  ",
          "nc  ",
          "inch  ",
          "ssv  "
         ],
         "yaxis": "y3"
        },
        {
         "marker": {
          "color": "#E69F00"
         },
         "orientation": "h",
         "type": "bar",
         "x": [
          0.058354535654304214,
          0.058712831390565955,
          0.07210525920983514,
          0.09145222856113029,
          0.096299053052294,
          0.10281175835228956,
          0.10449285594968269,
          0.10640730421645324,
          0.19810177078899097,
          0.2310855873214752
         ],
         "xaxis": "x4",
         "y": [
          "tube  ",
          "reducer  ",
          "rtk  ",
          "conc  ",
          "dn  ",
          "din  ",
          "rk  ",
          "tee  ",
          "red  ",
          "hsf  "
         ],
         "yaxis": "y4"
        },
        {
         "marker": {
          "color": "#56B4E9"
         },
         "orientation": "h",
         "type": "bar",
         "x": [
          0.06184863606910904,
          0.06612053713839579,
          0.07940614630997345,
          0.08288520370945941,
          0.08933071135817479,
          0.09347517528913281,
          0.10067785022838645,
          0.11571539181123233,
          0.11965564420002416,
          0.12469983380783208
         ],
         "xaxis": "x5",
         "y": [
          "flush  ",
          "iso  ",
          "weld  ",
          "pol  ",
          "balanced  ",
          "cp  ",
          "inside  ",
          "welded  ",
          "ends  ",
          "mixproof  "
         ],
         "yaxis": "y5"
        },
        {
         "marker": {
          "color": "#009E73"
         },
         "orientation": "h",
         "type": "bar",
         "x": [
          0.023046566437835796,
          0.027718867456688355,
          0.028478525477195208,
          0.031249099038544295,
          0.04509544033042958,
          0.05164793246946145,
          0.08764886011435974,
          0.0894947503349575,
          0.2178624669921681,
          0.5342136069418888
         ],
         "xaxis": "x6",
         "y": [
          "indicator  ",
          "fda  ",
          "chem  ",
          "retaining  ",
          "joint  ",
          "epdm  ",
          "fpm  ",
          "fep  ",
          "nbr  ",
          "ring  "
         ],
         "yaxis": "y6"
        },
        {
         "marker": {
          "color": "#F0E442"
         },
         "orientation": "h",
         "type": "bar",
         "x": [
          0.0632270896890508,
          0.08967596179174106,
          0.10398890831548746,
          0.11871500747820045,
          0.12369658560788781,
          0.12501597812116325,
          0.17048451037205228,
          0.1728649731828851,
          0.17364729809353616,
          0.1922776714496333
         ],
         "xaxis": "x7",
         "y": [
          "iso  ",
          "polished  ",
          "basic  ",
          "lo  ",
          "seat  ",
          "lower  ",
          "cip  ",
          "clean  ",
          "none  ",
          "bal  "
         ],
         "yaxis": "y7"
        },
        {
         "marker": {
          "color": "#D55E00"
         },
         "orientation": "h",
         "type": "bar",
         "x": [
          0.043367902546454826,
          0.05610462800761225,
          0.06540081179876561,
          0.06746892965702796,
          0.08141532484684078,
          0.0985074255806036,
          0.10167459283223974,
          0.10640362062664735,
          0.11089865896822368,
          0.13166266855400602
         ],
         "xaxis": "x8",
         "y": [
          "silicone  ",
          "nctt  ",
          "size  ",
          "type  ",
          "valve  ",
          "membrane  ",
          "sampling  ",
          "sample  ",
          "sbv  ",
          "ball  "
         ],
         "yaxis": "y8"
        },
        {
         "marker": {
          "color": "#0072B2"
         },
         "orientation": "h",
         "type": "bar",
         "x": [
          0.073011679830058,
          0.07973909464926913,
          0.09858360485682603,
          0.10376004567376072,
          0.11979202434219928,
          0.12023602055623124,
          0.12978144219532908,
          0.1301969333550519,
          0.1350392163983921,
          0.1472481989556005
         ],
         "xaxis": "x9",
         "y": [
          "pneu  ",
          "bpe  ",
          "asme  ",
          "cl  ",
          "qdoc  ",
          "sf  ",
          "man  ",
          "st  ",
          "fgd  ",
          "dv  "
         ],
         "yaxis": "y9"
        },
        {
         "marker": {
          "color": "#CC79A7"
         },
         "orientation": "h",
         "type": "bar",
         "x": [
          0.06414076452712313,
          0.07018630240202857,
          0.07053088562826078,
          0.07675119186706929,
          0.08824475618855872,
          0.09043903550692467,
          0.1166860868756903,
          0.18556259824171278,
          0.19105942067504542,
          0.21051347460459377
         ],
         "xaxis": "x10",
         "y": [
          "weldiso  ",
          "bpe  ",
          "clipon  ",
          "weldbpe  ",
          "qdoc  ",
          "clip  ",
          "ex  ",
          "sanimicro  ",
          "sanimagnum  ",
          "sanimidget  "
         ],
         "yaxis": "y10"
        },
        {
         "marker": {
          "color": "#E69F00"
         },
         "orientation": "h",
         "type": "bar",
         "x": [
          0.04642234015589065,
          0.05879735639010091,
          0.0708622860712028,
          0.07348217073079877,
          0.0779114175207274,
          0.09062217628140577,
          0.09324295203419784,
          0.10591271274293464,
          0.11304081319961459,
          0.11970677361111035
         ],
         "xaxis": "x11",
         "y": [
          "aseptic  ",
          "kit  ",
          "service  ",
          "stroke  ",
          "long  ",
          "change  ",
          "shut  ",
          "ssv  ",
          "plug  ",
          "tr  "
         ],
         "yaxis": "y11"
        },
        {
         "marker": {
          "color": "#56B4E9"
         },
         "orientation": "h",
         "type": "bar",
         "x": [
          0.052332007459384135,
          0.05373152684505481,
          0.0557756772069149,
          0.05667678954783877,
          0.0646824742109557,
          0.06612387064654734,
          0.0687398592767108,
          0.0714907291000538,
          0.15309271744959957,
          0.24636037882730202
         ],
         "xaxis": "x12",
         "y": [
          "two  ",
          "positioner  ",
          "ssv  ",
          "shut  ",
          "nc  ",
          "step  ",
          "tr  ",
          "maintainable  ",
          "ch  ",
          "actuator  "
         ],
         "yaxis": "y12"
        },
        {
         "marker": {
          "color": "#009E73"
         },
         "orientation": "h",
         "type": "bar",
         "x": [
          0.03768082395050882,
          0.03793556965508828,
          0.04301441538150165,
          0.04427942070685179,
          0.04449289153963898,
          0.0513467161227837,
          0.051733424745545493,
          0.07763361260353561,
          0.08361957162020706,
          0.28405965322308174
         ],
         "xaxis": "x13",
         "y": [
          "lkb  ",
          "ferrule  ",
          "lam  ",
          "ra  ",
          "lkc  ",
          "clamps  ",
          "od  ",
          "ultrapure  ",
          "id  ",
          "clamp  "
         ],
         "yaxis": "y13"
        },
        {
         "marker": {
          "color": "#F0E442"
         },
         "orientation": "h",
         "type": "bar",
         "x": [
          0.072582426395446,
          0.07726709627935394,
          0.0951002799328327,
          0.09650188969563571,
          0.10260519747126194,
          0.17789381872540003,
          0.1859859786352939,
          0.20309505462616181,
          0.20632275192701785,
          0.2119765950931954
         ],
         "xaxis": "x14",
         "y": [
          "ra  ",
          "tc  ",
          "wxw  ",
          "pol  ",
          "eccred  ",
          "raep  ",
          "pm  ",
          "sf  ",
          "bpe  ",
          "pl  "
         ],
         "yaxis": "y14"
        },
        {
         "marker": {
          "color": "#D55E00"
         },
         "orientation": "h",
         "type": "bar",
         "x": [
          0.06557413379736238,
          0.0667646634371104,
          0.06899875884211117,
          0.07453975164932441,
          0.08596304974103591,
          0.10624161865527837,
          0.11447030603909966,
          0.1327428288273726,
          0.15725533655835525,
          0.1669516018239938
         ],
         "xaxis": "x15",
         "y": [
          "nd  ",
          "compl  ",
          "bright  ",
          "long  ",
          "union  ",
          "nw  ",
          "raw  ",
          "bend  ",
          "mat  ",
          "welding  "
         ],
         "yaxis": "y15"
        },
        {
         "marker": {
          "color": "#0072B2"
         },
         "orientation": "h",
         "type": "bar",
         "x": [
          0.0278276117661962,
          0.031312715618648235,
          0.07017679306635005,
          0.07436902930631129,
          0.08196515235535554,
          0.08267261346191934,
          0.1031037776580584,
          0.12185961486726635,
          0.13066206103350772,
          0.26332654899193575
         ],
         "xaxis": "x16",
         "y": [
          "valve  ",
          "weld  ",
          "change  ",
          "blasted  ",
          "shut  ",
          "nc  ",
          "maintainable  ",
          "inch  ",
          "ssv  ",
          "hnbr  "
         ],
         "yaxis": "y16"
        },
        {
         "marker": {
          "color": "#CC79A7"
         },
         "orientation": "h",
         "type": "bar",
         "x": [
          0.060119793017102414,
          0.06570309659549287,
          0.07405900233106817,
          0.07743938855890481,
          0.08896128410973303,
          0.09407305579830852,
          0.1391106821702314,
          0.1449963909141237,
          0.1831132285355298,
          0.596360993666517
         ],
         "xaxis": "x17",
         "y": [
          "screw  ",
          "lkhp  ",
          "lkhup  ",
          "speciel  ",
          "heat  ",
          "trace  ",
          "lkh  ",
          "evap  ",
          "special  ",
          "impeller  "
         ],
         "yaxis": "y17"
        },
        {
         "marker": {
          "color": "#E69F00"
         },
         "orientation": "h",
         "type": "bar",
         "x": [
          0.15567520804358947,
          0.18987614685628706,
          0.19214727924808797,
          0.2010929314691907,
          0.20274238839870845,
          0.225401963345651,
          0.23487343839137698,
          0.2577443964501899,
          0.2604193054101199,
          0.27492397882340763
         ],
         "xaxis": "x18",
         "y": [
          "pdp  ",
          "alt  ",
          "gp  ",
          "sanitary  ",
          "gc  ",
          "altb  ",
          "edp  ",
          "lf  ",
          "agitator  ",
          "als  "
         ],
         "yaxis": "y18"
        },
        {
         "marker": {
          "color": "#56B4E9"
         },
         "orientation": "h",
         "type": "bar",
         "x": [
          0.08219045764948633,
          0.08670799237568896,
          0.09353596381301585,
          0.09872950594505747,
          0.10851171006113837,
          0.10963479621148745,
          0.10971116228634221,
          0.15423829174132517,
          0.1728407518335773,
          0.5178511530309526
         ],
         "xaxis": "x19",
         "y": [
          "std  ",
          "gskt  ",
          "viton  ",
          "buna  ",
          "mpf  ",
          "mp  ",
          "sfy  ",
          "flanged  ",
          "tc  ",
          "gasket  "
         ],
         "yaxis": "y19"
        },
        {
         "marker": {
          "color": "#009E73"
         },
         "orientation": "h",
         "type": "bar",
         "x": [
          0.0954768330963633,
          0.11151040517209873,
          0.11664053881057182,
          0.12013369594578426,
          0.1276776835682416,
          0.13595040496730063,
          0.1542484492185321,
          0.16734461772921935,
          0.16953903898021125,
          0.24504200147811814
         ],
         "xaxis": "x20",
         "y": [
          "interface  ",
          "npn  ",
          "cable  ",
          "top  ",
          "sensor  ",
          "thinktop  ",
          "think  ",
          "digital  ",
          "pnp  ",
          "vdc  "
         ],
         "yaxis": "y20"
        },
        {
         "marker": {
          "color": "#F0E442"
         },
         "orientation": "h",
         "type": "bar",
         "x": [
          0.04460496892717351,
          0.04671266876614248,
          0.056568842645560564,
          0.06868638814516753,
          0.07453789356279358,
          0.07806488336078363,
          0.08911344522825028,
          0.10953610725460064,
          0.1827541613078092,
          0.21090664991284142
         ],
         "xaxis": "x21",
         "y": [
          "smp  ",
          "ffkm  ",
          "lkc  ",
          "smo  ",
          "src  ",
          "fpm  ",
          "nbr  ",
          "nw  ",
          "kit  ",
          "service  "
         ],
         "yaxis": "y21"
        },
        {
         "marker": {
          "color": "#D55E00"
         },
         "orientation": "h",
         "type": "bar",
         "x": [
          0.04629750038197842,
          0.0528242694837005,
          0.053967246272793354,
          0.05692626148657002,
          0.05781921360685215,
          0.0661786782540177,
          0.10318006314845374,
          0.10619547583166379,
          0.1193820902398156,
          0.2975982524743216
         ],
         "xaxis": "x22",
         "y": [
          "tank  ",
          "stub  ",
          "flange  ",
          "valve  ",
          "sc  ",
          "bc  ",
          "set  ",
          "nw  ",
          "smp  ",
          "plug  "
         ],
         "yaxis": "y22"
        },
        {
         "marker": {
          "color": "#0072B2"
         },
         "orientation": "h",
         "type": "bar",
         "x": [
          0.07525390227533847,
          0.07907389902017364,
          0.08226742836554998,
          0.08837200533050787,
          0.0916167403165105,
          0.09335063323156835,
          0.09766616624584663,
          0.11640205045613143,
          0.1279824292474249,
          0.22863660726379154
         ],
         "xaxis": "x23",
         "y": [
          "imtermediate  ",
          "without  ",
          "set  ",
          "actuator  ",
          "upper  ",
          "intermediate  ",
          "plug  ",
          "body  ",
          "piece  ",
          "mixproof  "
         ],
         "yaxis": "y23"
        },
        {
         "marker": {
          "color": "#CC79A7"
         },
         "orientation": "h",
         "type": "bar",
         "x": [
          0.0511051625058097,
          0.05709066941641216,
          0.057593783975844165,
          0.05928284689606222,
          0.06289254116580753,
          0.07103402928733714,
          0.07851351003973815,
          0.11458713265705006,
          0.16440401817134612,
          0.19179916996471677
         ],
         "xaxis": "x24",
         "y": [
          "overall  ",
          "lkc  ",
          "arc  ",
          "serv  ",
          "epdm  ",
          "src  ",
          "smp  ",
          "nw  ",
          "kit  ",
          "service  "
         ],
         "yaxis": "y24"
        },
        {
         "marker": {
          "color": "#E69F00"
         },
         "orientation": "h",
         "type": "bar",
         "x": [
          0.06377448367909698,
          0.06591472555326522,
          0.06665277740111532,
          0.07008532253930286,
          0.07953403030396329,
          0.10730226847942764,
          0.1183747306564955,
          0.1971092672595494,
          0.2038126435786054,
          0.27518663769613566
         ],
         "xaxis": "x25",
         "y": [
          "manual  ",
          "blasted  ",
          "customized  ",
          "dn  ",
          "aseptic  ",
          "lkd  ",
          "ssv  ",
          "shut  ",
          "lkdc  ",
          "manhole  "
         ],
         "yaxis": "y25"
        },
        {
         "marker": {
          "color": "#56B4E9"
         },
         "orientation": "h",
         "type": "bar",
         "x": [
          0.07460444449512237,
          0.08588801164005033,
          0.09296556969780069,
          0.10829905225705702,
          0.11966218551299977,
          0.13291247322456995,
          0.1487990673600813,
          0.2583020569705378,
          0.4338849568775673,
          0.5174830456183626
         ],
         "xaxis": "x26",
         "y": [
          "blindcap  ",
          "fittings  ",
          "lkgg  ",
          "lks  ",
          "minivision  ",
          "flexbody  ",
          "line  ",
          "sightglass  ",
          "sight  ",
          "glass  "
         ],
         "yaxis": "y26"
        },
        {
         "marker": {
          "color": "#009E73"
         },
         "orientation": "h",
         "type": "bar",
         "x": [
          0.026757749101372862,
          0.03979812672788979,
          0.05532101344380169,
          0.06159970484742519,
          0.07694790317351453,
          0.09882501720218456,
          0.1864015701593643,
          0.25465613709669277,
          0.28196949615094924,
          0.3032187166062685
         ],
         "xaxis": "x27",
         "y": [
          "din  ",
          "epdm  ",
          "blasted  ",
          "valve  ",
          "nc  ",
          "weld  ",
          "st  ",
          "kv  ",
          "rv  ",
          "regulating  "
         ],
         "yaxis": "y27"
        },
        {
         "marker": {
          "color": "#F0E442"
         },
         "orientation": "h",
         "type": "bar",
         "x": [
          0.042280302153920486,
          0.04452025152041144,
          0.04600738735953047,
          0.04830708383765152,
          0.04960894853408303,
          0.0550023184775656,
          0.06963055452841246,
          0.0721043443088862,
          0.16674576683462772,
          0.48482424198699425
         ],
         "xaxis": "x28",
         "y": [
          "gm  ",
          "solidc  ",
          "tri  ",
          "clamp  ",
          "cover  ",
          "yeast  ",
          "lkh  ",
          "mr  ",
          "pump  ",
          "casing  "
         ],
         "yaxis": "y28"
        },
        {
         "marker": {
          "color": "#D55E00"
         },
         "orientation": "h",
         "type": "bar",
         "x": [
          0.04929026140487159,
          0.0584934338063386,
          0.06955247638754158,
          0.08474113308792491,
          0.134820081612676,
          0.1995480485659988,
          0.30156617366963373,
          0.3334457526166265,
          0.505607764100986,
          0.5393991826472359
         ],
         "xaxis": "x29",
         "y": [
          "inlet  ",
          "saleable  ",
          "psi  ",
          "connection  ",
          "clock  ",
          "gauge  ",
          "tank  ",
          "bar  ",
          "regulator  ",
          "pressure  "
         ],
         "yaxis": "y29"
        },
        {
         "marker": {
          "color": "#0072B2"
         },
         "orientation": "h",
         "type": "bar",
         "x": [
          0.0719031127103221,
          0.08670878812150928,
          0.08986888137470267,
          0.09027507761145401,
          0.09696600583659683,
          0.09895365155272609,
          0.1098855658886226,
          0.14006289068170552,
          0.16682944611794925,
          0.6680275152848592
         ],
         "xaxis": "x30",
         "y": [
          "holder  ",
          "thread  ",
          "button  ",
          "facing  ",
          "ptfe  ",
          "tfm  ",
          "st  ",
          "dv  ",
          "bayonet  ",
          "diaphragm  "
         ],
         "yaxis": "y30"
        },
        {
         "marker": {
          "color": "#CC79A7"
         },
         "orientation": "h",
         "type": "bar",
         "x": [
          0.05775754481074188,
          0.06644325687020981,
          0.0683620618332179,
          0.09737349694215854,
          0.11072650084013969,
          0.15793108217726873,
          0.2382202835449028,
          0.2767758422177072,
          0.35245380906636853,
          1.008767272542528
         ],
         "xaxis": "x31",
         "y": [
          "retainer  ",
          "retention  ",
          "rubber  ",
          "duracirc  ",
          "ng  ",
          "cover  ",
          "sx  ",
          "rotorcase  ",
          "sr  ",
          "rotor  "
         ],
         "yaxis": "y31"
        },
        {
         "marker": {
          "color": "#E69F00"
         },
         "orientation": "h",
         "type": "bar",
         "x": [
          0.04005835810188504,
          0.05424194588334532,
          0.055676962286446745,
          0.0606724203657487,
          0.0737620693887501,
          0.16432381328529497,
          0.19461042473710524,
          0.23573865407485414,
          0.2363494681424047,
          0.4055647948761994
         ],
         "xaxis": "x32",
         "y": [
          "uniuqe  ",
          "hnbr  ",
          "samson  ",
          "ssv  ",
          "valve  ",
          "spc  ",
          "regulating  ",
          "plug  ",
          "rv  ",
          "kv  "
         ],
         "yaxis": "y32"
        },
        {
         "marker": {
          "color": "#56B4E9"
         },
         "orientation": "h",
         "type": "bar",
         "x": [
          0.10962844185233653,
          0.13661156211213357,
          0.14934965209306572,
          0.1719029581032843,
          0.17353011714259697,
          0.41142727452763406,
          0.4641350367636429,
          0.5187405834885529,
          0.5923481403929372,
          0.594173002811388
         ],
         "xaxis": "x33",
         "y": [
          "diameter  ",
          "xio  ",
          "similar  ",
          "lkd  ",
          "handle  ",
          "lkdc  ",
          "port  ",
          "inspection  ",
          "access  ",
          "personnel  "
         ],
         "yaxis": "y33"
        },
        {
         "marker": {
          "color": "#009E73"
         },
         "orientation": "h",
         "type": "bar",
         "x": [
          0.12223127396445727,
          0.14253329712073767,
          0.15783584169407816,
          0.16034995926082987,
          0.1994399913794062,
          0.2276507788790277,
          0.2347638840492796,
          0.2989625406405159,
          0.4052501645833964,
          0.44160086214046734
         ],
         "xaxis": "x34",
         "y": [
          "kpa  ",
          "cal  ",
          "bottom  ",
          "back  ",
          "clamp  ",
          "dial  ",
          "aisil  ",
          "psi  ",
          "bar  ",
          "pg  "
         ],
         "yaxis": "y34"
        },
        {
         "marker": {
          "color": "#F0E442"
         },
         "orientation": "h",
         "type": "bar",
         "x": [
          0.12877179683587348,
          0.13073353860344952,
          0.15610345667503492,
          0.17564194020192223,
          0.17937107245003822,
          0.24502392634393444,
          0.2712569501131775,
          0.2916928284439457,
          0.3450914099876761,
          0.5083407809140643
         ],
         "xaxis": "x35",
         "y": [
          "bottom  ",
          "tip  ",
          "fs  ",
          "cal  ",
          "pt  ",
          "clamp  ",
          "gland  ",
          "dial  ",
          "tg  ",
          "cm  "
         ],
         "yaxis": "y35"
        },
        {
         "marker": {
          "color": "#D55E00"
         },
         "orientation": "h",
         "type": "bar",
         "x": [
          0.010868289762506396,
          0.011650678690468463,
          0.012448523862408406,
          0.027814256028068616,
          0.11430311848871016,
          0.41746515780225685,
          0.48309478571732806,
          0.5604826750363838,
          0.6501341999908303,
          0.6647245087107548
         ],
         "xaxis": "x36",
         "y": [
          "cff  ",
          "nbr  ",
          "flushable  ",
          "fpm  ",
          "cl  ",
          "bl  ",
          "welding  ",
          "strainer  ",
          "slot  ",
          "lksf  "
         ],
         "yaxis": "y36"
        },
        {
         "marker": {
          "color": "#0072B2"
         },
         "orientation": "h",
         "type": "bar",
         "x": [
          0.12968584732902297,
          0.14669449450003286,
          0.1477368560507622,
          0.162017060540229,
          0.1717850054260285,
          0.3154024902900147,
          0.32946809735918414,
          0.33065937470377715,
          0.36204699077835967,
          0.42284313899617143
         ],
         "xaxis": "x37",
         "y": [
          "asmebpe  ",
          "bpe  ",
          "part  ",
          "asme  ",
          "mp  ",
          "ped  ",
          "line  ",
          "iy  ",
          "pharma  ",
          "dindndn  "
         ],
         "yaxis": "y37"
        },
        {
         "marker": {
          "color": "#CC79A7"
         },
         "orientation": "h",
         "type": "bar",
         "x": [
          0.07671482149184937,
          0.0819478279228611,
          0.10132524579042711,
          0.1053097324220256,
          0.1433438140630036,
          0.1903390889655489,
          0.20658229043815407,
          0.2605777926329116,
          0.32608178375779234,
          0.4139848666559324
         ],
         "xaxis": "x38",
         "y": [
          "asme  ",
          "cl  ",
          "fgd  ",
          "bpe  ",
          "fdg  ",
          "forged  ",
          "st  ",
          "dv  ",
          "body  ",
          "mark  "
         ],
         "yaxis": "y38"
        },
        {
         "marker": {
          "color": "#E69F00"
         },
         "orientation": "h",
         "type": "bar",
         "x": [
          0.026768678220515124,
          0.038472638632981046,
          0.04177586359464359,
          0.09361053750207396,
          0.0962384146224141,
          0.10918355121223304,
          0.1132604678356292,
          0.17649553218704228,
          0.2505153467191723,
          0.31703337006766974
         ],
         "xaxis": "x39",
         "y": [
          "yoke  ",
          "butterflyvalve  ",
          "cbfv  ",
          "dn  ",
          "nl  ",
          "cl  ",
          "valve  ",
          "hnbr  ",
          "lkb  ",
          "butterfly  "
         ],
         "yaxis": "y39"
        },
        {
         "marker": {
          "color": "#56B4E9"
         },
         "orientation": "h",
         "type": "bar",
         "x": [
          0.08956454983941414,
          0.12173155872351868,
          0.12855678156956366,
          0.13489197678838274,
          0.14045949083482925,
          0.14383857777731923,
          0.14796424102791647,
          0.19711878709556035,
          0.48106651965271324,
          0.6357611853189211
         ],
         "xaxis": "x40",
         "y": [
          "bright  ",
          "logo  ",
          "blue  ",
          "soft  ",
          "vinyl  ",
          "plastic  ",
          "chain  ",
          "amp  ",
          "end  ",
          "cap  "
         ],
         "yaxis": "y40"
        }
       ],
       "layout": {
        "annotations": [
         {
          "font": {
           "size": 16
          },
          "showarrow": false,
          "text": "Topic 0",
          "x": 0.0875,
          "xanchor": "center",
          "xref": "paper",
          "y": 1,
          "yanchor": "bottom",
          "yref": "paper"
         },
         {
          "font": {
           "size": 16
          },
          "showarrow": false,
          "text": "Topic 1",
          "x": 0.36250000000000004,
          "xanchor": "center",
          "xref": "paper",
          "y": 1,
          "yanchor": "bottom",
          "yref": "paper"
         },
         {
          "font": {
           "size": 16
          },
          "showarrow": false,
          "text": "Topic 2",
          "x": 0.6375000000000001,
          "xanchor": "center",
          "xref": "paper",
          "y": 1,
          "yanchor": "bottom",
          "yref": "paper"
         },
         {
          "font": {
           "size": 16
          },
          "showarrow": false,
          "text": "Topic 3",
          "x": 0.9125,
          "xanchor": "center",
          "xref": "paper",
          "y": 1,
          "yanchor": "bottom",
          "yref": "paper"
         },
         {
          "font": {
           "size": 16
          },
          "showarrow": false,
          "text": "Topic 4",
          "x": 0.0875,
          "xanchor": "center",
          "xref": "paper",
          "y": 0.8960000000000001,
          "yanchor": "bottom",
          "yref": "paper"
         },
         {
          "font": {
           "size": 16
          },
          "showarrow": false,
          "text": "Topic 5",
          "x": 0.36250000000000004,
          "xanchor": "center",
          "xref": "paper",
          "y": 0.8960000000000001,
          "yanchor": "bottom",
          "yref": "paper"
         },
         {
          "font": {
           "size": 16
          },
          "showarrow": false,
          "text": "Topic 6",
          "x": 0.6375000000000001,
          "xanchor": "center",
          "xref": "paper",
          "y": 0.8960000000000001,
          "yanchor": "bottom",
          "yref": "paper"
         },
         {
          "font": {
           "size": 16
          },
          "showarrow": false,
          "text": "Topic 7",
          "x": 0.9125,
          "xanchor": "center",
          "xref": "paper",
          "y": 0.8960000000000001,
          "yanchor": "bottom",
          "yref": "paper"
         },
         {
          "font": {
           "size": 16
          },
          "showarrow": false,
          "text": "Topic 8",
          "x": 0.0875,
          "xanchor": "center",
          "xref": "paper",
          "y": 0.792,
          "yanchor": "bottom",
          "yref": "paper"
         },
         {
          "font": {
           "size": 16
          },
          "showarrow": false,
          "text": "Topic 9",
          "x": 0.36250000000000004,
          "xanchor": "center",
          "xref": "paper",
          "y": 0.792,
          "yanchor": "bottom",
          "yref": "paper"
         },
         {
          "font": {
           "size": 16
          },
          "showarrow": false,
          "text": "Topic 10",
          "x": 0.6375000000000001,
          "xanchor": "center",
          "xref": "paper",
          "y": 0.792,
          "yanchor": "bottom",
          "yref": "paper"
         },
         {
          "font": {
           "size": 16
          },
          "showarrow": false,
          "text": "Topic 11",
          "x": 0.9125,
          "xanchor": "center",
          "xref": "paper",
          "y": 0.792,
          "yanchor": "bottom",
          "yref": "paper"
         },
         {
          "font": {
           "size": 16
          },
          "showarrow": false,
          "text": "Topic 12",
          "x": 0.0875,
          "xanchor": "center",
          "xref": "paper",
          "y": 0.688,
          "yanchor": "bottom",
          "yref": "paper"
         },
         {
          "font": {
           "size": 16
          },
          "showarrow": false,
          "text": "Topic 13",
          "x": 0.36250000000000004,
          "xanchor": "center",
          "xref": "paper",
          "y": 0.688,
          "yanchor": "bottom",
          "yref": "paper"
         },
         {
          "font": {
           "size": 16
          },
          "showarrow": false,
          "text": "Topic 14",
          "x": 0.6375000000000001,
          "xanchor": "center",
          "xref": "paper",
          "y": 0.688,
          "yanchor": "bottom",
          "yref": "paper"
         },
         {
          "font": {
           "size": 16
          },
          "showarrow": false,
          "text": "Topic 15",
          "x": 0.9125,
          "xanchor": "center",
          "xref": "paper",
          "y": 0.688,
          "yanchor": "bottom",
          "yref": "paper"
         },
         {
          "font": {
           "size": 16
          },
          "showarrow": false,
          "text": "Topic 16",
          "x": 0.0875,
          "xanchor": "center",
          "xref": "paper",
          "y": 0.5840000000000001,
          "yanchor": "bottom",
          "yref": "paper"
         },
         {
          "font": {
           "size": 16
          },
          "showarrow": false,
          "text": "Topic 17",
          "x": 0.36250000000000004,
          "xanchor": "center",
          "xref": "paper",
          "y": 0.5840000000000001,
          "yanchor": "bottom",
          "yref": "paper"
         },
         {
          "font": {
           "size": 16
          },
          "showarrow": false,
          "text": "Topic 18",
          "x": 0.6375000000000001,
          "xanchor": "center",
          "xref": "paper",
          "y": 0.5840000000000001,
          "yanchor": "bottom",
          "yref": "paper"
         },
         {
          "font": {
           "size": 16
          },
          "showarrow": false,
          "text": "Topic 19",
          "x": 0.9125,
          "xanchor": "center",
          "xref": "paper",
          "y": 0.5840000000000001,
          "yanchor": "bottom",
          "yref": "paper"
         },
         {
          "font": {
           "size": 16
          },
          "showarrow": false,
          "text": "Topic 20",
          "x": 0.0875,
          "xanchor": "center",
          "xref": "paper",
          "y": 0.48000000000000004,
          "yanchor": "bottom",
          "yref": "paper"
         },
         {
          "font": {
           "size": 16
          },
          "showarrow": false,
          "text": "Topic 21",
          "x": 0.36250000000000004,
          "xanchor": "center",
          "xref": "paper",
          "y": 0.48000000000000004,
          "yanchor": "bottom",
          "yref": "paper"
         },
         {
          "font": {
           "size": 16
          },
          "showarrow": false,
          "text": "Topic 22",
          "x": 0.6375000000000001,
          "xanchor": "center",
          "xref": "paper",
          "y": 0.48000000000000004,
          "yanchor": "bottom",
          "yref": "paper"
         },
         {
          "font": {
           "size": 16
          },
          "showarrow": false,
          "text": "Topic 23",
          "x": 0.9125,
          "xanchor": "center",
          "xref": "paper",
          "y": 0.48000000000000004,
          "yanchor": "bottom",
          "yref": "paper"
         },
         {
          "font": {
           "size": 16
          },
          "showarrow": false,
          "text": "Topic 24",
          "x": 0.0875,
          "xanchor": "center",
          "xref": "paper",
          "y": 0.376,
          "yanchor": "bottom",
          "yref": "paper"
         },
         {
          "font": {
           "size": 16
          },
          "showarrow": false,
          "text": "Topic 25",
          "x": 0.36250000000000004,
          "xanchor": "center",
          "xref": "paper",
          "y": 0.376,
          "yanchor": "bottom",
          "yref": "paper"
         },
         {
          "font": {
           "size": 16
          },
          "showarrow": false,
          "text": "Topic 26",
          "x": 0.6375000000000001,
          "xanchor": "center",
          "xref": "paper",
          "y": 0.376,
          "yanchor": "bottom",
          "yref": "paper"
         },
         {
          "font": {
           "size": 16
          },
          "showarrow": false,
          "text": "Topic 27",
          "x": 0.9125,
          "xanchor": "center",
          "xref": "paper",
          "y": 0.376,
          "yanchor": "bottom",
          "yref": "paper"
         },
         {
          "font": {
           "size": 16
          },
          "showarrow": false,
          "text": "Topic 28",
          "x": 0.0875,
          "xanchor": "center",
          "xref": "paper",
          "y": 0.272,
          "yanchor": "bottom",
          "yref": "paper"
         },
         {
          "font": {
           "size": 16
          },
          "showarrow": false,
          "text": "Topic 29",
          "x": 0.36250000000000004,
          "xanchor": "center",
          "xref": "paper",
          "y": 0.272,
          "yanchor": "bottom",
          "yref": "paper"
         },
         {
          "font": {
           "size": 16
          },
          "showarrow": false,
          "text": "Topic 30",
          "x": 0.6375000000000001,
          "xanchor": "center",
          "xref": "paper",
          "y": 0.272,
          "yanchor": "bottom",
          "yref": "paper"
         },
         {
          "font": {
           "size": 16
          },
          "showarrow": false,
          "text": "Topic 31",
          "x": 0.9125,
          "xanchor": "center",
          "xref": "paper",
          "y": 0.272,
          "yanchor": "bottom",
          "yref": "paper"
         },
         {
          "font": {
           "size": 16
          },
          "showarrow": false,
          "text": "Topic 32",
          "x": 0.0875,
          "xanchor": "center",
          "xref": "paper",
          "y": 0.168,
          "yanchor": "bottom",
          "yref": "paper"
         },
         {
          "font": {
           "size": 16
          },
          "showarrow": false,
          "text": "Topic 33",
          "x": 0.36250000000000004,
          "xanchor": "center",
          "xref": "paper",
          "y": 0.168,
          "yanchor": "bottom",
          "yref": "paper"
         },
         {
          "font": {
           "size": 16
          },
          "showarrow": false,
          "text": "Topic 34",
          "x": 0.6375000000000001,
          "xanchor": "center",
          "xref": "paper",
          "y": 0.168,
          "yanchor": "bottom",
          "yref": "paper"
         },
         {
          "font": {
           "size": 16
          },
          "showarrow": false,
          "text": "Topic 35",
          "x": 0.9125,
          "xanchor": "center",
          "xref": "paper",
          "y": 0.168,
          "yanchor": "bottom",
          "yref": "paper"
         },
         {
          "font": {
           "size": 16
          },
          "showarrow": false,
          "text": "Topic 36",
          "x": 0.0875,
          "xanchor": "center",
          "xref": "paper",
          "y": 0.064,
          "yanchor": "bottom",
          "yref": "paper"
         },
         {
          "font": {
           "size": 16
          },
          "showarrow": false,
          "text": "Topic 37",
          "x": 0.36250000000000004,
          "xanchor": "center",
          "xref": "paper",
          "y": 0.064,
          "yanchor": "bottom",
          "yref": "paper"
         },
         {
          "font": {
           "size": 16
          },
          "showarrow": false,
          "text": "Topic 38",
          "x": 0.6375000000000001,
          "xanchor": "center",
          "xref": "paper",
          "y": 0.064,
          "yanchor": "bottom",
          "yref": "paper"
         },
         {
          "font": {
           "size": 16
          },
          "showarrow": false,
          "text": "Topic 39",
          "x": 0.9125,
          "xanchor": "center",
          "xref": "paper",
          "y": 0.064,
          "yanchor": "bottom",
          "yref": "paper"
         }
        ],
        "height": 2500,
        "hoverlabel": {
         "bgcolor": "white",
         "font": {
          "family": "Rockwell",
          "size": 16
         }
        },
        "showlegend": false,
        "template": {
         "data": {
          "bar": [
           {
            "error_x": {
             "color": "#2a3f5f"
            },
            "error_y": {
             "color": "#2a3f5f"
            },
            "marker": {
             "line": {
              "color": "white",
              "width": 0.5
             },
             "pattern": {
              "fillmode": "overlay",
              "size": 10,
              "solidity": 0.2
             }
            },
            "type": "bar"
           }
          ],
          "barpolar": [
           {
            "marker": {
             "line": {
              "color": "white",
              "width": 0.5
             },
             "pattern": {
              "fillmode": "overlay",
              "size": 10,
              "solidity": 0.2
             }
            },
            "type": "barpolar"
           }
          ],
          "carpet": [
           {
            "aaxis": {
             "endlinecolor": "#2a3f5f",
             "gridcolor": "#C8D4E3",
             "linecolor": "#C8D4E3",
             "minorgridcolor": "#C8D4E3",
             "startlinecolor": "#2a3f5f"
            },
            "baxis": {
             "endlinecolor": "#2a3f5f",
             "gridcolor": "#C8D4E3",
             "linecolor": "#C8D4E3",
             "minorgridcolor": "#C8D4E3",
             "startlinecolor": "#2a3f5f"
            },
            "type": "carpet"
           }
          ],
          "choropleth": [
           {
            "colorbar": {
             "outlinewidth": 0,
             "ticks": ""
            },
            "type": "choropleth"
           }
          ],
          "contour": [
           {
            "colorbar": {
             "outlinewidth": 0,
             "ticks": ""
            },
            "colorscale": [
             [
              0,
              "#0d0887"
             ],
             [
              0.1111111111111111,
              "#46039f"
             ],
             [
              0.2222222222222222,
              "#7201a8"
             ],
             [
              0.3333333333333333,
              "#9c179e"
             ],
             [
              0.4444444444444444,
              "#bd3786"
             ],
             [
              0.5555555555555556,
              "#d8576b"
             ],
             [
              0.6666666666666666,
              "#ed7953"
             ],
             [
              0.7777777777777778,
              "#fb9f3a"
             ],
             [
              0.8888888888888888,
              "#fdca26"
             ],
             [
              1,
              "#f0f921"
             ]
            ],
            "type": "contour"
           }
          ],
          "contourcarpet": [
           {
            "colorbar": {
             "outlinewidth": 0,
             "ticks": ""
            },
            "type": "contourcarpet"
           }
          ],
          "heatmap": [
           {
            "colorbar": {
             "outlinewidth": 0,
             "ticks": ""
            },
            "colorscale": [
             [
              0,
              "#0d0887"
             ],
             [
              0.1111111111111111,
              "#46039f"
             ],
             [
              0.2222222222222222,
              "#7201a8"
             ],
             [
              0.3333333333333333,
              "#9c179e"
             ],
             [
              0.4444444444444444,
              "#bd3786"
             ],
             [
              0.5555555555555556,
              "#d8576b"
             ],
             [
              0.6666666666666666,
              "#ed7953"
             ],
             [
              0.7777777777777778,
              "#fb9f3a"
             ],
             [
              0.8888888888888888,
              "#fdca26"
             ],
             [
              1,
              "#f0f921"
             ]
            ],
            "type": "heatmap"
           }
          ],
          "heatmapgl": [
           {
            "colorbar": {
             "outlinewidth": 0,
             "ticks": ""
            },
            "colorscale": [
             [
              0,
              "#0d0887"
             ],
             [
              0.1111111111111111,
              "#46039f"
             ],
             [
              0.2222222222222222,
              "#7201a8"
             ],
             [
              0.3333333333333333,
              "#9c179e"
             ],
             [
              0.4444444444444444,
              "#bd3786"
             ],
             [
              0.5555555555555556,
              "#d8576b"
             ],
             [
              0.6666666666666666,
              "#ed7953"
             ],
             [
              0.7777777777777778,
              "#fb9f3a"
             ],
             [
              0.8888888888888888,
              "#fdca26"
             ],
             [
              1,
              "#f0f921"
             ]
            ],
            "type": "heatmapgl"
           }
          ],
          "histogram": [
           {
            "marker": {
             "pattern": {
              "fillmode": "overlay",
              "size": 10,
              "solidity": 0.2
             }
            },
            "type": "histogram"
           }
          ],
          "histogram2d": [
           {
            "colorbar": {
             "outlinewidth": 0,
             "ticks": ""
            },
            "colorscale": [
             [
              0,
              "#0d0887"
             ],
             [
              0.1111111111111111,
              "#46039f"
             ],
             [
              0.2222222222222222,
              "#7201a8"
             ],
             [
              0.3333333333333333,
              "#9c179e"
             ],
             [
              0.4444444444444444,
              "#bd3786"
             ],
             [
              0.5555555555555556,
              "#d8576b"
             ],
             [
              0.6666666666666666,
              "#ed7953"
             ],
             [
              0.7777777777777778,
              "#fb9f3a"
             ],
             [
              0.8888888888888888,
              "#fdca26"
             ],
             [
              1,
              "#f0f921"
             ]
            ],
            "type": "histogram2d"
           }
          ],
          "histogram2dcontour": [
           {
            "colorbar": {
             "outlinewidth": 0,
             "ticks": ""
            },
            "colorscale": [
             [
              0,
              "#0d0887"
             ],
             [
              0.1111111111111111,
              "#46039f"
             ],
             [
              0.2222222222222222,
              "#7201a8"
             ],
             [
              0.3333333333333333,
              "#9c179e"
             ],
             [
              0.4444444444444444,
              "#bd3786"
             ],
             [
              0.5555555555555556,
              "#d8576b"
             ],
             [
              0.6666666666666666,
              "#ed7953"
             ],
             [
              0.7777777777777778,
              "#fb9f3a"
             ],
             [
              0.8888888888888888,
              "#fdca26"
             ],
             [
              1,
              "#f0f921"
             ]
            ],
            "type": "histogram2dcontour"
           }
          ],
          "mesh3d": [
           {
            "colorbar": {
             "outlinewidth": 0,
             "ticks": ""
            },
            "type": "mesh3d"
           }
          ],
          "parcoords": [
           {
            "line": {
             "colorbar": {
              "outlinewidth": 0,
              "ticks": ""
             }
            },
            "type": "parcoords"
           }
          ],
          "pie": [
           {
            "automargin": true,
            "type": "pie"
           }
          ],
          "scatter": [
           {
            "fillpattern": {
             "fillmode": "overlay",
             "size": 10,
             "solidity": 0.2
            },
            "type": "scatter"
           }
          ],
          "scatter3d": [
           {
            "line": {
             "colorbar": {
              "outlinewidth": 0,
              "ticks": ""
             }
            },
            "marker": {
             "colorbar": {
              "outlinewidth": 0,
              "ticks": ""
             }
            },
            "type": "scatter3d"
           }
          ],
          "scattercarpet": [
           {
            "marker": {
             "colorbar": {
              "outlinewidth": 0,
              "ticks": ""
             }
            },
            "type": "scattercarpet"
           }
          ],
          "scattergeo": [
           {
            "marker": {
             "colorbar": {
              "outlinewidth": 0,
              "ticks": ""
             }
            },
            "type": "scattergeo"
           }
          ],
          "scattergl": [
           {
            "marker": {
             "colorbar": {
              "outlinewidth": 0,
              "ticks": ""
             }
            },
            "type": "scattergl"
           }
          ],
          "scattermapbox": [
           {
            "marker": {
             "colorbar": {
              "outlinewidth": 0,
              "ticks": ""
             }
            },
            "type": "scattermapbox"
           }
          ],
          "scatterpolar": [
           {
            "marker": {
             "colorbar": {
              "outlinewidth": 0,
              "ticks": ""
             }
            },
            "type": "scatterpolar"
           }
          ],
          "scatterpolargl": [
           {
            "marker": {
             "colorbar": {
              "outlinewidth": 0,
              "ticks": ""
             }
            },
            "type": "scatterpolargl"
           }
          ],
          "scatterternary": [
           {
            "marker": {
             "colorbar": {
              "outlinewidth": 0,
              "ticks": ""
             }
            },
            "type": "scatterternary"
           }
          ],
          "surface": [
           {
            "colorbar": {
             "outlinewidth": 0,
             "ticks": ""
            },
            "colorscale": [
             [
              0,
              "#0d0887"
             ],
             [
              0.1111111111111111,
              "#46039f"
             ],
             [
              0.2222222222222222,
              "#7201a8"
             ],
             [
              0.3333333333333333,
              "#9c179e"
             ],
             [
              0.4444444444444444,
              "#bd3786"
             ],
             [
              0.5555555555555556,
              "#d8576b"
             ],
             [
              0.6666666666666666,
              "#ed7953"
             ],
             [
              0.7777777777777778,
              "#fb9f3a"
             ],
             [
              0.8888888888888888,
              "#fdca26"
             ],
             [
              1,
              "#f0f921"
             ]
            ],
            "type": "surface"
           }
          ],
          "table": [
           {
            "cells": {
             "fill": {
              "color": "#EBF0F8"
             },
             "line": {
              "color": "white"
             }
            },
            "header": {
             "fill": {
              "color": "#C8D4E3"
             },
             "line": {
              "color": "white"
             }
            },
            "type": "table"
           }
          ]
         },
         "layout": {
          "annotationdefaults": {
           "arrowcolor": "#2a3f5f",
           "arrowhead": 0,
           "arrowwidth": 1
          },
          "autotypenumbers": "strict",
          "coloraxis": {
           "colorbar": {
            "outlinewidth": 0,
            "ticks": ""
           }
          },
          "colorscale": {
           "diverging": [
            [
             0,
             "#8e0152"
            ],
            [
             0.1,
             "#c51b7d"
            ],
            [
             0.2,
             "#de77ae"
            ],
            [
             0.3,
             "#f1b6da"
            ],
            [
             0.4,
             "#fde0ef"
            ],
            [
             0.5,
             "#f7f7f7"
            ],
            [
             0.6,
             "#e6f5d0"
            ],
            [
             0.7,
             "#b8e186"
            ],
            [
             0.8,
             "#7fbc41"
            ],
            [
             0.9,
             "#4d9221"
            ],
            [
             1,
             "#276419"
            ]
           ],
           "sequential": [
            [
             0,
             "#0d0887"
            ],
            [
             0.1111111111111111,
             "#46039f"
            ],
            [
             0.2222222222222222,
             "#7201a8"
            ],
            [
             0.3333333333333333,
             "#9c179e"
            ],
            [
             0.4444444444444444,
             "#bd3786"
            ],
            [
             0.5555555555555556,
             "#d8576b"
            ],
            [
             0.6666666666666666,
             "#ed7953"
            ],
            [
             0.7777777777777778,
             "#fb9f3a"
            ],
            [
             0.8888888888888888,
             "#fdca26"
            ],
            [
             1,
             "#f0f921"
            ]
           ],
           "sequentialminus": [
            [
             0,
             "#0d0887"
            ],
            [
             0.1111111111111111,
             "#46039f"
            ],
            [
             0.2222222222222222,
             "#7201a8"
            ],
            [
             0.3333333333333333,
             "#9c179e"
            ],
            [
             0.4444444444444444,
             "#bd3786"
            ],
            [
             0.5555555555555556,
             "#d8576b"
            ],
            [
             0.6666666666666666,
             "#ed7953"
            ],
            [
             0.7777777777777778,
             "#fb9f3a"
            ],
            [
             0.8888888888888888,
             "#fdca26"
            ],
            [
             1,
             "#f0f921"
            ]
           ]
          },
          "colorway": [
           "#636efa",
           "#EF553B",
           "#00cc96",
           "#ab63fa",
           "#FFA15A",
           "#19d3f3",
           "#FF6692",
           "#B6E880",
           "#FF97FF",
           "#FECB52"
          ],
          "font": {
           "color": "#2a3f5f"
          },
          "geo": {
           "bgcolor": "white",
           "lakecolor": "white",
           "landcolor": "white",
           "showlakes": true,
           "showland": true,
           "subunitcolor": "#C8D4E3"
          },
          "hoverlabel": {
           "align": "left"
          },
          "hovermode": "closest",
          "mapbox": {
           "style": "light"
          },
          "paper_bgcolor": "white",
          "plot_bgcolor": "white",
          "polar": {
           "angularaxis": {
            "gridcolor": "#EBF0F8",
            "linecolor": "#EBF0F8",
            "ticks": ""
           },
           "bgcolor": "white",
           "radialaxis": {
            "gridcolor": "#EBF0F8",
            "linecolor": "#EBF0F8",
            "ticks": ""
           }
          },
          "scene": {
           "xaxis": {
            "backgroundcolor": "white",
            "gridcolor": "#DFE8F3",
            "gridwidth": 2,
            "linecolor": "#EBF0F8",
            "showbackground": true,
            "ticks": "",
            "zerolinecolor": "#EBF0F8"
           },
           "yaxis": {
            "backgroundcolor": "white",
            "gridcolor": "#DFE8F3",
            "gridwidth": 2,
            "linecolor": "#EBF0F8",
            "showbackground": true,
            "ticks": "",
            "zerolinecolor": "#EBF0F8"
           },
           "zaxis": {
            "backgroundcolor": "white",
            "gridcolor": "#DFE8F3",
            "gridwidth": 2,
            "linecolor": "#EBF0F8",
            "showbackground": true,
            "ticks": "",
            "zerolinecolor": "#EBF0F8"
           }
          },
          "shapedefaults": {
           "line": {
            "color": "#2a3f5f"
           }
          },
          "ternary": {
           "aaxis": {
            "gridcolor": "#DFE8F3",
            "linecolor": "#A2B1C6",
            "ticks": ""
           },
           "baxis": {
            "gridcolor": "#DFE8F3",
            "linecolor": "#A2B1C6",
            "ticks": ""
           },
           "bgcolor": "white",
           "caxis": {
            "gridcolor": "#DFE8F3",
            "linecolor": "#A2B1C6",
            "ticks": ""
           }
          },
          "title": {
           "x": 0.05
          },
          "xaxis": {
           "automargin": true,
           "gridcolor": "#EBF0F8",
           "linecolor": "#EBF0F8",
           "ticks": "",
           "title": {
            "standoff": 15
           },
           "zerolinecolor": "#EBF0F8",
           "zerolinewidth": 2
          },
          "yaxis": {
           "automargin": true,
           "gridcolor": "#EBF0F8",
           "linecolor": "#EBF0F8",
           "ticks": "",
           "title": {
            "standoff": 15
           },
           "zerolinecolor": "#EBF0F8",
           "zerolinewidth": 2
          }
         }
        },
        "title": {
         "font": {
          "color": "Black",
          "size": 22
         },
         "text": "Topic Word Scores",
         "x": 0.5,
         "xanchor": "center",
         "yanchor": "top"
        },
        "width": 1000,
        "xaxis": {
         "anchor": "y",
         "domain": [
          0,
          0.175
         ],
         "showgrid": true
        },
        "xaxis10": {
         "anchor": "y10",
         "domain": [
          0.275,
          0.45
         ],
         "showgrid": true
        },
        "xaxis11": {
         "anchor": "y11",
         "domain": [
          0.55,
          0.7250000000000001
         ],
         "showgrid": true
        },
        "xaxis12": {
         "anchor": "y12",
         "domain": [
          0.825,
          1
         ],
         "showgrid": true
        },
        "xaxis13": {
         "anchor": "y13",
         "domain": [
          0,
          0.175
         ],
         "showgrid": true
        },
        "xaxis14": {
         "anchor": "y14",
         "domain": [
          0.275,
          0.45
         ],
         "showgrid": true
        },
        "xaxis15": {
         "anchor": "y15",
         "domain": [
          0.55,
          0.7250000000000001
         ],
         "showgrid": true
        },
        "xaxis16": {
         "anchor": "y16",
         "domain": [
          0.825,
          1
         ],
         "showgrid": true
        },
        "xaxis17": {
         "anchor": "y17",
         "domain": [
          0,
          0.175
         ],
         "showgrid": true
        },
        "xaxis18": {
         "anchor": "y18",
         "domain": [
          0.275,
          0.45
         ],
         "showgrid": true
        },
        "xaxis19": {
         "anchor": "y19",
         "domain": [
          0.55,
          0.7250000000000001
         ],
         "showgrid": true
        },
        "xaxis2": {
         "anchor": "y2",
         "domain": [
          0.275,
          0.45
         ],
         "showgrid": true
        },
        "xaxis20": {
         "anchor": "y20",
         "domain": [
          0.825,
          1
         ],
         "showgrid": true
        },
        "xaxis21": {
         "anchor": "y21",
         "domain": [
          0,
          0.175
         ],
         "showgrid": true
        },
        "xaxis22": {
         "anchor": "y22",
         "domain": [
          0.275,
          0.45
         ],
         "showgrid": true
        },
        "xaxis23": {
         "anchor": "y23",
         "domain": [
          0.55,
          0.7250000000000001
         ],
         "showgrid": true
        },
        "xaxis24": {
         "anchor": "y24",
         "domain": [
          0.825,
          1
         ],
         "showgrid": true
        },
        "xaxis25": {
         "anchor": "y25",
         "domain": [
          0,
          0.175
         ],
         "showgrid": true
        },
        "xaxis26": {
         "anchor": "y26",
         "domain": [
          0.275,
          0.45
         ],
         "showgrid": true
        },
        "xaxis27": {
         "anchor": "y27",
         "domain": [
          0.55,
          0.7250000000000001
         ],
         "showgrid": true
        },
        "xaxis28": {
         "anchor": "y28",
         "domain": [
          0.825,
          1
         ],
         "showgrid": true
        },
        "xaxis29": {
         "anchor": "y29",
         "domain": [
          0,
          0.175
         ],
         "showgrid": true
        },
        "xaxis3": {
         "anchor": "y3",
         "domain": [
          0.55,
          0.7250000000000001
         ],
         "showgrid": true
        },
        "xaxis30": {
         "anchor": "y30",
         "domain": [
          0.275,
          0.45
         ],
         "showgrid": true
        },
        "xaxis31": {
         "anchor": "y31",
         "domain": [
          0.55,
          0.7250000000000001
         ],
         "showgrid": true
        },
        "xaxis32": {
         "anchor": "y32",
         "domain": [
          0.825,
          1
         ],
         "showgrid": true
        },
        "xaxis33": {
         "anchor": "y33",
         "domain": [
          0,
          0.175
         ],
         "showgrid": true
        },
        "xaxis34": {
         "anchor": "y34",
         "domain": [
          0.275,
          0.45
         ],
         "showgrid": true
        },
        "xaxis35": {
         "anchor": "y35",
         "domain": [
          0.55,
          0.7250000000000001
         ],
         "showgrid": true
        },
        "xaxis36": {
         "anchor": "y36",
         "domain": [
          0.825,
          1
         ],
         "showgrid": true
        },
        "xaxis37": {
         "anchor": "y37",
         "domain": [
          0,
          0.175
         ],
         "showgrid": true
        },
        "xaxis38": {
         "anchor": "y38",
         "domain": [
          0.275,
          0.45
         ],
         "showgrid": true
        },
        "xaxis39": {
         "anchor": "y39",
         "domain": [
          0.55,
          0.7250000000000001
         ],
         "showgrid": true
        },
        "xaxis4": {
         "anchor": "y4",
         "domain": [
          0.825,
          1
         ],
         "showgrid": true
        },
        "xaxis40": {
         "anchor": "y40",
         "domain": [
          0.825,
          1
         ],
         "showgrid": true
        },
        "xaxis5": {
         "anchor": "y5",
         "domain": [
          0,
          0.175
         ],
         "showgrid": true
        },
        "xaxis6": {
         "anchor": "y6",
         "domain": [
          0.275,
          0.45
         ],
         "showgrid": true
        },
        "xaxis7": {
         "anchor": "y7",
         "domain": [
          0.55,
          0.7250000000000001
         ],
         "showgrid": true
        },
        "xaxis8": {
         "anchor": "y8",
         "domain": [
          0.825,
          1
         ],
         "showgrid": true
        },
        "xaxis9": {
         "anchor": "y9",
         "domain": [
          0,
          0.175
         ],
         "showgrid": true
        },
        "yaxis": {
         "anchor": "x",
         "domain": [
          0.936,
          1
         ],
         "showgrid": true
        },
        "yaxis10": {
         "anchor": "x10",
         "domain": [
          0.728,
          0.792
         ],
         "showgrid": true
        },
        "yaxis11": {
         "anchor": "x11",
         "domain": [
          0.728,
          0.792
         ],
         "showgrid": true
        },
        "yaxis12": {
         "anchor": "x12",
         "domain": [
          0.728,
          0.792
         ],
         "showgrid": true
        },
        "yaxis13": {
         "anchor": "x13",
         "domain": [
          0.624,
          0.688
         ],
         "showgrid": true
        },
        "yaxis14": {
         "anchor": "x14",
         "domain": [
          0.624,
          0.688
         ],
         "showgrid": true
        },
        "yaxis15": {
         "anchor": "x15",
         "domain": [
          0.624,
          0.688
         ],
         "showgrid": true
        },
        "yaxis16": {
         "anchor": "x16",
         "domain": [
          0.624,
          0.688
         ],
         "showgrid": true
        },
        "yaxis17": {
         "anchor": "x17",
         "domain": [
          0.52,
          0.5840000000000001
         ],
         "showgrid": true
        },
        "yaxis18": {
         "anchor": "x18",
         "domain": [
          0.52,
          0.5840000000000001
         ],
         "showgrid": true
        },
        "yaxis19": {
         "anchor": "x19",
         "domain": [
          0.52,
          0.5840000000000001
         ],
         "showgrid": true
        },
        "yaxis2": {
         "anchor": "x2",
         "domain": [
          0.936,
          1
         ],
         "showgrid": true
        },
        "yaxis20": {
         "anchor": "x20",
         "domain": [
          0.52,
          0.5840000000000001
         ],
         "showgrid": true
        },
        "yaxis21": {
         "anchor": "x21",
         "domain": [
          0.41600000000000004,
          0.48000000000000004
         ],
         "showgrid": true
        },
        "yaxis22": {
         "anchor": "x22",
         "domain": [
          0.41600000000000004,
          0.48000000000000004
         ],
         "showgrid": true
        },
        "yaxis23": {
         "anchor": "x23",
         "domain": [
          0.41600000000000004,
          0.48000000000000004
         ],
         "showgrid": true
        },
        "yaxis24": {
         "anchor": "x24",
         "domain": [
          0.41600000000000004,
          0.48000000000000004
         ],
         "showgrid": true
        },
        "yaxis25": {
         "anchor": "x25",
         "domain": [
          0.312,
          0.376
         ],
         "showgrid": true
        },
        "yaxis26": {
         "anchor": "x26",
         "domain": [
          0.312,
          0.376
         ],
         "showgrid": true
        },
        "yaxis27": {
         "anchor": "x27",
         "domain": [
          0.312,
          0.376
         ],
         "showgrid": true
        },
        "yaxis28": {
         "anchor": "x28",
         "domain": [
          0.312,
          0.376
         ],
         "showgrid": true
        },
        "yaxis29": {
         "anchor": "x29",
         "domain": [
          0.20800000000000002,
          0.272
         ],
         "showgrid": true
        },
        "yaxis3": {
         "anchor": "x3",
         "domain": [
          0.936,
          1
         ],
         "showgrid": true
        },
        "yaxis30": {
         "anchor": "x30",
         "domain": [
          0.20800000000000002,
          0.272
         ],
         "showgrid": true
        },
        "yaxis31": {
         "anchor": "x31",
         "domain": [
          0.20800000000000002,
          0.272
         ],
         "showgrid": true
        },
        "yaxis32": {
         "anchor": "x32",
         "domain": [
          0.20800000000000002,
          0.272
         ],
         "showgrid": true
        },
        "yaxis33": {
         "anchor": "x33",
         "domain": [
          0.10400000000000001,
          0.168
         ],
         "showgrid": true
        },
        "yaxis34": {
         "anchor": "x34",
         "domain": [
          0.10400000000000001,
          0.168
         ],
         "showgrid": true
        },
        "yaxis35": {
         "anchor": "x35",
         "domain": [
          0.10400000000000001,
          0.168
         ],
         "showgrid": true
        },
        "yaxis36": {
         "anchor": "x36",
         "domain": [
          0.10400000000000001,
          0.168
         ],
         "showgrid": true
        },
        "yaxis37": {
         "anchor": "x37",
         "domain": [
          0,
          0.064
         ],
         "showgrid": true
        },
        "yaxis38": {
         "anchor": "x38",
         "domain": [
          0,
          0.064
         ],
         "showgrid": true
        },
        "yaxis39": {
         "anchor": "x39",
         "domain": [
          0,
          0.064
         ],
         "showgrid": true
        },
        "yaxis4": {
         "anchor": "x4",
         "domain": [
          0.936,
          1
         ],
         "showgrid": true
        },
        "yaxis40": {
         "anchor": "x40",
         "domain": [
          0,
          0.064
         ],
         "showgrid": true
        },
        "yaxis5": {
         "anchor": "x5",
         "domain": [
          0.8320000000000001,
          0.8960000000000001
         ],
         "showgrid": true
        },
        "yaxis6": {
         "anchor": "x6",
         "domain": [
          0.8320000000000001,
          0.8960000000000001
         ],
         "showgrid": true
        },
        "yaxis7": {
         "anchor": "x7",
         "domain": [
          0.8320000000000001,
          0.8960000000000001
         ],
         "showgrid": true
        },
        "yaxis8": {
         "anchor": "x8",
         "domain": [
          0.8320000000000001,
          0.8960000000000001
         ],
         "showgrid": true
        },
        "yaxis9": {
         "anchor": "x9",
         "domain": [
          0.728,
          0.792
         ],
         "showgrid": true
        }
       }
      }
     },
     "metadata": {},
     "output_type": "display_data"
    },
    {
     "data": {
      "text/plain": [
       "<Figure size 640x480 with 0 Axes>"
      ]
     },
     "metadata": {},
     "output_type": "display_data"
    }
   ],
   "source": [
    "fig = model.visualize_barchart(top_n_topics = 41, n_words = 10)\n",
    "plt.tight_layout()\n",
    "fig.show()"
   ]
  },
  {
   "cell_type": "code",
   "execution_count": 82,
   "metadata": {},
   "outputs": [
    {
     "data": {
      "application/vnd.plotly.v1+json": {
       "config": {
        "plotlyServerURL": "https://plot.ly"
       },
       "data": [
        {
         "customdata": [
          [
           0,
           "sic | kw | hz | pump | seal",
           6323
          ],
          [
           1,
           "gj | item | bearing | sanitary | shaft",
           1543
          ],
          [
           2,
           "ssv | inch | nc | change | maintainable",
           1460
          ],
          [
           3,
           "hsf | red | tee | rk | din",
           1303
          ],
          [
           4,
           "mixproof | ends | welded | inside | cp",
           1264
          ],
          [
           5,
           "ring | nbr | fep | fpm | epdm",
           971
          ],
          [
           6,
           "bal | none | clean | cip | lower",
           727
          ],
          [
           7,
           "ball | sbv | sample | sampling | membrane",
           694
          ],
          [
           8,
           "dv | fgd | st | man | sf",
           654
          ],
          [
           9,
           "sanimidget | sanimagnum | sanimicro | ex | clip",
           582
          ],
          [
           10,
           "tr | plug | ssv | shut | change",
           542
          ],
          [
           11,
           "actuator | ch | maintainable | tr | step",
           528
          ],
          [
           12,
           "clamp | id | ultrapure | od | clamps",
           498
          ],
          [
           13,
           "pl | bpe | sf | pm | raep",
           400
          ],
          [
           14,
           "welding | mat | bend | raw | nw",
           383
          ],
          [
           15,
           "hnbr | ssv | inch | maintainable | nc",
           371
          ],
          [
           16,
           "impeller | special | evap | lkh | trace",
           348
          ],
          [
           17,
           "als | agitator | lf | edp | altb",
           332
          ],
          [
           18,
           "gasket | tc | flanged | sfy | mp",
           325
          ],
          [
           19,
           "vdc | pnp | digital | think | thinktop",
           302
          ],
          [
           20,
           "service | kit | nw | nbr | fpm",
           295
          ],
          [
           21,
           "plug | smp | nw | set | bc",
           240
          ],
          [
           22,
           "mixproof | piece | body | plug | intermediate",
           204
          ],
          [
           23,
           "service | kit | nw | smp | src",
           200
          ],
          [
           24,
           "manhole | lkdc | shut | ssv | lkd",
           196
          ],
          [
           25,
           "glass | sight | sightglass | line | flexbody",
           187
          ],
          [
           26,
           "regulating | rv | kv | st | weld",
           179
          ],
          [
           27,
           "casing | pump | mr | lkh | yeast",
           173
          ],
          [
           28,
           "pressure | regulator | bar | tank | gauge",
           171
          ],
          [
           29,
           "diaphragm | bayonet | dv | st | tfm",
           154
          ],
          [
           30,
           "rotor | sr | rotorcase | sx | cover",
           147
          ],
          [
           31,
           "kv | rv | plug | regulating | spc",
           146
          ],
          [
           32,
           "personnel | access | inspection | port | lkdc",
           142
          ],
          [
           33,
           "pg | bar | psi | aisil | dial",
           138
          ],
          [
           34,
           "cm | tg | dial | gland | clamp",
           136
          ],
          [
           35,
           "lksf | slot | strainer | welding | bl",
           134
          ],
          [
           36,
           "dindndn | pharma | iy | line | ped",
           132
          ],
          [
           37,
           "mark | body | dv | st | forged",
           129
          ],
          [
           38,
           "butterfly | lkb | hnbr | valve | cl",
           122
          ],
          [
           39,
           "cap | end | amp | chain | plastic",
           118
          ]
         ],
         "hovertemplate": "<b>Topic %{customdata[0]}</b><br>%{customdata[1]}<br>Size: %{customdata[2]}",
         "legendgroup": "",
         "marker": {
          "color": "#B0BEC5",
          "line": {
           "color": "DarkSlateGrey",
           "width": 2
          },
          "size": [
           6323,
           1543,
           1460,
           1303,
           1264,
           971,
           727,
           694,
           654,
           582,
           542,
           528,
           498,
           400,
           383,
           371,
           348,
           332,
           325,
           302,
           295,
           240,
           204,
           200,
           196,
           187,
           179,
           173,
           171,
           154,
           147,
           146,
           142,
           138,
           136,
           134,
           132,
           129,
           122,
           118
          ],
          "sizemode": "area",
          "sizeref": 3.951875,
          "symbol": "circle"
         },
         "mode": "markers",
         "name": "",
         "orientation": "v",
         "showlegend": false,
         "type": "scatter",
         "x": [
          -8.733887672424316,
          14.63414192199707,
          14.934829711914062,
          13.20263957977295,
          13.851478576660156,
          14.838167190551758,
          -8.549250602722168,
          9.283401489257812,
          10.41686725616455,
          5.2250518798828125,
          16.431133270263672,
          16.36762809753418,
          6.930868625640869,
          5.33794641494751,
          13.362420082092285,
          16.307968139648438,
          -8.940326690673828,
          14.542340278625488,
          14.260415077209473,
          15.844969749450684,
          -6.433171272277832,
          9.369128227233887,
          13.997572898864746,
          -6.334750175476074,
          15.10178279876709,
          13.240409851074219,
          14.750216484069824,
          -8.830427169799805,
          9.084242820739746,
          10.204863548278809,
          14.747719764709473,
          16.111188888549805,
          -6.653487205505371,
          6.943686008453369,
          6.779387950897217,
          13.09571361541748,
          10.376651763916016,
          9.937005043029785,
          9.329641342163086,
          14.981822967529297
         ],
         "xaxis": "x",
         "y": [
          16.889480590820312,
          4.232668399810791,
          -7.574037551879883,
          -10.138222694396973,
          -9.605415344238281,
          3.8055081367492676,
          17.07404327392578,
          14.334405899047852,
          12.986859321594238,
          -5.3056464195251465,
          20.421823501586914,
          20.358295440673828,
          20.642213821411133,
          -5.192514896392822,
          -9.74483585357666,
          20.298593521118164,
          16.682960510253906,
          4.106839179992676,
          4.287294387817383,
          19.837169647216797,
          -12.299388885498047,
          14.311670303344727,
          -9.566912651062012,
          -12.39776611328125,
          -7.218858242034912,
          -9.67832088470459,
          -7.9370198249816895,
          16.79294776916504,
          14.216020584106445,
          13.177799224853516,
          3.904226779937744,
          20.10315704345703,
          -12.079023361206055,
          20.629539489746094,
          20.793838500976562,
          -9.973237037658691,
          13.041112899780273,
          13.364314079284668,
          14.44648265838623,
          4.100253582000732
         ],
         "yaxis": "y"
        }
       ],
       "layout": {
        "annotations": [
         {
          "showarrow": false,
          "text": "D1",
          "x": -10.281375694274903,
          "y": 4.827741622924805,
          "yshift": 10
         },
         {
          "showarrow": false,
          "text": "D2",
          "x": 4.30721378326416,
          "xshift": 10,
          "y": 23.912914276123047
         }
        ],
        "height": 650,
        "hoverlabel": {
         "bgcolor": "white",
         "font": {
          "family": "Rockwell",
          "size": 16
         }
        },
        "legend": {
         "itemsizing": "constant",
         "tracegroupgap": 0
        },
        "margin": {
         "t": 60
        },
        "shapes": [
         {
          "line": {
           "color": "#CFD8DC",
           "width": 2
          },
          "type": "line",
          "x0": 4.30721378326416,
          "x1": 4.30721378326416,
          "y0": -14.257431030273438,
          "y1": 23.912914276123047
         },
         {
          "line": {
           "color": "#9E9E9E",
           "width": 2
          },
          "type": "line",
          "x0": -10.281375694274903,
          "x1": 18.895803260803223,
          "y0": 4.827741622924805,
          "y1": 4.827741622924805
         }
        ],
        "sliders": [
         {
          "active": 0,
          "pad": {
           "t": 50
          },
          "steps": [
           {
            "args": [
             {
              "marker.color": [
               [
                "red",
                "#B0BEC5",
                "#B0BEC5",
                "#B0BEC5",
                "#B0BEC5",
                "#B0BEC5",
                "#B0BEC5",
                "#B0BEC5",
                "#B0BEC5",
                "#B0BEC5",
                "#B0BEC5",
                "#B0BEC5",
                "#B0BEC5",
                "#B0BEC5",
                "#B0BEC5",
                "#B0BEC5",
                "#B0BEC5",
                "#B0BEC5",
                "#B0BEC5",
                "#B0BEC5",
                "#B0BEC5",
                "#B0BEC5",
                "#B0BEC5",
                "#B0BEC5",
                "#B0BEC5",
                "#B0BEC5",
                "#B0BEC5",
                "#B0BEC5",
                "#B0BEC5",
                "#B0BEC5",
                "#B0BEC5",
                "#B0BEC5",
                "#B0BEC5",
                "#B0BEC5",
                "#B0BEC5",
                "#B0BEC5",
                "#B0BEC5",
                "#B0BEC5",
                "#B0BEC5",
                "#B0BEC5"
               ]
              ]
             }
            ],
            "label": "Topic 0",
            "method": "update"
           },
           {
            "args": [
             {
              "marker.color": [
               [
                "#B0BEC5",
                "red",
                "#B0BEC5",
                "#B0BEC5",
                "#B0BEC5",
                "#B0BEC5",
                "#B0BEC5",
                "#B0BEC5",
                "#B0BEC5",
                "#B0BEC5",
                "#B0BEC5",
                "#B0BEC5",
                "#B0BEC5",
                "#B0BEC5",
                "#B0BEC5",
                "#B0BEC5",
                "#B0BEC5",
                "#B0BEC5",
                "#B0BEC5",
                "#B0BEC5",
                "#B0BEC5",
                "#B0BEC5",
                "#B0BEC5",
                "#B0BEC5",
                "#B0BEC5",
                "#B0BEC5",
                "#B0BEC5",
                "#B0BEC5",
                "#B0BEC5",
                "#B0BEC5",
                "#B0BEC5",
                "#B0BEC5",
                "#B0BEC5",
                "#B0BEC5",
                "#B0BEC5",
                "#B0BEC5",
                "#B0BEC5",
                "#B0BEC5",
                "#B0BEC5",
                "#B0BEC5"
               ]
              ]
             }
            ],
            "label": "Topic 1",
            "method": "update"
           },
           {
            "args": [
             {
              "marker.color": [
               [
                "#B0BEC5",
                "#B0BEC5",
                "red",
                "#B0BEC5",
                "#B0BEC5",
                "#B0BEC5",
                "#B0BEC5",
                "#B0BEC5",
                "#B0BEC5",
                "#B0BEC5",
                "#B0BEC5",
                "#B0BEC5",
                "#B0BEC5",
                "#B0BEC5",
                "#B0BEC5",
                "#B0BEC5",
                "#B0BEC5",
                "#B0BEC5",
                "#B0BEC5",
                "#B0BEC5",
                "#B0BEC5",
                "#B0BEC5",
                "#B0BEC5",
                "#B0BEC5",
                "#B0BEC5",
                "#B0BEC5",
                "#B0BEC5",
                "#B0BEC5",
                "#B0BEC5",
                "#B0BEC5",
                "#B0BEC5",
                "#B0BEC5",
                "#B0BEC5",
                "#B0BEC5",
                "#B0BEC5",
                "#B0BEC5",
                "#B0BEC5",
                "#B0BEC5",
                "#B0BEC5",
                "#B0BEC5"
               ]
              ]
             }
            ],
            "label": "Topic 2",
            "method": "update"
           },
           {
            "args": [
             {
              "marker.color": [
               [
                "#B0BEC5",
                "#B0BEC5",
                "#B0BEC5",
                "red",
                "#B0BEC5",
                "#B0BEC5",
                "#B0BEC5",
                "#B0BEC5",
                "#B0BEC5",
                "#B0BEC5",
                "#B0BEC5",
                "#B0BEC5",
                "#B0BEC5",
                "#B0BEC5",
                "#B0BEC5",
                "#B0BEC5",
                "#B0BEC5",
                "#B0BEC5",
                "#B0BEC5",
                "#B0BEC5",
                "#B0BEC5",
                "#B0BEC5",
                "#B0BEC5",
                "#B0BEC5",
                "#B0BEC5",
                "#B0BEC5",
                "#B0BEC5",
                "#B0BEC5",
                "#B0BEC5",
                "#B0BEC5",
                "#B0BEC5",
                "#B0BEC5",
                "#B0BEC5",
                "#B0BEC5",
                "#B0BEC5",
                "#B0BEC5",
                "#B0BEC5",
                "#B0BEC5",
                "#B0BEC5",
                "#B0BEC5"
               ]
              ]
             }
            ],
            "label": "Topic 3",
            "method": "update"
           },
           {
            "args": [
             {
              "marker.color": [
               [
                "#B0BEC5",
                "#B0BEC5",
                "#B0BEC5",
                "#B0BEC5",
                "red",
                "#B0BEC5",
                "#B0BEC5",
                "#B0BEC5",
                "#B0BEC5",
                "#B0BEC5",
                "#B0BEC5",
                "#B0BEC5",
                "#B0BEC5",
                "#B0BEC5",
                "#B0BEC5",
                "#B0BEC5",
                "#B0BEC5",
                "#B0BEC5",
                "#B0BEC5",
                "#B0BEC5",
                "#B0BEC5",
                "#B0BEC5",
                "#B0BEC5",
                "#B0BEC5",
                "#B0BEC5",
                "#B0BEC5",
                "#B0BEC5",
                "#B0BEC5",
                "#B0BEC5",
                "#B0BEC5",
                "#B0BEC5",
                "#B0BEC5",
                "#B0BEC5",
                "#B0BEC5",
                "#B0BEC5",
                "#B0BEC5",
                "#B0BEC5",
                "#B0BEC5",
                "#B0BEC5",
                "#B0BEC5"
               ]
              ]
             }
            ],
            "label": "Topic 4",
            "method": "update"
           },
           {
            "args": [
             {
              "marker.color": [
               [
                "#B0BEC5",
                "#B0BEC5",
                "#B0BEC5",
                "#B0BEC5",
                "#B0BEC5",
                "red",
                "#B0BEC5",
                "#B0BEC5",
                "#B0BEC5",
                "#B0BEC5",
                "#B0BEC5",
                "#B0BEC5",
                "#B0BEC5",
                "#B0BEC5",
                "#B0BEC5",
                "#B0BEC5",
                "#B0BEC5",
                "#B0BEC5",
                "#B0BEC5",
                "#B0BEC5",
                "#B0BEC5",
                "#B0BEC5",
                "#B0BEC5",
                "#B0BEC5",
                "#B0BEC5",
                "#B0BEC5",
                "#B0BEC5",
                "#B0BEC5",
                "#B0BEC5",
                "#B0BEC5",
                "#B0BEC5",
                "#B0BEC5",
                "#B0BEC5",
                "#B0BEC5",
                "#B0BEC5",
                "#B0BEC5",
                "#B0BEC5",
                "#B0BEC5",
                "#B0BEC5",
                "#B0BEC5"
               ]
              ]
             }
            ],
            "label": "Topic 5",
            "method": "update"
           },
           {
            "args": [
             {
              "marker.color": [
               [
                "#B0BEC5",
                "#B0BEC5",
                "#B0BEC5",
                "#B0BEC5",
                "#B0BEC5",
                "#B0BEC5",
                "red",
                "#B0BEC5",
                "#B0BEC5",
                "#B0BEC5",
                "#B0BEC5",
                "#B0BEC5",
                "#B0BEC5",
                "#B0BEC5",
                "#B0BEC5",
                "#B0BEC5",
                "#B0BEC5",
                "#B0BEC5",
                "#B0BEC5",
                "#B0BEC5",
                "#B0BEC5",
                "#B0BEC5",
                "#B0BEC5",
                "#B0BEC5",
                "#B0BEC5",
                "#B0BEC5",
                "#B0BEC5",
                "#B0BEC5",
                "#B0BEC5",
                "#B0BEC5",
                "#B0BEC5",
                "#B0BEC5",
                "#B0BEC5",
                "#B0BEC5",
                "#B0BEC5",
                "#B0BEC5",
                "#B0BEC5",
                "#B0BEC5",
                "#B0BEC5",
                "#B0BEC5"
               ]
              ]
             }
            ],
            "label": "Topic 6",
            "method": "update"
           },
           {
            "args": [
             {
              "marker.color": [
               [
                "#B0BEC5",
                "#B0BEC5",
                "#B0BEC5",
                "#B0BEC5",
                "#B0BEC5",
                "#B0BEC5",
                "#B0BEC5",
                "red",
                "#B0BEC5",
                "#B0BEC5",
                "#B0BEC5",
                "#B0BEC5",
                "#B0BEC5",
                "#B0BEC5",
                "#B0BEC5",
                "#B0BEC5",
                "#B0BEC5",
                "#B0BEC5",
                "#B0BEC5",
                "#B0BEC5",
                "#B0BEC5",
                "#B0BEC5",
                "#B0BEC5",
                "#B0BEC5",
                "#B0BEC5",
                "#B0BEC5",
                "#B0BEC5",
                "#B0BEC5",
                "#B0BEC5",
                "#B0BEC5",
                "#B0BEC5",
                "#B0BEC5",
                "#B0BEC5",
                "#B0BEC5",
                "#B0BEC5",
                "#B0BEC5",
                "#B0BEC5",
                "#B0BEC5",
                "#B0BEC5",
                "#B0BEC5"
               ]
              ]
             }
            ],
            "label": "Topic 7",
            "method": "update"
           },
           {
            "args": [
             {
              "marker.color": [
               [
                "#B0BEC5",
                "#B0BEC5",
                "#B0BEC5",
                "#B0BEC5",
                "#B0BEC5",
                "#B0BEC5",
                "#B0BEC5",
                "#B0BEC5",
                "red",
                "#B0BEC5",
                "#B0BEC5",
                "#B0BEC5",
                "#B0BEC5",
                "#B0BEC5",
                "#B0BEC5",
                "#B0BEC5",
                "#B0BEC5",
                "#B0BEC5",
                "#B0BEC5",
                "#B0BEC5",
                "#B0BEC5",
                "#B0BEC5",
                "#B0BEC5",
                "#B0BEC5",
                "#B0BEC5",
                "#B0BEC5",
                "#B0BEC5",
                "#B0BEC5",
                "#B0BEC5",
                "#B0BEC5",
                "#B0BEC5",
                "#B0BEC5",
                "#B0BEC5",
                "#B0BEC5",
                "#B0BEC5",
                "#B0BEC5",
                "#B0BEC5",
                "#B0BEC5",
                "#B0BEC5",
                "#B0BEC5"
               ]
              ]
             }
            ],
            "label": "Topic 8",
            "method": "update"
           },
           {
            "args": [
             {
              "marker.color": [
               [
                "#B0BEC5",
                "#B0BEC5",
                "#B0BEC5",
                "#B0BEC5",
                "#B0BEC5",
                "#B0BEC5",
                "#B0BEC5",
                "#B0BEC5",
                "#B0BEC5",
                "red",
                "#B0BEC5",
                "#B0BEC5",
                "#B0BEC5",
                "#B0BEC5",
                "#B0BEC5",
                "#B0BEC5",
                "#B0BEC5",
                "#B0BEC5",
                "#B0BEC5",
                "#B0BEC5",
                "#B0BEC5",
                "#B0BEC5",
                "#B0BEC5",
                "#B0BEC5",
                "#B0BEC5",
                "#B0BEC5",
                "#B0BEC5",
                "#B0BEC5",
                "#B0BEC5",
                "#B0BEC5",
                "#B0BEC5",
                "#B0BEC5",
                "#B0BEC5",
                "#B0BEC5",
                "#B0BEC5",
                "#B0BEC5",
                "#B0BEC5",
                "#B0BEC5",
                "#B0BEC5",
                "#B0BEC5"
               ]
              ]
             }
            ],
            "label": "Topic 9",
            "method": "update"
           },
           {
            "args": [
             {
              "marker.color": [
               [
                "#B0BEC5",
                "#B0BEC5",
                "#B0BEC5",
                "#B0BEC5",
                "#B0BEC5",
                "#B0BEC5",
                "#B0BEC5",
                "#B0BEC5",
                "#B0BEC5",
                "#B0BEC5",
                "red",
                "#B0BEC5",
                "#B0BEC5",
                "#B0BEC5",
                "#B0BEC5",
                "#B0BEC5",
                "#B0BEC5",
                "#B0BEC5",
                "#B0BEC5",
                "#B0BEC5",
                "#B0BEC5",
                "#B0BEC5",
                "#B0BEC5",
                "#B0BEC5",
                "#B0BEC5",
                "#B0BEC5",
                "#B0BEC5",
                "#B0BEC5",
                "#B0BEC5",
                "#B0BEC5",
                "#B0BEC5",
                "#B0BEC5",
                "#B0BEC5",
                "#B0BEC5",
                "#B0BEC5",
                "#B0BEC5",
                "#B0BEC5",
                "#B0BEC5",
                "#B0BEC5",
                "#B0BEC5"
               ]
              ]
             }
            ],
            "label": "Topic 10",
            "method": "update"
           },
           {
            "args": [
             {
              "marker.color": [
               [
                "#B0BEC5",
                "#B0BEC5",
                "#B0BEC5",
                "#B0BEC5",
                "#B0BEC5",
                "#B0BEC5",
                "#B0BEC5",
                "#B0BEC5",
                "#B0BEC5",
                "#B0BEC5",
                "#B0BEC5",
                "red",
                "#B0BEC5",
                "#B0BEC5",
                "#B0BEC5",
                "#B0BEC5",
                "#B0BEC5",
                "#B0BEC5",
                "#B0BEC5",
                "#B0BEC5",
                "#B0BEC5",
                "#B0BEC5",
                "#B0BEC5",
                "#B0BEC5",
                "#B0BEC5",
                "#B0BEC5",
                "#B0BEC5",
                "#B0BEC5",
                "#B0BEC5",
                "#B0BEC5",
                "#B0BEC5",
                "#B0BEC5",
                "#B0BEC5",
                "#B0BEC5",
                "#B0BEC5",
                "#B0BEC5",
                "#B0BEC5",
                "#B0BEC5",
                "#B0BEC5",
                "#B0BEC5"
               ]
              ]
             }
            ],
            "label": "Topic 11",
            "method": "update"
           },
           {
            "args": [
             {
              "marker.color": [
               [
                "#B0BEC5",
                "#B0BEC5",
                "#B0BEC5",
                "#B0BEC5",
                "#B0BEC5",
                "#B0BEC5",
                "#B0BEC5",
                "#B0BEC5",
                "#B0BEC5",
                "#B0BEC5",
                "#B0BEC5",
                "#B0BEC5",
                "red",
                "#B0BEC5",
                "#B0BEC5",
                "#B0BEC5",
                "#B0BEC5",
                "#B0BEC5",
                "#B0BEC5",
                "#B0BEC5",
                "#B0BEC5",
                "#B0BEC5",
                "#B0BEC5",
                "#B0BEC5",
                "#B0BEC5",
                "#B0BEC5",
                "#B0BEC5",
                "#B0BEC5",
                "#B0BEC5",
                "#B0BEC5",
                "#B0BEC5",
                "#B0BEC5",
                "#B0BEC5",
                "#B0BEC5",
                "#B0BEC5",
                "#B0BEC5",
                "#B0BEC5",
                "#B0BEC5",
                "#B0BEC5",
                "#B0BEC5"
               ]
              ]
             }
            ],
            "label": "Topic 12",
            "method": "update"
           },
           {
            "args": [
             {
              "marker.color": [
               [
                "#B0BEC5",
                "#B0BEC5",
                "#B0BEC5",
                "#B0BEC5",
                "#B0BEC5",
                "#B0BEC5",
                "#B0BEC5",
                "#B0BEC5",
                "#B0BEC5",
                "#B0BEC5",
                "#B0BEC5",
                "#B0BEC5",
                "#B0BEC5",
                "red",
                "#B0BEC5",
                "#B0BEC5",
                "#B0BEC5",
                "#B0BEC5",
                "#B0BEC5",
                "#B0BEC5",
                "#B0BEC5",
                "#B0BEC5",
                "#B0BEC5",
                "#B0BEC5",
                "#B0BEC5",
                "#B0BEC5",
                "#B0BEC5",
                "#B0BEC5",
                "#B0BEC5",
                "#B0BEC5",
                "#B0BEC5",
                "#B0BEC5",
                "#B0BEC5",
                "#B0BEC5",
                "#B0BEC5",
                "#B0BEC5",
                "#B0BEC5",
                "#B0BEC5",
                "#B0BEC5",
                "#B0BEC5"
               ]
              ]
             }
            ],
            "label": "Topic 13",
            "method": "update"
           },
           {
            "args": [
             {
              "marker.color": [
               [
                "#B0BEC5",
                "#B0BEC5",
                "#B0BEC5",
                "#B0BEC5",
                "#B0BEC5",
                "#B0BEC5",
                "#B0BEC5",
                "#B0BEC5",
                "#B0BEC5",
                "#B0BEC5",
                "#B0BEC5",
                "#B0BEC5",
                "#B0BEC5",
                "#B0BEC5",
                "red",
                "#B0BEC5",
                "#B0BEC5",
                "#B0BEC5",
                "#B0BEC5",
                "#B0BEC5",
                "#B0BEC5",
                "#B0BEC5",
                "#B0BEC5",
                "#B0BEC5",
                "#B0BEC5",
                "#B0BEC5",
                "#B0BEC5",
                "#B0BEC5",
                "#B0BEC5",
                "#B0BEC5",
                "#B0BEC5",
                "#B0BEC5",
                "#B0BEC5",
                "#B0BEC5",
                "#B0BEC5",
                "#B0BEC5",
                "#B0BEC5",
                "#B0BEC5",
                "#B0BEC5",
                "#B0BEC5"
               ]
              ]
             }
            ],
            "label": "Topic 14",
            "method": "update"
           },
           {
            "args": [
             {
              "marker.color": [
               [
                "#B0BEC5",
                "#B0BEC5",
                "#B0BEC5",
                "#B0BEC5",
                "#B0BEC5",
                "#B0BEC5",
                "#B0BEC5",
                "#B0BEC5",
                "#B0BEC5",
                "#B0BEC5",
                "#B0BEC5",
                "#B0BEC5",
                "#B0BEC5",
                "#B0BEC5",
                "#B0BEC5",
                "red",
                "#B0BEC5",
                "#B0BEC5",
                "#B0BEC5",
                "#B0BEC5",
                "#B0BEC5",
                "#B0BEC5",
                "#B0BEC5",
                "#B0BEC5",
                "#B0BEC5",
                "#B0BEC5",
                "#B0BEC5",
                "#B0BEC5",
                "#B0BEC5",
                "#B0BEC5",
                "#B0BEC5",
                "#B0BEC5",
                "#B0BEC5",
                "#B0BEC5",
                "#B0BEC5",
                "#B0BEC5",
                "#B0BEC5",
                "#B0BEC5",
                "#B0BEC5",
                "#B0BEC5"
               ]
              ]
             }
            ],
            "label": "Topic 15",
            "method": "update"
           },
           {
            "args": [
             {
              "marker.color": [
               [
                "#B0BEC5",
                "#B0BEC5",
                "#B0BEC5",
                "#B0BEC5",
                "#B0BEC5",
                "#B0BEC5",
                "#B0BEC5",
                "#B0BEC5",
                "#B0BEC5",
                "#B0BEC5",
                "#B0BEC5",
                "#B0BEC5",
                "#B0BEC5",
                "#B0BEC5",
                "#B0BEC5",
                "#B0BEC5",
                "red",
                "#B0BEC5",
                "#B0BEC5",
                "#B0BEC5",
                "#B0BEC5",
                "#B0BEC5",
                "#B0BEC5",
                "#B0BEC5",
                "#B0BEC5",
                "#B0BEC5",
                "#B0BEC5",
                "#B0BEC5",
                "#B0BEC5",
                "#B0BEC5",
                "#B0BEC5",
                "#B0BEC5",
                "#B0BEC5",
                "#B0BEC5",
                "#B0BEC5",
                "#B0BEC5",
                "#B0BEC5",
                "#B0BEC5",
                "#B0BEC5",
                "#B0BEC5"
               ]
              ]
             }
            ],
            "label": "Topic 16",
            "method": "update"
           },
           {
            "args": [
             {
              "marker.color": [
               [
                "#B0BEC5",
                "#B0BEC5",
                "#B0BEC5",
                "#B0BEC5",
                "#B0BEC5",
                "#B0BEC5",
                "#B0BEC5",
                "#B0BEC5",
                "#B0BEC5",
                "#B0BEC5",
                "#B0BEC5",
                "#B0BEC5",
                "#B0BEC5",
                "#B0BEC5",
                "#B0BEC5",
                "#B0BEC5",
                "#B0BEC5",
                "red",
                "#B0BEC5",
                "#B0BEC5",
                "#B0BEC5",
                "#B0BEC5",
                "#B0BEC5",
                "#B0BEC5",
                "#B0BEC5",
                "#B0BEC5",
                "#B0BEC5",
                "#B0BEC5",
                "#B0BEC5",
                "#B0BEC5",
                "#B0BEC5",
                "#B0BEC5",
                "#B0BEC5",
                "#B0BEC5",
                "#B0BEC5",
                "#B0BEC5",
                "#B0BEC5",
                "#B0BEC5",
                "#B0BEC5",
                "#B0BEC5"
               ]
              ]
             }
            ],
            "label": "Topic 17",
            "method": "update"
           },
           {
            "args": [
             {
              "marker.color": [
               [
                "#B0BEC5",
                "#B0BEC5",
                "#B0BEC5",
                "#B0BEC5",
                "#B0BEC5",
                "#B0BEC5",
                "#B0BEC5",
                "#B0BEC5",
                "#B0BEC5",
                "#B0BEC5",
                "#B0BEC5",
                "#B0BEC5",
                "#B0BEC5",
                "#B0BEC5",
                "#B0BEC5",
                "#B0BEC5",
                "#B0BEC5",
                "#B0BEC5",
                "red",
                "#B0BEC5",
                "#B0BEC5",
                "#B0BEC5",
                "#B0BEC5",
                "#B0BEC5",
                "#B0BEC5",
                "#B0BEC5",
                "#B0BEC5",
                "#B0BEC5",
                "#B0BEC5",
                "#B0BEC5",
                "#B0BEC5",
                "#B0BEC5",
                "#B0BEC5",
                "#B0BEC5",
                "#B0BEC5",
                "#B0BEC5",
                "#B0BEC5",
                "#B0BEC5",
                "#B0BEC5",
                "#B0BEC5"
               ]
              ]
             }
            ],
            "label": "Topic 18",
            "method": "update"
           },
           {
            "args": [
             {
              "marker.color": [
               [
                "#B0BEC5",
                "#B0BEC5",
                "#B0BEC5",
                "#B0BEC5",
                "#B0BEC5",
                "#B0BEC5",
                "#B0BEC5",
                "#B0BEC5",
                "#B0BEC5",
                "#B0BEC5",
                "#B0BEC5",
                "#B0BEC5",
                "#B0BEC5",
                "#B0BEC5",
                "#B0BEC5",
                "#B0BEC5",
                "#B0BEC5",
                "#B0BEC5",
                "#B0BEC5",
                "red",
                "#B0BEC5",
                "#B0BEC5",
                "#B0BEC5",
                "#B0BEC5",
                "#B0BEC5",
                "#B0BEC5",
                "#B0BEC5",
                "#B0BEC5",
                "#B0BEC5",
                "#B0BEC5",
                "#B0BEC5",
                "#B0BEC5",
                "#B0BEC5",
                "#B0BEC5",
                "#B0BEC5",
                "#B0BEC5",
                "#B0BEC5",
                "#B0BEC5",
                "#B0BEC5",
                "#B0BEC5"
               ]
              ]
             }
            ],
            "label": "Topic 19",
            "method": "update"
           },
           {
            "args": [
             {
              "marker.color": [
               [
                "#B0BEC5",
                "#B0BEC5",
                "#B0BEC5",
                "#B0BEC5",
                "#B0BEC5",
                "#B0BEC5",
                "#B0BEC5",
                "#B0BEC5",
                "#B0BEC5",
                "#B0BEC5",
                "#B0BEC5",
                "#B0BEC5",
                "#B0BEC5",
                "#B0BEC5",
                "#B0BEC5",
                "#B0BEC5",
                "#B0BEC5",
                "#B0BEC5",
                "#B0BEC5",
                "#B0BEC5",
                "red",
                "#B0BEC5",
                "#B0BEC5",
                "#B0BEC5",
                "#B0BEC5",
                "#B0BEC5",
                "#B0BEC5",
                "#B0BEC5",
                "#B0BEC5",
                "#B0BEC5",
                "#B0BEC5",
                "#B0BEC5",
                "#B0BEC5",
                "#B0BEC5",
                "#B0BEC5",
                "#B0BEC5",
                "#B0BEC5",
                "#B0BEC5",
                "#B0BEC5",
                "#B0BEC5"
               ]
              ]
             }
            ],
            "label": "Topic 20",
            "method": "update"
           },
           {
            "args": [
             {
              "marker.color": [
               [
                "#B0BEC5",
                "#B0BEC5",
                "#B0BEC5",
                "#B0BEC5",
                "#B0BEC5",
                "#B0BEC5",
                "#B0BEC5",
                "#B0BEC5",
                "#B0BEC5",
                "#B0BEC5",
                "#B0BEC5",
                "#B0BEC5",
                "#B0BEC5",
                "#B0BEC5",
                "#B0BEC5",
                "#B0BEC5",
                "#B0BEC5",
                "#B0BEC5",
                "#B0BEC5",
                "#B0BEC5",
                "#B0BEC5",
                "red",
                "#B0BEC5",
                "#B0BEC5",
                "#B0BEC5",
                "#B0BEC5",
                "#B0BEC5",
                "#B0BEC5",
                "#B0BEC5",
                "#B0BEC5",
                "#B0BEC5",
                "#B0BEC5",
                "#B0BEC5",
                "#B0BEC5",
                "#B0BEC5",
                "#B0BEC5",
                "#B0BEC5",
                "#B0BEC5",
                "#B0BEC5",
                "#B0BEC5"
               ]
              ]
             }
            ],
            "label": "Topic 21",
            "method": "update"
           },
           {
            "args": [
             {
              "marker.color": [
               [
                "#B0BEC5",
                "#B0BEC5",
                "#B0BEC5",
                "#B0BEC5",
                "#B0BEC5",
                "#B0BEC5",
                "#B0BEC5",
                "#B0BEC5",
                "#B0BEC5",
                "#B0BEC5",
                "#B0BEC5",
                "#B0BEC5",
                "#B0BEC5",
                "#B0BEC5",
                "#B0BEC5",
                "#B0BEC5",
                "#B0BEC5",
                "#B0BEC5",
                "#B0BEC5",
                "#B0BEC5",
                "#B0BEC5",
                "#B0BEC5",
                "red",
                "#B0BEC5",
                "#B0BEC5",
                "#B0BEC5",
                "#B0BEC5",
                "#B0BEC5",
                "#B0BEC5",
                "#B0BEC5",
                "#B0BEC5",
                "#B0BEC5",
                "#B0BEC5",
                "#B0BEC5",
                "#B0BEC5",
                "#B0BEC5",
                "#B0BEC5",
                "#B0BEC5",
                "#B0BEC5",
                "#B0BEC5"
               ]
              ]
             }
            ],
            "label": "Topic 22",
            "method": "update"
           },
           {
            "args": [
             {
              "marker.color": [
               [
                "#B0BEC5",
                "#B0BEC5",
                "#B0BEC5",
                "#B0BEC5",
                "#B0BEC5",
                "#B0BEC5",
                "#B0BEC5",
                "#B0BEC5",
                "#B0BEC5",
                "#B0BEC5",
                "#B0BEC5",
                "#B0BEC5",
                "#B0BEC5",
                "#B0BEC5",
                "#B0BEC5",
                "#B0BEC5",
                "#B0BEC5",
                "#B0BEC5",
                "#B0BEC5",
                "#B0BEC5",
                "#B0BEC5",
                "#B0BEC5",
                "#B0BEC5",
                "red",
                "#B0BEC5",
                "#B0BEC5",
                "#B0BEC5",
                "#B0BEC5",
                "#B0BEC5",
                "#B0BEC5",
                "#B0BEC5",
                "#B0BEC5",
                "#B0BEC5",
                "#B0BEC5",
                "#B0BEC5",
                "#B0BEC5",
                "#B0BEC5",
                "#B0BEC5",
                "#B0BEC5",
                "#B0BEC5"
               ]
              ]
             }
            ],
            "label": "Topic 23",
            "method": "update"
           },
           {
            "args": [
             {
              "marker.color": [
               [
                "#B0BEC5",
                "#B0BEC5",
                "#B0BEC5",
                "#B0BEC5",
                "#B0BEC5",
                "#B0BEC5",
                "#B0BEC5",
                "#B0BEC5",
                "#B0BEC5",
                "#B0BEC5",
                "#B0BEC5",
                "#B0BEC5",
                "#B0BEC5",
                "#B0BEC5",
                "#B0BEC5",
                "#B0BEC5",
                "#B0BEC5",
                "#B0BEC5",
                "#B0BEC5",
                "#B0BEC5",
                "#B0BEC5",
                "#B0BEC5",
                "#B0BEC5",
                "#B0BEC5",
                "red",
                "#B0BEC5",
                "#B0BEC5",
                "#B0BEC5",
                "#B0BEC5",
                "#B0BEC5",
                "#B0BEC5",
                "#B0BEC5",
                "#B0BEC5",
                "#B0BEC5",
                "#B0BEC5",
                "#B0BEC5",
                "#B0BEC5",
                "#B0BEC5",
                "#B0BEC5",
                "#B0BEC5"
               ]
              ]
             }
            ],
            "label": "Topic 24",
            "method": "update"
           },
           {
            "args": [
             {
              "marker.color": [
               [
                "#B0BEC5",
                "#B0BEC5",
                "#B0BEC5",
                "#B0BEC5",
                "#B0BEC5",
                "#B0BEC5",
                "#B0BEC5",
                "#B0BEC5",
                "#B0BEC5",
                "#B0BEC5",
                "#B0BEC5",
                "#B0BEC5",
                "#B0BEC5",
                "#B0BEC5",
                "#B0BEC5",
                "#B0BEC5",
                "#B0BEC5",
                "#B0BEC5",
                "#B0BEC5",
                "#B0BEC5",
                "#B0BEC5",
                "#B0BEC5",
                "#B0BEC5",
                "#B0BEC5",
                "#B0BEC5",
                "red",
                "#B0BEC5",
                "#B0BEC5",
                "#B0BEC5",
                "#B0BEC5",
                "#B0BEC5",
                "#B0BEC5",
                "#B0BEC5",
                "#B0BEC5",
                "#B0BEC5",
                "#B0BEC5",
                "#B0BEC5",
                "#B0BEC5",
                "#B0BEC5",
                "#B0BEC5"
               ]
              ]
             }
            ],
            "label": "Topic 25",
            "method": "update"
           },
           {
            "args": [
             {
              "marker.color": [
               [
                "#B0BEC5",
                "#B0BEC5",
                "#B0BEC5",
                "#B0BEC5",
                "#B0BEC5",
                "#B0BEC5",
                "#B0BEC5",
                "#B0BEC5",
                "#B0BEC5",
                "#B0BEC5",
                "#B0BEC5",
                "#B0BEC5",
                "#B0BEC5",
                "#B0BEC5",
                "#B0BEC5",
                "#B0BEC5",
                "#B0BEC5",
                "#B0BEC5",
                "#B0BEC5",
                "#B0BEC5",
                "#B0BEC5",
                "#B0BEC5",
                "#B0BEC5",
                "#B0BEC5",
                "#B0BEC5",
                "#B0BEC5",
                "red",
                "#B0BEC5",
                "#B0BEC5",
                "#B0BEC5",
                "#B0BEC5",
                "#B0BEC5",
                "#B0BEC5",
                "#B0BEC5",
                "#B0BEC5",
                "#B0BEC5",
                "#B0BEC5",
                "#B0BEC5",
                "#B0BEC5",
                "#B0BEC5"
               ]
              ]
             }
            ],
            "label": "Topic 26",
            "method": "update"
           },
           {
            "args": [
             {
              "marker.color": [
               [
                "#B0BEC5",
                "#B0BEC5",
                "#B0BEC5",
                "#B0BEC5",
                "#B0BEC5",
                "#B0BEC5",
                "#B0BEC5",
                "#B0BEC5",
                "#B0BEC5",
                "#B0BEC5",
                "#B0BEC5",
                "#B0BEC5",
                "#B0BEC5",
                "#B0BEC5",
                "#B0BEC5",
                "#B0BEC5",
                "#B0BEC5",
                "#B0BEC5",
                "#B0BEC5",
                "#B0BEC5",
                "#B0BEC5",
                "#B0BEC5",
                "#B0BEC5",
                "#B0BEC5",
                "#B0BEC5",
                "#B0BEC5",
                "#B0BEC5",
                "red",
                "#B0BEC5",
                "#B0BEC5",
                "#B0BEC5",
                "#B0BEC5",
                "#B0BEC5",
                "#B0BEC5",
                "#B0BEC5",
                "#B0BEC5",
                "#B0BEC5",
                "#B0BEC5",
                "#B0BEC5",
                "#B0BEC5"
               ]
              ]
             }
            ],
            "label": "Topic 27",
            "method": "update"
           },
           {
            "args": [
             {
              "marker.color": [
               [
                "#B0BEC5",
                "#B0BEC5",
                "#B0BEC5",
                "#B0BEC5",
                "#B0BEC5",
                "#B0BEC5",
                "#B0BEC5",
                "#B0BEC5",
                "#B0BEC5",
                "#B0BEC5",
                "#B0BEC5",
                "#B0BEC5",
                "#B0BEC5",
                "#B0BEC5",
                "#B0BEC5",
                "#B0BEC5",
                "#B0BEC5",
                "#B0BEC5",
                "#B0BEC5",
                "#B0BEC5",
                "#B0BEC5",
                "#B0BEC5",
                "#B0BEC5",
                "#B0BEC5",
                "#B0BEC5",
                "#B0BEC5",
                "#B0BEC5",
                "#B0BEC5",
                "red",
                "#B0BEC5",
                "#B0BEC5",
                "#B0BEC5",
                "#B0BEC5",
                "#B0BEC5",
                "#B0BEC5",
                "#B0BEC5",
                "#B0BEC5",
                "#B0BEC5",
                "#B0BEC5",
                "#B0BEC5"
               ]
              ]
             }
            ],
            "label": "Topic 28",
            "method": "update"
           },
           {
            "args": [
             {
              "marker.color": [
               [
                "#B0BEC5",
                "#B0BEC5",
                "#B0BEC5",
                "#B0BEC5",
                "#B0BEC5",
                "#B0BEC5",
                "#B0BEC5",
                "#B0BEC5",
                "#B0BEC5",
                "#B0BEC5",
                "#B0BEC5",
                "#B0BEC5",
                "#B0BEC5",
                "#B0BEC5",
                "#B0BEC5",
                "#B0BEC5",
                "#B0BEC5",
                "#B0BEC5",
                "#B0BEC5",
                "#B0BEC5",
                "#B0BEC5",
                "#B0BEC5",
                "#B0BEC5",
                "#B0BEC5",
                "#B0BEC5",
                "#B0BEC5",
                "#B0BEC5",
                "#B0BEC5",
                "#B0BEC5",
                "red",
                "#B0BEC5",
                "#B0BEC5",
                "#B0BEC5",
                "#B0BEC5",
                "#B0BEC5",
                "#B0BEC5",
                "#B0BEC5",
                "#B0BEC5",
                "#B0BEC5",
                "#B0BEC5"
               ]
              ]
             }
            ],
            "label": "Topic 29",
            "method": "update"
           },
           {
            "args": [
             {
              "marker.color": [
               [
                "#B0BEC5",
                "#B0BEC5",
                "#B0BEC5",
                "#B0BEC5",
                "#B0BEC5",
                "#B0BEC5",
                "#B0BEC5",
                "#B0BEC5",
                "#B0BEC5",
                "#B0BEC5",
                "#B0BEC5",
                "#B0BEC5",
                "#B0BEC5",
                "#B0BEC5",
                "#B0BEC5",
                "#B0BEC5",
                "#B0BEC5",
                "#B0BEC5",
                "#B0BEC5",
                "#B0BEC5",
                "#B0BEC5",
                "#B0BEC5",
                "#B0BEC5",
                "#B0BEC5",
                "#B0BEC5",
                "#B0BEC5",
                "#B0BEC5",
                "#B0BEC5",
                "#B0BEC5",
                "#B0BEC5",
                "red",
                "#B0BEC5",
                "#B0BEC5",
                "#B0BEC5",
                "#B0BEC5",
                "#B0BEC5",
                "#B0BEC5",
                "#B0BEC5",
                "#B0BEC5",
                "#B0BEC5"
               ]
              ]
             }
            ],
            "label": "Topic 30",
            "method": "update"
           },
           {
            "args": [
             {
              "marker.color": [
               [
                "#B0BEC5",
                "#B0BEC5",
                "#B0BEC5",
                "#B0BEC5",
                "#B0BEC5",
                "#B0BEC5",
                "#B0BEC5",
                "#B0BEC5",
                "#B0BEC5",
                "#B0BEC5",
                "#B0BEC5",
                "#B0BEC5",
                "#B0BEC5",
                "#B0BEC5",
                "#B0BEC5",
                "#B0BEC5",
                "#B0BEC5",
                "#B0BEC5",
                "#B0BEC5",
                "#B0BEC5",
                "#B0BEC5",
                "#B0BEC5",
                "#B0BEC5",
                "#B0BEC5",
                "#B0BEC5",
                "#B0BEC5",
                "#B0BEC5",
                "#B0BEC5",
                "#B0BEC5",
                "#B0BEC5",
                "#B0BEC5",
                "red",
                "#B0BEC5",
                "#B0BEC5",
                "#B0BEC5",
                "#B0BEC5",
                "#B0BEC5",
                "#B0BEC5",
                "#B0BEC5",
                "#B0BEC5"
               ]
              ]
             }
            ],
            "label": "Topic 31",
            "method": "update"
           },
           {
            "args": [
             {
              "marker.color": [
               [
                "#B0BEC5",
                "#B0BEC5",
                "#B0BEC5",
                "#B0BEC5",
                "#B0BEC5",
                "#B0BEC5",
                "#B0BEC5",
                "#B0BEC5",
                "#B0BEC5",
                "#B0BEC5",
                "#B0BEC5",
                "#B0BEC5",
                "#B0BEC5",
                "#B0BEC5",
                "#B0BEC5",
                "#B0BEC5",
                "#B0BEC5",
                "#B0BEC5",
                "#B0BEC5",
                "#B0BEC5",
                "#B0BEC5",
                "#B0BEC5",
                "#B0BEC5",
                "#B0BEC5",
                "#B0BEC5",
                "#B0BEC5",
                "#B0BEC5",
                "#B0BEC5",
                "#B0BEC5",
                "#B0BEC5",
                "#B0BEC5",
                "#B0BEC5",
                "red",
                "#B0BEC5",
                "#B0BEC5",
                "#B0BEC5",
                "#B0BEC5",
                "#B0BEC5",
                "#B0BEC5",
                "#B0BEC5"
               ]
              ]
             }
            ],
            "label": "Topic 32",
            "method": "update"
           },
           {
            "args": [
             {
              "marker.color": [
               [
                "#B0BEC5",
                "#B0BEC5",
                "#B0BEC5",
                "#B0BEC5",
                "#B0BEC5",
                "#B0BEC5",
                "#B0BEC5",
                "#B0BEC5",
                "#B0BEC5",
                "#B0BEC5",
                "#B0BEC5",
                "#B0BEC5",
                "#B0BEC5",
                "#B0BEC5",
                "#B0BEC5",
                "#B0BEC5",
                "#B0BEC5",
                "#B0BEC5",
                "#B0BEC5",
                "#B0BEC5",
                "#B0BEC5",
                "#B0BEC5",
                "#B0BEC5",
                "#B0BEC5",
                "#B0BEC5",
                "#B0BEC5",
                "#B0BEC5",
                "#B0BEC5",
                "#B0BEC5",
                "#B0BEC5",
                "#B0BEC5",
                "#B0BEC5",
                "#B0BEC5",
                "red",
                "#B0BEC5",
                "#B0BEC5",
                "#B0BEC5",
                "#B0BEC5",
                "#B0BEC5",
                "#B0BEC5"
               ]
              ]
             }
            ],
            "label": "Topic 33",
            "method": "update"
           },
           {
            "args": [
             {
              "marker.color": [
               [
                "#B0BEC5",
                "#B0BEC5",
                "#B0BEC5",
                "#B0BEC5",
                "#B0BEC5",
                "#B0BEC5",
                "#B0BEC5",
                "#B0BEC5",
                "#B0BEC5",
                "#B0BEC5",
                "#B0BEC5",
                "#B0BEC5",
                "#B0BEC5",
                "#B0BEC5",
                "#B0BEC5",
                "#B0BEC5",
                "#B0BEC5",
                "#B0BEC5",
                "#B0BEC5",
                "#B0BEC5",
                "#B0BEC5",
                "#B0BEC5",
                "#B0BEC5",
                "#B0BEC5",
                "#B0BEC5",
                "#B0BEC5",
                "#B0BEC5",
                "#B0BEC5",
                "#B0BEC5",
                "#B0BEC5",
                "#B0BEC5",
                "#B0BEC5",
                "#B0BEC5",
                "#B0BEC5",
                "red",
                "#B0BEC5",
                "#B0BEC5",
                "#B0BEC5",
                "#B0BEC5",
                "#B0BEC5"
               ]
              ]
             }
            ],
            "label": "Topic 34",
            "method": "update"
           },
           {
            "args": [
             {
              "marker.color": [
               [
                "#B0BEC5",
                "#B0BEC5",
                "#B0BEC5",
                "#B0BEC5",
                "#B0BEC5",
                "#B0BEC5",
                "#B0BEC5",
                "#B0BEC5",
                "#B0BEC5",
                "#B0BEC5",
                "#B0BEC5",
                "#B0BEC5",
                "#B0BEC5",
                "#B0BEC5",
                "#B0BEC5",
                "#B0BEC5",
                "#B0BEC5",
                "#B0BEC5",
                "#B0BEC5",
                "#B0BEC5",
                "#B0BEC5",
                "#B0BEC5",
                "#B0BEC5",
                "#B0BEC5",
                "#B0BEC5",
                "#B0BEC5",
                "#B0BEC5",
                "#B0BEC5",
                "#B0BEC5",
                "#B0BEC5",
                "#B0BEC5",
                "#B0BEC5",
                "#B0BEC5",
                "#B0BEC5",
                "#B0BEC5",
                "red",
                "#B0BEC5",
                "#B0BEC5",
                "#B0BEC5",
                "#B0BEC5"
               ]
              ]
             }
            ],
            "label": "Topic 35",
            "method": "update"
           },
           {
            "args": [
             {
              "marker.color": [
               [
                "#B0BEC5",
                "#B0BEC5",
                "#B0BEC5",
                "#B0BEC5",
                "#B0BEC5",
                "#B0BEC5",
                "#B0BEC5",
                "#B0BEC5",
                "#B0BEC5",
                "#B0BEC5",
                "#B0BEC5",
                "#B0BEC5",
                "#B0BEC5",
                "#B0BEC5",
                "#B0BEC5",
                "#B0BEC5",
                "#B0BEC5",
                "#B0BEC5",
                "#B0BEC5",
                "#B0BEC5",
                "#B0BEC5",
                "#B0BEC5",
                "#B0BEC5",
                "#B0BEC5",
                "#B0BEC5",
                "#B0BEC5",
                "#B0BEC5",
                "#B0BEC5",
                "#B0BEC5",
                "#B0BEC5",
                "#B0BEC5",
                "#B0BEC5",
                "#B0BEC5",
                "#B0BEC5",
                "#B0BEC5",
                "#B0BEC5",
                "red",
                "#B0BEC5",
                "#B0BEC5",
                "#B0BEC5"
               ]
              ]
             }
            ],
            "label": "Topic 36",
            "method": "update"
           },
           {
            "args": [
             {
              "marker.color": [
               [
                "#B0BEC5",
                "#B0BEC5",
                "#B0BEC5",
                "#B0BEC5",
                "#B0BEC5",
                "#B0BEC5",
                "#B0BEC5",
                "#B0BEC5",
                "#B0BEC5",
                "#B0BEC5",
                "#B0BEC5",
                "#B0BEC5",
                "#B0BEC5",
                "#B0BEC5",
                "#B0BEC5",
                "#B0BEC5",
                "#B0BEC5",
                "#B0BEC5",
                "#B0BEC5",
                "#B0BEC5",
                "#B0BEC5",
                "#B0BEC5",
                "#B0BEC5",
                "#B0BEC5",
                "#B0BEC5",
                "#B0BEC5",
                "#B0BEC5",
                "#B0BEC5",
                "#B0BEC5",
                "#B0BEC5",
                "#B0BEC5",
                "#B0BEC5",
                "#B0BEC5",
                "#B0BEC5",
                "#B0BEC5",
                "#B0BEC5",
                "#B0BEC5",
                "red",
                "#B0BEC5",
                "#B0BEC5"
               ]
              ]
             }
            ],
            "label": "Topic 37",
            "method": "update"
           },
           {
            "args": [
             {
              "marker.color": [
               [
                "#B0BEC5",
                "#B0BEC5",
                "#B0BEC5",
                "#B0BEC5",
                "#B0BEC5",
                "#B0BEC5",
                "#B0BEC5",
                "#B0BEC5",
                "#B0BEC5",
                "#B0BEC5",
                "#B0BEC5",
                "#B0BEC5",
                "#B0BEC5",
                "#B0BEC5",
                "#B0BEC5",
                "#B0BEC5",
                "#B0BEC5",
                "#B0BEC5",
                "#B0BEC5",
                "#B0BEC5",
                "#B0BEC5",
                "#B0BEC5",
                "#B0BEC5",
                "#B0BEC5",
                "#B0BEC5",
                "#B0BEC5",
                "#B0BEC5",
                "#B0BEC5",
                "#B0BEC5",
                "#B0BEC5",
                "#B0BEC5",
                "#B0BEC5",
                "#B0BEC5",
                "#B0BEC5",
                "#B0BEC5",
                "#B0BEC5",
                "#B0BEC5",
                "#B0BEC5",
                "red",
                "#B0BEC5"
               ]
              ]
             }
            ],
            "label": "Topic 38",
            "method": "update"
           },
           {
            "args": [
             {
              "marker.color": [
               [
                "#B0BEC5",
                "#B0BEC5",
                "#B0BEC5",
                "#B0BEC5",
                "#B0BEC5",
                "#B0BEC5",
                "#B0BEC5",
                "#B0BEC5",
                "#B0BEC5",
                "#B0BEC5",
                "#B0BEC5",
                "#B0BEC5",
                "#B0BEC5",
                "#B0BEC5",
                "#B0BEC5",
                "#B0BEC5",
                "#B0BEC5",
                "#B0BEC5",
                "#B0BEC5",
                "#B0BEC5",
                "#B0BEC5",
                "#B0BEC5",
                "#B0BEC5",
                "#B0BEC5",
                "#B0BEC5",
                "#B0BEC5",
                "#B0BEC5",
                "#B0BEC5",
                "#B0BEC5",
                "#B0BEC5",
                "#B0BEC5",
                "#B0BEC5",
                "#B0BEC5",
                "#B0BEC5",
                "#B0BEC5",
                "#B0BEC5",
                "#B0BEC5",
                "#B0BEC5",
                "#B0BEC5",
                "red"
               ]
              ]
             }
            ],
            "label": "Topic 39",
            "method": "update"
           }
          ]
         }
        ],
        "template": {
         "data": {
          "bar": [
           {
            "error_x": {
             "color": "rgb(36,36,36)"
            },
            "error_y": {
             "color": "rgb(36,36,36)"
            },
            "marker": {
             "line": {
              "color": "white",
              "width": 0.5
             },
             "pattern": {
              "fillmode": "overlay",
              "size": 10,
              "solidity": 0.2
             }
            },
            "type": "bar"
           }
          ],
          "barpolar": [
           {
            "marker": {
             "line": {
              "color": "white",
              "width": 0.5
             },
             "pattern": {
              "fillmode": "overlay",
              "size": 10,
              "solidity": 0.2
             }
            },
            "type": "barpolar"
           }
          ],
          "carpet": [
           {
            "aaxis": {
             "endlinecolor": "rgb(36,36,36)",
             "gridcolor": "white",
             "linecolor": "white",
             "minorgridcolor": "white",
             "startlinecolor": "rgb(36,36,36)"
            },
            "baxis": {
             "endlinecolor": "rgb(36,36,36)",
             "gridcolor": "white",
             "linecolor": "white",
             "minorgridcolor": "white",
             "startlinecolor": "rgb(36,36,36)"
            },
            "type": "carpet"
           }
          ],
          "choropleth": [
           {
            "colorbar": {
             "outlinewidth": 1,
             "tickcolor": "rgb(36,36,36)",
             "ticks": "outside"
            },
            "type": "choropleth"
           }
          ],
          "contour": [
           {
            "colorbar": {
             "outlinewidth": 1,
             "tickcolor": "rgb(36,36,36)",
             "ticks": "outside"
            },
            "colorscale": [
             [
              0,
              "#440154"
             ],
             [
              0.1111111111111111,
              "#482878"
             ],
             [
              0.2222222222222222,
              "#3e4989"
             ],
             [
              0.3333333333333333,
              "#31688e"
             ],
             [
              0.4444444444444444,
              "#26828e"
             ],
             [
              0.5555555555555556,
              "#1f9e89"
             ],
             [
              0.6666666666666666,
              "#35b779"
             ],
             [
              0.7777777777777778,
              "#6ece58"
             ],
             [
              0.8888888888888888,
              "#b5de2b"
             ],
             [
              1,
              "#fde725"
             ]
            ],
            "type": "contour"
           }
          ],
          "contourcarpet": [
           {
            "colorbar": {
             "outlinewidth": 1,
             "tickcolor": "rgb(36,36,36)",
             "ticks": "outside"
            },
            "type": "contourcarpet"
           }
          ],
          "heatmap": [
           {
            "colorbar": {
             "outlinewidth": 1,
             "tickcolor": "rgb(36,36,36)",
             "ticks": "outside"
            },
            "colorscale": [
             [
              0,
              "#440154"
             ],
             [
              0.1111111111111111,
              "#482878"
             ],
             [
              0.2222222222222222,
              "#3e4989"
             ],
             [
              0.3333333333333333,
              "#31688e"
             ],
             [
              0.4444444444444444,
              "#26828e"
             ],
             [
              0.5555555555555556,
              "#1f9e89"
             ],
             [
              0.6666666666666666,
              "#35b779"
             ],
             [
              0.7777777777777778,
              "#6ece58"
             ],
             [
              0.8888888888888888,
              "#b5de2b"
             ],
             [
              1,
              "#fde725"
             ]
            ],
            "type": "heatmap"
           }
          ],
          "heatmapgl": [
           {
            "colorbar": {
             "outlinewidth": 1,
             "tickcolor": "rgb(36,36,36)",
             "ticks": "outside"
            },
            "colorscale": [
             [
              0,
              "#440154"
             ],
             [
              0.1111111111111111,
              "#482878"
             ],
             [
              0.2222222222222222,
              "#3e4989"
             ],
             [
              0.3333333333333333,
              "#31688e"
             ],
             [
              0.4444444444444444,
              "#26828e"
             ],
             [
              0.5555555555555556,
              "#1f9e89"
             ],
             [
              0.6666666666666666,
              "#35b779"
             ],
             [
              0.7777777777777778,
              "#6ece58"
             ],
             [
              0.8888888888888888,
              "#b5de2b"
             ],
             [
              1,
              "#fde725"
             ]
            ],
            "type": "heatmapgl"
           }
          ],
          "histogram": [
           {
            "marker": {
             "line": {
              "color": "white",
              "width": 0.6
             }
            },
            "type": "histogram"
           }
          ],
          "histogram2d": [
           {
            "colorbar": {
             "outlinewidth": 1,
             "tickcolor": "rgb(36,36,36)",
             "ticks": "outside"
            },
            "colorscale": [
             [
              0,
              "#440154"
             ],
             [
              0.1111111111111111,
              "#482878"
             ],
             [
              0.2222222222222222,
              "#3e4989"
             ],
             [
              0.3333333333333333,
              "#31688e"
             ],
             [
              0.4444444444444444,
              "#26828e"
             ],
             [
              0.5555555555555556,
              "#1f9e89"
             ],
             [
              0.6666666666666666,
              "#35b779"
             ],
             [
              0.7777777777777778,
              "#6ece58"
             ],
             [
              0.8888888888888888,
              "#b5de2b"
             ],
             [
              1,
              "#fde725"
             ]
            ],
            "type": "histogram2d"
           }
          ],
          "histogram2dcontour": [
           {
            "colorbar": {
             "outlinewidth": 1,
             "tickcolor": "rgb(36,36,36)",
             "ticks": "outside"
            },
            "colorscale": [
             [
              0,
              "#440154"
             ],
             [
              0.1111111111111111,
              "#482878"
             ],
             [
              0.2222222222222222,
              "#3e4989"
             ],
             [
              0.3333333333333333,
              "#31688e"
             ],
             [
              0.4444444444444444,
              "#26828e"
             ],
             [
              0.5555555555555556,
              "#1f9e89"
             ],
             [
              0.6666666666666666,
              "#35b779"
             ],
             [
              0.7777777777777778,
              "#6ece58"
             ],
             [
              0.8888888888888888,
              "#b5de2b"
             ],
             [
              1,
              "#fde725"
             ]
            ],
            "type": "histogram2dcontour"
           }
          ],
          "mesh3d": [
           {
            "colorbar": {
             "outlinewidth": 1,
             "tickcolor": "rgb(36,36,36)",
             "ticks": "outside"
            },
            "type": "mesh3d"
           }
          ],
          "parcoords": [
           {
            "line": {
             "colorbar": {
              "outlinewidth": 1,
              "tickcolor": "rgb(36,36,36)",
              "ticks": "outside"
             }
            },
            "type": "parcoords"
           }
          ],
          "pie": [
           {
            "automargin": true,
            "type": "pie"
           }
          ],
          "scatter": [
           {
            "fillpattern": {
             "fillmode": "overlay",
             "size": 10,
             "solidity": 0.2
            },
            "type": "scatter"
           }
          ],
          "scatter3d": [
           {
            "line": {
             "colorbar": {
              "outlinewidth": 1,
              "tickcolor": "rgb(36,36,36)",
              "ticks": "outside"
             }
            },
            "marker": {
             "colorbar": {
              "outlinewidth": 1,
              "tickcolor": "rgb(36,36,36)",
              "ticks": "outside"
             }
            },
            "type": "scatter3d"
           }
          ],
          "scattercarpet": [
           {
            "marker": {
             "colorbar": {
              "outlinewidth": 1,
              "tickcolor": "rgb(36,36,36)",
              "ticks": "outside"
             }
            },
            "type": "scattercarpet"
           }
          ],
          "scattergeo": [
           {
            "marker": {
             "colorbar": {
              "outlinewidth": 1,
              "tickcolor": "rgb(36,36,36)",
              "ticks": "outside"
             }
            },
            "type": "scattergeo"
           }
          ],
          "scattergl": [
           {
            "marker": {
             "colorbar": {
              "outlinewidth": 1,
              "tickcolor": "rgb(36,36,36)",
              "ticks": "outside"
             }
            },
            "type": "scattergl"
           }
          ],
          "scattermapbox": [
           {
            "marker": {
             "colorbar": {
              "outlinewidth": 1,
              "tickcolor": "rgb(36,36,36)",
              "ticks": "outside"
             }
            },
            "type": "scattermapbox"
           }
          ],
          "scatterpolar": [
           {
            "marker": {
             "colorbar": {
              "outlinewidth": 1,
              "tickcolor": "rgb(36,36,36)",
              "ticks": "outside"
             }
            },
            "type": "scatterpolar"
           }
          ],
          "scatterpolargl": [
           {
            "marker": {
             "colorbar": {
              "outlinewidth": 1,
              "tickcolor": "rgb(36,36,36)",
              "ticks": "outside"
             }
            },
            "type": "scatterpolargl"
           }
          ],
          "scatterternary": [
           {
            "marker": {
             "colorbar": {
              "outlinewidth": 1,
              "tickcolor": "rgb(36,36,36)",
              "ticks": "outside"
             }
            },
            "type": "scatterternary"
           }
          ],
          "surface": [
           {
            "colorbar": {
             "outlinewidth": 1,
             "tickcolor": "rgb(36,36,36)",
             "ticks": "outside"
            },
            "colorscale": [
             [
              0,
              "#440154"
             ],
             [
              0.1111111111111111,
              "#482878"
             ],
             [
              0.2222222222222222,
              "#3e4989"
             ],
             [
              0.3333333333333333,
              "#31688e"
             ],
             [
              0.4444444444444444,
              "#26828e"
             ],
             [
              0.5555555555555556,
              "#1f9e89"
             ],
             [
              0.6666666666666666,
              "#35b779"
             ],
             [
              0.7777777777777778,
              "#6ece58"
             ],
             [
              0.8888888888888888,
              "#b5de2b"
             ],
             [
              1,
              "#fde725"
             ]
            ],
            "type": "surface"
           }
          ],
          "table": [
           {
            "cells": {
             "fill": {
              "color": "rgb(237,237,237)"
             },
             "line": {
              "color": "white"
             }
            },
            "header": {
             "fill": {
              "color": "rgb(217,217,217)"
             },
             "line": {
              "color": "white"
             }
            },
            "type": "table"
           }
          ]
         },
         "layout": {
          "annotationdefaults": {
           "arrowhead": 0,
           "arrowwidth": 1
          },
          "autotypenumbers": "strict",
          "coloraxis": {
           "colorbar": {
            "outlinewidth": 1,
            "tickcolor": "rgb(36,36,36)",
            "ticks": "outside"
           }
          },
          "colorscale": {
           "diverging": [
            [
             0,
             "rgb(103,0,31)"
            ],
            [
             0.1,
             "rgb(178,24,43)"
            ],
            [
             0.2,
             "rgb(214,96,77)"
            ],
            [
             0.3,
             "rgb(244,165,130)"
            ],
            [
             0.4,
             "rgb(253,219,199)"
            ],
            [
             0.5,
             "rgb(247,247,247)"
            ],
            [
             0.6,
             "rgb(209,229,240)"
            ],
            [
             0.7,
             "rgb(146,197,222)"
            ],
            [
             0.8,
             "rgb(67,147,195)"
            ],
            [
             0.9,
             "rgb(33,102,172)"
            ],
            [
             1,
             "rgb(5,48,97)"
            ]
           ],
           "sequential": [
            [
             0,
             "#440154"
            ],
            [
             0.1111111111111111,
             "#482878"
            ],
            [
             0.2222222222222222,
             "#3e4989"
            ],
            [
             0.3333333333333333,
             "#31688e"
            ],
            [
             0.4444444444444444,
             "#26828e"
            ],
            [
             0.5555555555555556,
             "#1f9e89"
            ],
            [
             0.6666666666666666,
             "#35b779"
            ],
            [
             0.7777777777777778,
             "#6ece58"
            ],
            [
             0.8888888888888888,
             "#b5de2b"
            ],
            [
             1,
             "#fde725"
            ]
           ],
           "sequentialminus": [
            [
             0,
             "#440154"
            ],
            [
             0.1111111111111111,
             "#482878"
            ],
            [
             0.2222222222222222,
             "#3e4989"
            ],
            [
             0.3333333333333333,
             "#31688e"
            ],
            [
             0.4444444444444444,
             "#26828e"
            ],
            [
             0.5555555555555556,
             "#1f9e89"
            ],
            [
             0.6666666666666666,
             "#35b779"
            ],
            [
             0.7777777777777778,
             "#6ece58"
            ],
            [
             0.8888888888888888,
             "#b5de2b"
            ],
            [
             1,
             "#fde725"
            ]
           ]
          },
          "colorway": [
           "#1F77B4",
           "#FF7F0E",
           "#2CA02C",
           "#D62728",
           "#9467BD",
           "#8C564B",
           "#E377C2",
           "#7F7F7F",
           "#BCBD22",
           "#17BECF"
          ],
          "font": {
           "color": "rgb(36,36,36)"
          },
          "geo": {
           "bgcolor": "white",
           "lakecolor": "white",
           "landcolor": "white",
           "showlakes": true,
           "showland": true,
           "subunitcolor": "white"
          },
          "hoverlabel": {
           "align": "left"
          },
          "hovermode": "closest",
          "mapbox": {
           "style": "light"
          },
          "paper_bgcolor": "white",
          "plot_bgcolor": "white",
          "polar": {
           "angularaxis": {
            "gridcolor": "rgb(232,232,232)",
            "linecolor": "rgb(36,36,36)",
            "showgrid": false,
            "showline": true,
            "ticks": "outside"
           },
           "bgcolor": "white",
           "radialaxis": {
            "gridcolor": "rgb(232,232,232)",
            "linecolor": "rgb(36,36,36)",
            "showgrid": false,
            "showline": true,
            "ticks": "outside"
           }
          },
          "scene": {
           "xaxis": {
            "backgroundcolor": "white",
            "gridcolor": "rgb(232,232,232)",
            "gridwidth": 2,
            "linecolor": "rgb(36,36,36)",
            "showbackground": true,
            "showgrid": false,
            "showline": true,
            "ticks": "outside",
            "zeroline": false,
            "zerolinecolor": "rgb(36,36,36)"
           },
           "yaxis": {
            "backgroundcolor": "white",
            "gridcolor": "rgb(232,232,232)",
            "gridwidth": 2,
            "linecolor": "rgb(36,36,36)",
            "showbackground": true,
            "showgrid": false,
            "showline": true,
            "ticks": "outside",
            "zeroline": false,
            "zerolinecolor": "rgb(36,36,36)"
           },
           "zaxis": {
            "backgroundcolor": "white",
            "gridcolor": "rgb(232,232,232)",
            "gridwidth": 2,
            "linecolor": "rgb(36,36,36)",
            "showbackground": true,
            "showgrid": false,
            "showline": true,
            "ticks": "outside",
            "zeroline": false,
            "zerolinecolor": "rgb(36,36,36)"
           }
          },
          "shapedefaults": {
           "fillcolor": "black",
           "line": {
            "width": 0
           },
           "opacity": 0.3
          },
          "ternary": {
           "aaxis": {
            "gridcolor": "rgb(232,232,232)",
            "linecolor": "rgb(36,36,36)",
            "showgrid": false,
            "showline": true,
            "ticks": "outside"
           },
           "baxis": {
            "gridcolor": "rgb(232,232,232)",
            "linecolor": "rgb(36,36,36)",
            "showgrid": false,
            "showline": true,
            "ticks": "outside"
           },
           "bgcolor": "white",
           "caxis": {
            "gridcolor": "rgb(232,232,232)",
            "linecolor": "rgb(36,36,36)",
            "showgrid": false,
            "showline": true,
            "ticks": "outside"
           }
          },
          "title": {
           "x": 0.05
          },
          "xaxis": {
           "automargin": true,
           "gridcolor": "rgb(232,232,232)",
           "linecolor": "rgb(36,36,36)",
           "showgrid": false,
           "showline": true,
           "ticks": "outside",
           "title": {
            "standoff": 15
           },
           "zeroline": false,
           "zerolinecolor": "rgb(36,36,36)"
          },
          "yaxis": {
           "automargin": true,
           "gridcolor": "rgb(232,232,232)",
           "linecolor": "rgb(36,36,36)",
           "showgrid": false,
           "showline": true,
           "ticks": "outside",
           "title": {
            "standoff": 15
           },
           "zeroline": false,
           "zerolinecolor": "rgb(36,36,36)"
          }
         }
        },
        "title": {
         "font": {
          "color": "Black",
          "size": 22
         },
         "text": "<b>Intertopic Distance Map</b>",
         "x": 0.5,
         "xanchor": "center",
         "y": 0.95,
         "yanchor": "top"
        },
        "width": 650,
        "xaxis": {
         "anchor": "y",
         "domain": [
          0,
          1
         ],
         "range": [
          -10.281375694274903,
          18.895803260803223
         ],
         "title": {
          "text": ""
         },
         "visible": false
        },
        "yaxis": {
         "anchor": "x",
         "domain": [
          0,
          1
         ],
         "range": [
          -14.257431030273438,
          23.912914276123047
         ],
         "title": {
          "text": ""
         },
         "visible": false
        }
       }
      }
     },
     "metadata": {},
     "output_type": "display_data"
    }
   ],
   "source": [
    "model.visualize_topics(custom_labels=True)"
   ]
  },
  {
   "cell_type": "code",
   "execution_count": 87,
   "metadata": {},
   "outputs": [
    {
     "data": {
      "application/vnd.plotly.v1+json": {
       "config": {
        "plotlyServerURL": "https://plot.ly"
       },
       "data": [
        {
         "coloraxis": "coloraxis",
         "hovertemplate": "x: %{x}<br>y: %{y}<br>Similarity Score: %{z}<extra></extra>",
         "name": "0",
         "type": "heatmap",
         "x": [
          "0_sic_kw_hz",
          "1_gj_item_bearing",
          "3_hsf_red_tee",
          "6_bal_none_clean",
          "9_sanimidget_sanimagnum_san...",
          "13_pl_bpe_sf",
          "14_welding_mat_bend",
          "18_gasket_tc_flanged",
          "20_service_kit_nw",
          "23_service_kit_nw",
          "37_mark_body_dv",
          "2_ssv_inch_nc",
          "10_tr_plug_ssv",
          "11_actuator_ch_maintainable",
          "15_hnbr_ssv_inch",
          "19_vdc_pnp_digital",
          "24_manhole_lkdc_shut",
          "26_regulating_rv_kv",
          "31_kv_rv_plug",
          "4_mixproof_ends_welded",
          "7_ball_sbv_sample",
          "8_dv_fgd_st",
          "21_plug_smp_nw",
          "22_mixproof_piece_body",
          "28_pressure_regulator_bar",
          "29_diaphragm_bayonet_dv",
          "38_butterfly_lkb_hnbr",
          "5_ring_nbr_fep",
          "16_impeller_special_evap",
          "17_als_agitator_lf",
          "25_glass_sight_sightglass",
          "27_casing_pump_mr",
          "30_rotor_sr_rotorcase",
          "32_personnel_access_inspect...",
          "35_lksf_slot_strainer",
          "36_dindndn_pharma_iy",
          "39_cap_end_amp",
          "12_clamp_id_ultrapure",
          "33_pg_bar_psi",
          "34_cm_tg_dial"
         ],
         "xaxis": "x",
         "y": [
          "0_sic_kw_hz",
          "1_gj_item_bearing",
          "3_hsf_red_tee",
          "6_bal_none_clean",
          "9_sanimidget_sanimagnum_san...",
          "13_pl_bpe_sf",
          "14_welding_mat_bend",
          "18_gasket_tc_flanged",
          "20_service_kit_nw",
          "23_service_kit_nw",
          "37_mark_body_dv",
          "2_ssv_inch_nc",
          "10_tr_plug_ssv",
          "11_actuator_ch_maintainable",
          "15_hnbr_ssv_inch",
          "19_vdc_pnp_digital",
          "24_manhole_lkdc_shut",
          "26_regulating_rv_kv",
          "31_kv_rv_plug",
          "4_mixproof_ends_welded",
          "7_ball_sbv_sample",
          "8_dv_fgd_st",
          "21_plug_smp_nw",
          "22_mixproof_piece_body",
          "28_pressure_regulator_bar",
          "29_diaphragm_bayonet_dv",
          "38_butterfly_lkb_hnbr",
          "5_ring_nbr_fep",
          "16_impeller_special_evap",
          "17_als_agitator_lf",
          "25_glass_sight_sightglass",
          "27_casing_pump_mr",
          "30_rotor_sr_rotorcase",
          "32_personnel_access_inspect...",
          "35_lksf_slot_strainer",
          "36_dindndn_pharma_iy",
          "39_cap_end_amp",
          "12_clamp_id_ultrapure",
          "33_pg_bar_psi",
          "34_cm_tg_dial"
         ],
         "yaxis": "y",
         "z": [
          [
           0.9999999999999996,
           0.5634004016329506,
           0.3646230660478965,
           0.6123525730728913,
           0.43939609721570433,
           0.35131604470856714,
           0.5038630552913681,
           0.5320677453783783,
           0.5102624474177571,
           0.6117762659834761,
           0.4252319841955511,
           0.6060884102906938,
           0.5426514026261123,
           0.3612276568255285,
           0.4174684000965315,
           0.3627766010208634,
           0.5139971524298309,
           0.5595580845299335,
           0.43328320916206176,
           0.52395387767448,
           0.5168604116185088,
           0.5688194705228855,
           0.5581279359531184,
           0.3609795034147779,
           0.43859670268686035,
           0.4763925454557796,
           0.3755495008633547,
           0.3540487937364688,
           0.5000236734446988,
           0.42544197057965194,
           0.44389349173229775,
           0.5911459930454905,
           0.390108201711608,
           0.3932327557914668,
           0.3778296163739517,
           0.3374141390703937,
           0.362575387856367,
           0.5063416009702186,
           0.4526331505239406,
           0.42945148603945527
          ],
          [
           0.5634004016329506,
           1.0000000000000002,
           0.5710191183186386,
           0.4986848803476063,
           0.597158922381974,
           0.5575530072167881,
           0.5962754991842881,
           0.6246156122695333,
           0.5752715128565644,
           0.44387526714546255,
           0.5559244862618096,
           0.37886380675142395,
           0.42630068431168666,
           0.4733472176139804,
           0.4161994561088489,
           0.45394893754064786,
           0.37426375218585983,
           0.33307291616316487,
           0.3740965841126009,
           0.37709044403565906,
           0.5414292033227306,
           0.534258420198424,
           0.45512891724288695,
           0.36999494913398645,
           0.29944940868422354,
           0.4396567388896361,
           0.5096555056733679,
           0.45677959999243173,
           0.4919040876603128,
           0.5561542597080014,
           0.42005362102248717,
           0.4939407617021335,
           0.6029342315346657,
           0.4267597194897461,
           0.4814066999938912,
           0.43907352694376534,
           0.48890806505488904,
           0.5065131092212427,
           0.44701402657528555,
           0.3927390127748956
          ],
          [
           0.3646230660478965,
           0.5710191183186386,
           0.9999999999999996,
           0.4373667173571817,
           0.5270844856615722,
           0.5533493857083372,
           0.5952357592157694,
           0.49870519198633667,
           0.4956334413627572,
           0.3611385722847248,
           0.5310950472789144,
           0.34202647018760435,
           0.45552389335511545,
           0.4059809085219209,
           0.45907018401162625,
           0.4354106485811048,
           0.4153354790389966,
           0.29102512264039015,
           0.3780083091811397,
           0.3029128936801357,
           0.36556143908269967,
           0.5604125354962777,
           0.40584847749203834,
           0.3351346033598534,
           0.22281956394512287,
           0.3450774923204971,
           0.5268595134895702,
           0.35206681284640484,
           0.3021302697524397,
           0.4886692441863245,
           0.3980553090872202,
           0.31441260660417386,
           0.34628101791101645,
           0.33428699693186115,
           0.32575443410540483,
           0.40167726005025406,
           0.4628106559990313,
           0.34084542625314285,
           0.29589661449997545,
           0.26516889880772654
          ],
          [
           0.6123525730728913,
           0.4986848803476063,
           0.4373667173571817,
           1,
           0.38282889656722274,
           0.39276291207914243,
           0.46829775384678285,
           0.43890896604682067,
           0.4203159113946121,
           0.49490281060366237,
           0.4097887701198213,
           0.4624283145886049,
           0.38794347875261065,
           0.32796241440570484,
           0.32223513804474674,
           0.3163638074300077,
           0.3808567136952239,
           0.3870880992146897,
           0.318814951053648,
           0.47583311064228706,
           0.40940637094624704,
           0.4714935499260841,
           0.4598856636589447,
           0.40316125318706186,
           0.2713342789277402,
           0.3953854417125624,
           0.28548387302306233,
           0.33581905949712615,
           0.3782595069050779,
           0.5065563572006901,
           0.3219826316211,
           0.3337106542156963,
           0.31248616767790405,
           0.32299115737763795,
           0.20432057491156003,
           0.39036320206760666,
           0.36215096959440385,
           0.3953798673031443,
           0.39512248667121685,
           0.295200103954038
          ],
          [
           0.43939609721570433,
           0.597158922381974,
           0.5270844856615722,
           0.38282889656722274,
           1.0000000000000004,
           0.6708173158476354,
           0.57501232647872,
           0.5073959704679487,
           0.44078144959624727,
           0.33338100802290804,
           0.4948693726108535,
           0.3572522140211237,
           0.3562699229753016,
           0.32945696066614955,
           0.3680354642342123,
           0.3067889647309216,
           0.3040925887065292,
           0.3487129790973921,
           0.28984618657492367,
           0.4262323646627486,
           0.4143055284821321,
           0.5702022047100181,
           0.32076232362697765,
           0.2556816055561707,
           0.2977777305367231,
           0.37845028606341347,
           0.4075825012063195,
           0.32061080430530664,
           0.35009665898390196,
           0.4549105666605952,
           0.37423171669156574,
           0.42014894468630504,
           0.380548608952716,
           0.32220041679728384,
           0.45013252248788277,
           0.45143029290630093,
           0.3916477222304744,
           0.5062493908343535,
           0.4273017103401126,
           0.3577834673615864
          ],
          [
           0.35131604470856714,
           0.5575530072167881,
           0.5533493857083372,
           0.39276291207914243,
           0.6708173158476354,
           1.0000000000000004,
           0.5067660206467254,
           0.4599121686296017,
           0.47037549222841657,
           0.3337973137515213,
           0.47328247235147347,
           0.32632568495558245,
           0.3123248526786725,
           0.2552259182635087,
           0.3665613563495375,
           0.24752067956569238,
           0.2135573319531839,
           0.27766031546731895,
           0.2556219356460038,
           0.33545542301061815,
           0.3561626219337177,
           0.606572942422653,
           0.32460500540464177,
           0.19408014060599302,
           0.25096365838191914,
           0.32038604400486037,
           0.38545743911299296,
           0.2767508339001323,
           0.3195799210907398,
           0.5089004411261798,
           0.2975487952560121,
           0.38076315850376696,
           0.2807585688883757,
           0.2691116823315035,
           0.33386698215205945,
           0.5148261584940534,
           0.41882776922999204,
           0.3669528756668083,
           0.37483704540051405,
           0.302117076931931
          ],
          [
           0.5038630552913681,
           0.5962754991842881,
           0.5952357592157694,
           0.46829775384678285,
           0.57501232647872,
           0.5067660206467254,
           1,
           0.49163986470761456,
           0.47191107626452566,
           0.43202781016499175,
           0.4540497937281461,
           0.48251009645956877,
           0.43318894403334773,
           0.39025550029121586,
           0.46566972439765586,
           0.38617510149414175,
           0.3843650283078621,
           0.5233648491238665,
           0.34567399978286,
           0.6080586197385114,
           0.4278628578897442,
           0.47720066518474835,
           0.47263712276366626,
           0.39713232982992774,
           0.251481156311941,
           0.37652151669645384,
           0.3639046815370974,
           0.35603122029073664,
           0.3158717727088536,
           0.38797425287984066,
           0.4698394424921545,
           0.43897707575672734,
           0.3896208698020568,
           0.3168215151375478,
           0.5787253314837568,
           0.30784042729194455,
           0.45418411829963057,
           0.5028226096475318,
           0.3506013213842729,
           0.3154089661544385
          ],
          [
           0.5320677453783783,
           0.6246156122695333,
           0.49870519198633667,
           0.43890896604682067,
           0.5073959704679487,
           0.4599121686296017,
           0.49163986470761456,
           1.0000000000000009,
           0.441847357265999,
           0.35013493663393325,
           0.44168721226082586,
           0.3485758371799318,
           0.38478231696338494,
           0.3352005867945751,
           0.3632219774655289,
           0.32597361352943255,
           0.33089199213608883,
           0.3713717663788866,
           0.3505570507376489,
           0.408854520556772,
           0.5458609494480495,
           0.5504770926990528,
           0.42814172433893916,
           0.34559048884331023,
           0.3995232718022865,
           0.42561120534993657,
           0.46825904015712017,
           0.3891635725693555,
           0.3772615325154124,
           0.4001527083561496,
           0.3485662466338055,
           0.4926336858601515,
           0.2838578272191329,
           0.30318875105102094,
           0.3868464171916919,
           0.3954195206934843,
           0.3811862065198218,
           0.44096339996504863,
           0.3306036408430857,
           0.35905078708513
          ],
          [
           0.5102624474177571,
           0.5752715128565644,
           0.4956334413627572,
           0.4203159113946121,
           0.44078144959624727,
           0.47037549222841657,
           0.47191107626452566,
           0.441847357265999,
           1.0000000000000009,
           0.7362678933901154,
           0.3995871521727091,
           0.38781666734223225,
           0.5324427306793027,
           0.45931957043575933,
           0.3884779112644069,
           0.43141965859379633,
           0.3017437391073502,
           0.3049564451297187,
           0.37692687263406877,
           0.2818338207693464,
           0.4821455469204273,
           0.48075938696352954,
           0.5093009049041254,
           0.31142898305138433,
           0.3015950568570484,
           0.30343483923251763,
           0.4513350493385234,
           0.3604543044047668,
           0.27551404415516073,
           0.49421630107967096,
           0.3842081544972991,
           0.37442882907029873,
           0.48306073747480704,
           0.42894112581543953,
           0.35985087521942166,
           0.36547902059531856,
           0.37270767917863157,
           0.37805028521138145,
           0.3326723461578024,
           0.2617581098681102
          ],
          [
           0.6117762659834761,
           0.44387526714546255,
           0.3611385722847248,
           0.49490281060366237,
           0.33338100802290804,
           0.3337973137515213,
           0.43202781016499175,
           0.35013493663393325,
           0.7362678933901154,
           1.0000000000000013,
           0.32333817715434354,
           0.62142889204582,
           0.5177752459688679,
           0.37413610912293727,
           0.267191962411957,
           0.43335241494600374,
           0.5184247373553053,
           0.5427169584855661,
           0.33897089952255244,
           0.44442772936044406,
           0.4074069281416135,
           0.5826673946813867,
           0.5660335429978923,
           0.26381934928870904,
           0.283703924819549,
           0.4403779118156452,
           0.26498400968591623,
           0.42260670914837417,
           0.18731077900661297,
           0.4268986580029926,
           0.45050791545333846,
           0.2682340656900238,
           0.3566421479624157,
           0.3930628413294741,
           0.21825850911578104,
           0.34260324326706204,
           0.30695986736089154,
           0.34645161099351457,
           0.32979025920096705,
           0.2221049069875945
          ],
          [
           0.4252319841955511,
           0.5559244862618096,
           0.5310950472789144,
           0.4097887701198213,
           0.4948693726108535,
           0.47328247235147347,
           0.4540497937281461,
           0.44168721226082586,
           0.3995871521727091,
           0.32333817715434354,
           1.0000000000000009,
           0.4024581148063853,
           0.43722432569072867,
           0.41154469169551383,
           0.4193060863304333,
           0.36823560535446215,
           0.3575254546450932,
           0.319778842238976,
           0.35013591540636185,
           0.33196346557314804,
           0.386733691393413,
           0.5912449089186074,
           0.24827252648232057,
           0.3087283684493013,
           0.2987293914563936,
           0.38211191899129937,
           0.4068789336838562,
           0.22401865125427844,
           0.2703589884900302,
           0.3947764636181773,
           0.35863809654628964,
           0.3243076233173752,
           0.31207872734914793,
           0.2941263508410261,
           0.32209042217017625,
           0.4311676069188972,
           0.41688176915315966,
           0.4760132329563498,
           0.4044870174659848,
           0.34429032284751837
          ],
          [
           0.6060884102906938,
           0.37886380675142395,
           0.34202647018760435,
           0.4624283145886049,
           0.3572522140211237,
           0.32632568495558245,
           0.48251009645956877,
           0.3485758371799318,
           0.38781666734223225,
           0.62142889204582,
           0.4024581148063853,
           1.0000000000000004,
           0.7183772145366831,
           0.452508747724423,
           0.6833912458968029,
           0.38809325417896534,
           0.7016619598237259,
           0.7828651434071681,
           0.5261752614685601,
           0.5693765511589213,
           0.4318951557371962,
           0.6353120978133598,
           0.47114671531352714,
           0.3018473795279474,
           0.30091486079448926,
           0.4941384190826206,
           0.2696828573529012,
           0.3297973516418683,
           0.20920527214298373,
           0.2730073577164268,
           0.35804799760724204,
           0.2637629897828536,
           0.29008984356286427,
           0.2569996980402396,
           0.22798505343959694,
           0.24326397112756054,
           0.29298230805530884,
           0.4116591423632937,
           0.3428296028011651,
           0.2687027382469098
          ],
          [
           0.5426514026261123,
           0.42630068431168666,
           0.45552389335511545,
           0.38794347875261065,
           0.3562699229753016,
           0.3123248526786725,
           0.43318894403334773,
           0.38478231696338494,
           0.5324427306793027,
           0.5177752459688679,
           0.43722432569072867,
           0.7183772145366831,
           1.0000000000000007,
           0.6023137338488743,
           0.7083154125823228,
           0.5179446648351409,
           0.581257546955044,
           0.5805179927008961,
           0.7855081133280006,
           0.4852501695438555,
           0.6417462248065509,
           0.6367167265937259,
           0.6551666350024533,
           0.40982531002418343,
           0.42224020737656,
           0.41787523220650186,
           0.46560947126131136,
           0.16697348454786884,
           0.24317251058756328,
           0.28893948630733457,
           0.2582418001483038,
           0.35676668379904364,
           0.3798498493206883,
           0.2899783308898123,
           0.26103084254836545,
           0.3143811755724827,
           0.3452451572344328,
           0.43406709245158626,
           0.37442654693079536,
           0.31293164334154183
          ],
          [
           0.3612276568255285,
           0.4733472176139804,
           0.4059809085219209,
           0.32796241440570484,
           0.32945696066614955,
           0.2552259182635087,
           0.39025550029121586,
           0.3352005867945751,
           0.45931957043575933,
           0.37413610912293727,
           0.41154469169551383,
           0.452508747724423,
           0.6023137338488743,
           1.0000000000000002,
           0.5024077533086867,
           0.48524491870023323,
           0.416627971156824,
           0.37053995537816087,
           0.5274327838651028,
           0.3052040218469341,
           0.5163278727666567,
           0.43753269310193177,
           0.41651225232001265,
           0.4420724635777965,
           0.38916864274734797,
           0.43040714058685947,
           0.38395156443605677,
           0.10187738446706504,
           0.2482775052641279,
           0.3624305211072019,
           0.2967551660563732,
           0.3043481366905928,
           0.4402253246449064,
           0.3325626165782251,
           0.3089453177981739,
           0.24212614856183956,
           0.29767301484226294,
           0.3713242562669996,
           0.3313729812117667,
           0.24025872778319518
          ],
          [
           0.4174684000965315,
           0.4161994561088489,
           0.45907018401162625,
           0.32223513804474674,
           0.3680354642342123,
           0.3665613563495375,
           0.46566972439765586,
           0.3632219774655289,
           0.3884779112644069,
           0.267191962411957,
           0.4193060863304333,
           0.6833912458968029,
           0.7083154125823228,
           0.5024077533086867,
           1.0000000000000009,
           0.3951445915593874,
           0.49093428879763384,
           0.500103217749098,
           0.5621175864135524,
           0.35858572228212215,
           0.39191953565091114,
           0.44751290111154607,
           0.3345902915908934,
           0.3111785713148005,
           0.3125690577504031,
           0.32523561202236,
           0.4763169229385887,
           0.13866248732834965,
           0.3009325343687839,
           0.22045210162934797,
           0.2348954117646488,
           0.2843194601000881,
           0.3388632495373915,
           0.253051129543616,
           0.3632153138037662,
           0.17634356270319457,
           0.31381087522767437,
           0.3606662750367371,
           0.2990956816949589,
           0.2522176883569124
          ],
          [
           0.3627766010208634,
           0.45394893754064786,
           0.4354106485811048,
           0.3163638074300077,
           0.3067889647309216,
           0.24752067956569238,
           0.38617510149414175,
           0.32597361352943255,
           0.43141965859379633,
           0.43335241494600374,
           0.36823560535446215,
           0.38809325417896534,
           0.5179446648351409,
           0.48524491870023323,
           0.3951445915593874,
           1,
           0.347428362358812,
           0.3395886893246368,
           0.549177135527521,
           0.26625637799742946,
           0.4412420277695944,
           0.4453746241946238,
           0.5347761138946798,
           0.3249161222753585,
           0.26101918889496456,
           0.35352426099436635,
           0.3207849477294489,
           0.2038903220353716,
           0.255606036744394,
           0.3191531001637913,
           0.33750396945614125,
           0.27384760495187305,
           0.3140856778824941,
           0.3379981396327769,
           0.20141838228416642,
           0.2228650756105803,
           0.3409465209363212,
           0.3611119365210156,
           0.3546614295904397,
           0.34916863758998296
          ],
          [
           0.5139971524298309,
           0.37426375218585983,
           0.4153354790389966,
           0.3808567136952239,
           0.3040925887065292,
           0.2135573319531839,
           0.3843650283078621,
           0.33089199213608883,
           0.3017437391073502,
           0.5184247373553053,
           0.3575254546450932,
           0.7016619598237259,
           0.581257546955044,
           0.416627971156824,
           0.49093428879763384,
           0.347428362358812,
           1,
           0.551448754947772,
           0.4229934478057846,
           0.40424002838040024,
           0.3163783058504806,
           0.5286651146955706,
           0.38574098643461574,
           0.31320479721286865,
           0.23607167965949852,
           0.4153145873398094,
           0.3433104918255751,
           0.3416061264668914,
           0.22280405247376012,
           0.3346912931304924,
           0.3087567897021693,
           0.25746811733812813,
           0.21586730999912707,
           0.38593241160709435,
           0.18066067139011177,
           0.236092859779833,
           0.3025377536789055,
           0.2889492999349714,
           0.27428081865830434,
           0.16017127079950905
          ],
          [
           0.5595580845299335,
           0.33307291616316487,
           0.29102512264039015,
           0.3870880992146897,
           0.3487129790973921,
           0.27766031546731895,
           0.5233648491238665,
           0.3713717663788866,
           0.3049564451297187,
           0.5427169584855661,
           0.319778842238976,
           0.7828651434071681,
           0.5805179927008961,
           0.37053995537816087,
           0.500103217749098,
           0.3395886893246368,
           0.551448754947772,
           1.0000000000000004,
           0.6524163448481805,
           0.6657906065911501,
           0.47984789006109185,
           0.6377443502146486,
           0.5121723342531,
           0.33612005793548744,
           0.397947286143545,
           0.4672498475919534,
           0.30107515349428904,
           0.31172399095429243,
           0.23730495783857025,
           0.2115475476769551,
           0.26439382774152315,
           0.30964530460999784,
           0.214378175627308,
           0.23722040149073453,
           0.3256588893779664,
           0.19328292649402623,
           0.2430121591472853,
           0.42016575906281567,
           0.32211738269579726,
           0.21622310085561774
          ],
          [
           0.43328320916206176,
           0.3740965841126009,
           0.3780083091811397,
           0.318814951053648,
           0.28984618657492367,
           0.2556219356460038,
           0.34567399978286,
           0.3505570507376489,
           0.37692687263406877,
           0.33897089952255244,
           0.35013591540636185,
           0.5261752614685601,
           0.7855081133280006,
           0.5274327838651028,
           0.5621175864135524,
           0.549177135527521,
           0.4229934478057846,
           0.6524163448481805,
           1.0000000000000009,
           0.43089566769141163,
           0.6300577626648678,
           0.5702592844090151,
           0.6751167420486694,
           0.43545986119345814,
           0.47125671557381676,
           0.3628055683469522,
           0.45843804146200434,
           0.14014246671363859,
           0.26232936851881483,
           0.22779389026277264,
           0.11928102199348059,
           0.337401710095261,
           0.2940976670888117,
           0.2519203796203145,
           0.2451047600473416,
           0.23165201108586933,
           0.30537031015933097,
           0.41928664521708525,
           0.37810431740229894,
           0.32253271639064895
          ],
          [
           0.52395387767448,
           0.37709044403565906,
           0.3029128936801357,
           0.47583311064228706,
           0.4262323646627486,
           0.33545542301061815,
           0.6080586197385114,
           0.408854520556772,
           0.2818338207693464,
           0.44442772936044406,
           0.33196346557314804,
           0.5693765511589213,
           0.4852501695438555,
           0.3052040218469341,
           0.35858572228212215,
           0.26625637799742946,
           0.40424002838040024,
           0.6657906065911501,
           0.43089566769141163,
           0.9999999999999996,
           0.5737494581015297,
           0.5691993789135843,
           0.5208749438475961,
           0.6224889886435683,
           0.3634161076318614,
           0.4978634658580706,
           0.3469181253372442,
           0.27527244311195004,
           0.2091103003152224,
           0.2662059469202352,
           0.31672500800695635,
           0.34631267189263004,
           0.1531180725630932,
           0.21439464520756019,
           0.3847100448127275,
           0.33981026764462496,
           0.3628338556385865,
           0.4946407462118343,
           0.3470520520052308,
           0.29023625725040453
          ],
          [
           0.5168604116185088,
           0.5414292033227306,
           0.36556143908269967,
           0.40940637094624704,
           0.4143055284821321,
           0.3561626219337177,
           0.4278628578897442,
           0.5458609494480495,
           0.4821455469204273,
           0.4074069281416135,
           0.386733691393413,
           0.4318951557371962,
           0.6417462248065509,
           0.5163278727666567,
           0.39191953565091114,
           0.4412420277695944,
           0.3163783058504806,
           0.47984789006109185,
           0.6300577626648678,
           0.5737494581015297,
           1.0000000000000009,
           0.663652106412411,
           0.6961562506536259,
           0.5282232986380151,
           0.5787044435552497,
           0.5781424166608886,
           0.6242782042175172,
           0.25087689604349506,
           0.32125286710848017,
           0.3797484489422087,
           0.2824476634708064,
           0.5018073434870116,
           0.31395740995441435,
           0.31877093942332924,
           0.3535388814763176,
           0.3929531798435655,
           0.3718789340798412,
           0.6128548202146247,
           0.49187338646392464,
           0.4537682880097428
          ],
          [
           0.5688194705228855,
           0.534258420198424,
           0.5604125354962777,
           0.4714935499260841,
           0.5702022047100181,
           0.606572942422653,
           0.47720066518474835,
           0.5504770926990528,
           0.48075938696352954,
           0.5826673946813867,
           0.5912449089186074,
           0.6353120978133598,
           0.6367167265937259,
           0.43753269310193177,
           0.44751290111154607,
           0.4453746241946238,
           0.5286651146955706,
           0.6377443502146486,
           0.5702592844090151,
           0.5691993789135843,
           0.663652106412411,
           1.0000000000000004,
           0.5702234447915218,
           0.35377409185242614,
           0.4083533398455537,
           0.5922920745785483,
           0.5097022700537145,
           0.3482580614378213,
           0.2896030314991427,
           0.4615044247728224,
           0.34750692493059876,
           0.38603843188363535,
           0.2985200516668416,
           0.35662776565746546,
           0.23920005484114054,
           0.5389537789448153,
           0.3774862033119075,
           0.48464600721605955,
           0.41235344608545443,
           0.297497205756488
          ],
          [
           0.5581279359531184,
           0.45512891724288695,
           0.40584847749203834,
           0.4598856636589447,
           0.32076232362697765,
           0.32460500540464177,
           0.47263712276366626,
           0.42814172433893916,
           0.5093009049041254,
           0.5660335429978923,
           0.24827252648232057,
           0.47114671531352714,
           0.6551666350024533,
           0.41651225232001265,
           0.3345902915908934,
           0.5347761138946798,
           0.38574098643461574,
           0.5121723342531,
           0.6751167420486694,
           0.5208749438475961,
           0.6961562506536259,
           0.5702234447915218,
           1.0000000000000002,
           0.5093013657445133,
           0.44713246717653266,
           0.4063279388800357,
           0.4777200432713378,
           0.35648095651644696,
           0.31385781463659773,
           0.3902768313489745,
           0.27010744142856025,
           0.437707109385592,
           0.29019414820687484,
           0.29394542017746356,
           0.29201511476537667,
           0.28996408849620303,
           0.4349845126038061,
           0.4724789133641977,
           0.3920028724979325,
           0.38073086382802634
          ],
          [
           0.3609795034147779,
           0.36999494913398645,
           0.3351346033598534,
           0.40316125318706186,
           0.2556816055561707,
           0.19408014060599302,
           0.39713232982992774,
           0.34559048884331023,
           0.31142898305138433,
           0.26381934928870904,
           0.3087283684493013,
           0.3018473795279474,
           0.40982531002418343,
           0.4420724635777965,
           0.3111785713148005,
           0.3249161222753585,
           0.31320479721286865,
           0.33612005793548744,
           0.43545986119345814,
           0.6224889886435683,
           0.5282232986380151,
           0.35377409185242614,
           0.5093013657445133,
           1.0000000000000004,
           0.2800170574415683,
           0.3375680788972636,
           0.40231897618859747,
           0.2211417915944306,
           0.2510762786851129,
           0.3071367744241473,
           0.22463607963295384,
           0.30368467834026763,
           0.22560319455408268,
           0.2041954121604938,
           0.25493403398082115,
           0.26966555864520037,
           0.3594679242931538,
           0.30283500187889434,
           0.2358646239060294,
           0.25078349520325915
          ],
          [
           0.43859670268686035,
           0.29944940868422354,
           0.22281956394512287,
           0.2713342789277402,
           0.2977777305367231,
           0.25096365838191914,
           0.251481156311941,
           0.3995232718022865,
           0.3015950568570484,
           0.283703924819549,
           0.2987293914563936,
           0.30091486079448926,
           0.42224020737656,
           0.38916864274734797,
           0.3125690577504031,
           0.26101918889496456,
           0.23607167965949852,
           0.397947286143545,
           0.47125671557381676,
           0.3634161076318614,
           0.5787044435552497,
           0.4083533398455537,
           0.44713246717653266,
           0.2800170574415683,
           0.9999999999999999,
           0.4467372849428887,
           0.47391036851059576,
           0.13513765308548883,
           0.2621376315978615,
           0.19765844953394396,
           0.2717910261207792,
           0.4010933769030872,
           0.0912251201257264,
           0.20612526247590962,
           0.27158506940083504,
           0.26066634755014984,
           0.26004482842073906,
           0.4458339066951883,
           0.5613835230529254,
           0.3879066988657247
          ],
          [
           0.4763925454557796,
           0.4396567388896361,
           0.3450774923204971,
           0.3953854417125624,
           0.37845028606341347,
           0.32038604400486037,
           0.37652151669645384,
           0.42561120534993657,
           0.30343483923251763,
           0.4403779118156452,
           0.38211191899129937,
           0.4941384190826206,
           0.41787523220650186,
           0.43040714058685947,
           0.32523561202236,
           0.35352426099436635,
           0.4153145873398094,
           0.4672498475919534,
           0.3628055683469522,
           0.4978634658580706,
           0.5781424166608886,
           0.5922920745785483,
           0.4063279388800357,
           0.3375680788972636,
           0.4467372849428887,
           1.0000000000000004,
           0.4255652032697195,
           0.2969309369081842,
           0.20943553441754265,
           0.3276748772237419,
           0.32177117834684155,
           0.3118275092886611,
           0.29304318720956163,
           0.2421074633009162,
           0.22288461956813743,
           0.3863968762778909,
           0.23596070404472297,
           0.4526886460081169,
           0.3737983042580892,
           0.3400858439218718
          ],
          [
           0.3755495008633547,
           0.5096555056733679,
           0.5268595134895702,
           0.28548387302306233,
           0.4075825012063195,
           0.38545743911299296,
           0.3639046815370974,
           0.46825904015712017,
           0.4513350493385234,
           0.26498400968591623,
           0.4068789336838562,
           0.2696828573529012,
           0.46560947126131136,
           0.38395156443605677,
           0.4763169229385887,
           0.3207849477294489,
           0.3433104918255751,
           0.30107515349428904,
           0.45843804146200434,
           0.3469181253372442,
           0.6242782042175172,
           0.5097022700537145,
           0.4777200432713378,
           0.40231897618859747,
           0.47391036851059576,
           0.4255652032697195,
           1.0000000000000007,
           0.28544289605560424,
           0.3974983115516376,
           0.3555311408032355,
           0.22291984612078125,
           0.38958996437493515,
           0.33385900777555666,
           0.3749509579809711,
           0.33688498060914296,
           0.32064272220521406,
           0.32138959260943456,
           0.4674997728779387,
           0.31714728318373214,
           0.2751893373470227
          ],
          [
           0.3540487937364688,
           0.45677959999243173,
           0.35206681284640484,
           0.33581905949712615,
           0.32061080430530664,
           0.2767508339001323,
           0.35603122029073664,
           0.3891635725693555,
           0.3604543044047668,
           0.42260670914837417,
           0.22401865125427844,
           0.3297973516418683,
           0.16697348454786884,
           0.10187738446706504,
           0.13866248732834965,
           0.2038903220353716,
           0.3416061264668914,
           0.31172399095429243,
           0.14014246671363859,
           0.27527244311195004,
           0.25087689604349506,
           0.3482580614378213,
           0.35648095651644696,
           0.2211417915944306,
           0.13513765308548883,
           0.2969309369081842,
           0.28544289605560424,
           0.9999999999999998,
           0.146749861509997,
           0.2990783696414284,
           0.3201528041208528,
           0.14691126688261588,
           0.2112225079769076,
           0.20555321898652845,
           0.161268584830548,
           0.26147084435590073,
           0.36093887932520674,
           0.25204938437238145,
           0.24210236182453151,
           0.1982072515242534
          ],
          [
           0.5000236734446988,
           0.4919040876603128,
           0.3021302697524397,
           0.3782595069050779,
           0.35009665898390196,
           0.3195799210907398,
           0.3158717727088536,
           0.3772615325154124,
           0.27551404415516073,
           0.18731077900661297,
           0.2703589884900302,
           0.20920527214298373,
           0.24317251058756328,
           0.2482775052641279,
           0.3009325343687839,
           0.255606036744394,
           0.22280405247376012,
           0.23730495783857025,
           0.26232936851881483,
           0.2091103003152224,
           0.32125286710848017,
           0.2896030314991427,
           0.31385781463659773,
           0.2510762786851129,
           0.2621376315978615,
           0.20943553441754265,
           0.3974983115516376,
           0.146749861509997,
           1.0000000000000009,
           0.37714133657128224,
           0.1764920836914029,
           0.5704565724676269,
           0.37315114674264305,
           0.3051752383502255,
           0.36101245143824023,
           0.18406379461173905,
           0.1524253783693009,
           0.35306930649302765,
           0.2661706148217686,
           0.23738640962500857
          ],
          [
           0.42544197057965194,
           0.5561542597080014,
           0.4886692441863245,
           0.5065563572006901,
           0.4549105666605952,
           0.5089004411261798,
           0.38797425287984066,
           0.4001527083561496,
           0.49421630107967096,
           0.4268986580029926,
           0.3947764636181773,
           0.2730073577164268,
           0.28893948630733457,
           0.3624305211072019,
           0.22045210162934797,
           0.3191531001637913,
           0.3346912931304924,
           0.2115475476769551,
           0.22779389026277264,
           0.2662059469202352,
           0.3797484489422087,
           0.4615044247728224,
           0.3902768313489745,
           0.3071367744241473,
           0.19765844953394396,
           0.3276748772237419,
           0.3555311408032355,
           0.2990783696414284,
           0.37714133657128224,
           1.0000000000000004,
           0.3103173940638472,
           0.41106355511125164,
           0.28706024190164203,
           0.38689965810400784,
           0.311457044102846,
           0.4503523124876938,
           0.32078304701909904,
           0.3392493954399424,
           0.35042230362870086,
           0.31859576522577804
          ],
          [
           0.44389349173229775,
           0.42005362102248717,
           0.3980553090872202,
           0.3219826316211,
           0.37423171669156574,
           0.2975487952560121,
           0.4698394424921545,
           0.3485662466338055,
           0.3842081544972991,
           0.45050791545333846,
           0.35863809654628964,
           0.35804799760724204,
           0.2582418001483038,
           0.2967551660563732,
           0.2348954117646488,
           0.33750396945614125,
           0.3087567897021693,
           0.26439382774152315,
           0.11928102199348059,
           0.31672500800695635,
           0.2824476634708064,
           0.34750692493059876,
           0.27010744142856025,
           0.22463607963295384,
           0.2717910261207792,
           0.32177117834684155,
           0.22291984612078125,
           0.3201528041208528,
           0.1764920836914029,
           0.3103173940638472,
           1.0000000000000002,
           0.27629717959631817,
           0.2182866371834955,
           0.3697878469824868,
           0.37232000741635296,
           0.2520567331959742,
           0.3353132816294699,
           0.39228697093499165,
           0.3158850872106323,
           0.29931510194985234
          ],
          [
           0.5911459930454905,
           0.4939407617021335,
           0.31441260660417386,
           0.3337106542156963,
           0.42014894468630504,
           0.38076315850376696,
           0.43897707575672734,
           0.4926336858601515,
           0.37442882907029873,
           0.2682340656900238,
           0.3243076233173752,
           0.2637629897828536,
           0.35676668379904364,
           0.3043481366905928,
           0.2843194601000881,
           0.27384760495187305,
           0.25746811733812813,
           0.30964530460999784,
           0.337401710095261,
           0.34631267189263004,
           0.5018073434870116,
           0.38603843188363535,
           0.437707109385592,
           0.30368467834026763,
           0.4010933769030872,
           0.3118275092886611,
           0.38958996437493515,
           0.14691126688261588,
           0.5704565724676269,
           0.41106355511125164,
           0.27629717959631817,
           1.000000000000001,
           0.30486787122758,
           0.3238428269656459,
           0.3969148625156246,
           0.2159977541157244,
           0.37678040608131746,
           0.4864407725246811,
           0.378112289374687,
           0.40259819704006883
          ],
          [
           0.390108201711608,
           0.6029342315346657,
           0.34628101791101645,
           0.31248616767790405,
           0.380548608952716,
           0.2807585688883757,
           0.3896208698020568,
           0.2838578272191329,
           0.48306073747480704,
           0.3566421479624157,
           0.31207872734914793,
           0.29008984356286427,
           0.3798498493206883,
           0.4402253246449064,
           0.3388632495373915,
           0.3140856778824941,
           0.21586730999912707,
           0.214378175627308,
           0.2940976670888117,
           0.1531180725630932,
           0.31395740995441435,
           0.2985200516668416,
           0.29019414820687484,
           0.22560319455408268,
           0.0912251201257264,
           0.29304318720956163,
           0.33385900777555666,
           0.2112225079769076,
           0.37315114674264305,
           0.28706024190164203,
           0.2182866371834955,
           0.30486787122758,
           1.0000000000000004,
           0.22135855571675211,
           0.2660974997953268,
           0.15809221899448866,
           0.23807852262162532,
           0.3344744993615684,
           0.22315503963196529,
           0.18703722398523312
          ],
          [
           0.3932327557914668,
           0.4267597194897461,
           0.33428699693186115,
           0.32299115737763795,
           0.32220041679728384,
           0.2691116823315035,
           0.3168215151375478,
           0.30318875105102094,
           0.42894112581543953,
           0.3930628413294741,
           0.2941263508410261,
           0.2569996980402396,
           0.2899783308898123,
           0.3325626165782251,
           0.253051129543616,
           0.3379981396327769,
           0.38593241160709435,
           0.23722040149073453,
           0.2519203796203145,
           0.21439464520756019,
           0.31877093942332924,
           0.35662776565746546,
           0.29394542017746356,
           0.2041954121604938,
           0.20612526247590962,
           0.2421074633009162,
           0.3749509579809711,
           0.20555321898652845,
           0.3051752383502255,
           0.38689965810400784,
           0.3697878469824868,
           0.3238428269656459,
           0.22135855571675211,
           1.0000000000000009,
           0.3814205982768878,
           0.2540312664813099,
           0.24998426449263006,
           0.35054141947162487,
           0.26979040224312506,
           0.19331025099052204
          ],
          [
           0.3778296163739517,
           0.4814066999938912,
           0.32575443410540483,
           0.20432057491156003,
           0.45013252248788277,
           0.33386698215205945,
           0.5787253314837568,
           0.3868464171916919,
           0.35985087521942166,
           0.21825850911578104,
           0.32209042217017625,
           0.22798505343959694,
           0.26103084254836545,
           0.3089453177981739,
           0.3632153138037662,
           0.20141838228416642,
           0.18066067139011177,
           0.3256588893779664,
           0.2451047600473416,
           0.3847100448127275,
           0.3535388814763176,
           0.23920005484114054,
           0.29201511476537667,
           0.25493403398082115,
           0.27158506940083504,
           0.22288461956813743,
           0.33688498060914296,
           0.161268584830548,
           0.36101245143824023,
           0.311457044102846,
           0.37232000741635296,
           0.3969148625156246,
           0.2660974997953268,
           0.3814205982768878,
           1.0000000000000004,
           0.15397946870338683,
           0.1834107313042855,
           0.5278465495636908,
           0.34443542709625263,
           0.24928165227535387
          ],
          [
           0.3374141390703937,
           0.43907352694376534,
           0.40167726005025406,
           0.39036320206760666,
           0.45143029290630093,
           0.5148261584940534,
           0.30784042729194455,
           0.3954195206934843,
           0.36547902059531856,
           0.34260324326706204,
           0.4311676069188972,
           0.24326397112756054,
           0.3143811755724827,
           0.24212614856183956,
           0.17634356270319457,
           0.2228650756105803,
           0.236092859779833,
           0.19328292649402623,
           0.23165201108586933,
           0.33981026764462496,
           0.3929531798435655,
           0.5389537789448153,
           0.28996408849620303,
           0.26966555864520037,
           0.26066634755014984,
           0.3863968762778909,
           0.32064272220521406,
           0.26147084435590073,
           0.18406379461173905,
           0.4503523124876938,
           0.2520567331959742,
           0.2159977541157244,
           0.15809221899448866,
           0.2540312664813099,
           0.15397946870338683,
           1.0000000000000004,
           0.2942127765241277,
           0.2882626798835033,
           0.31859829909248844,
           0.29525003626233615
          ],
          [
           0.362575387856367,
           0.48890806505488904,
           0.4628106559990313,
           0.36215096959440385,
           0.3916477222304744,
           0.41882776922999204,
           0.45418411829963057,
           0.3811862065198218,
           0.37270767917863157,
           0.30695986736089154,
           0.41688176915315966,
           0.29298230805530884,
           0.3452451572344328,
           0.29767301484226294,
           0.31381087522767437,
           0.3409465209363212,
           0.3025377536789055,
           0.2430121591472853,
           0.30537031015933097,
           0.3628338556385865,
           0.3718789340798412,
           0.3774862033119075,
           0.4349845126038061,
           0.3594679242931538,
           0.26004482842073906,
           0.23596070404472297,
           0.32138959260943456,
           0.36093887932520674,
           0.1524253783693009,
           0.32078304701909904,
           0.3353132816294699,
           0.37678040608131746,
           0.23807852262162532,
           0.24998426449263006,
           0.1834107313042855,
           0.2942127765241277,
           1.0000000000000009,
           0.4182800979536494,
           0.3302410140827258,
           0.3750422326818863
          ],
          [
           0.5063416009702186,
           0.5065131092212427,
           0.34084542625314285,
           0.3953798673031443,
           0.5062493908343535,
           0.3669528756668083,
           0.5028226096475318,
           0.44096339996504863,
           0.37805028521138145,
           0.34645161099351457,
           0.4760132329563498,
           0.4116591423632937,
           0.43406709245158626,
           0.3713242562669996,
           0.3606662750367371,
           0.3611119365210156,
           0.2889492999349714,
           0.42016575906281567,
           0.41928664521708525,
           0.4946407462118343,
           0.6128548202146247,
           0.48464600721605955,
           0.4724789133641977,
           0.30283500187889434,
           0.4458339066951883,
           0.4526886460081169,
           0.4674997728779387,
           0.25204938437238145,
           0.35306930649302765,
           0.3392493954399424,
           0.39228697093499165,
           0.4864407725246811,
           0.3344744993615684,
           0.35054141947162487,
           0.5278465495636908,
           0.2882626798835033,
           0.4182800979536494,
           1.0000000000000007,
           0.7175183141679048,
           0.624959753951035
          ],
          [
           0.4526331505239406,
           0.44701402657528555,
           0.29589661449997545,
           0.39512248667121685,
           0.4273017103401126,
           0.37483704540051405,
           0.3506013213842729,
           0.3306036408430857,
           0.3326723461578024,
           0.32979025920096705,
           0.4044870174659848,
           0.3428296028011651,
           0.37442654693079536,
           0.3313729812117667,
           0.2990956816949589,
           0.3546614295904397,
           0.27428081865830434,
           0.32211738269579726,
           0.37810431740229894,
           0.3470520520052308,
           0.49187338646392464,
           0.41235344608545443,
           0.3920028724979325,
           0.2358646239060294,
           0.5613835230529254,
           0.3737983042580892,
           0.31714728318373214,
           0.24210236182453151,
           0.2661706148217686,
           0.35042230362870086,
           0.3158850872106323,
           0.378112289374687,
           0.22315503963196529,
           0.26979040224312506,
           0.34443542709625263,
           0.31859829909248844,
           0.3302410140827258,
           0.7175183141679048,
           1.0000000000000004,
           0.5984778193937023
          ],
          [
           0.42945148603945527,
           0.3927390127748956,
           0.26516889880772654,
           0.295200103954038,
           0.3577834673615864,
           0.302117076931931,
           0.3154089661544385,
           0.35905078708513,
           0.2617581098681102,
           0.2221049069875945,
           0.34429032284751837,
           0.2687027382469098,
           0.31293164334154183,
           0.24025872778319518,
           0.2522176883569124,
           0.34916863758998296,
           0.16017127079950905,
           0.21622310085561774,
           0.32253271639064895,
           0.29023625725040453,
           0.4537682880097428,
           0.297497205756488,
           0.38073086382802634,
           0.25078349520325915,
           0.3879066988657247,
           0.3400858439218718,
           0.2751893373470227,
           0.1982072515242534,
           0.23738640962500857,
           0.31859576522577804,
           0.29931510194985234,
           0.40259819704006883,
           0.18703722398523312,
           0.19331025099052204,
           0.24928165227535387,
           0.29525003626233615,
           0.3750422326818863,
           0.624959753951035,
           0.5984778193937023,
           1.000000000000001
          ]
         ]
        }
       ],
       "layout": {
        "coloraxis": {
         "colorbar": {
          "title": {
           "text": "Similarity Score"
          }
         },
         "colorscale": [
          [
           0,
           "rgb(247,252,240)"
          ],
          [
           0.125,
           "rgb(224,243,219)"
          ],
          [
           0.25,
           "rgb(204,235,197)"
          ],
          [
           0.375,
           "rgb(168,221,181)"
          ],
          [
           0.5,
           "rgb(123,204,196)"
          ],
          [
           0.625,
           "rgb(78,179,211)"
          ],
          [
           0.75,
           "rgb(43,140,190)"
          ],
          [
           0.875,
           "rgb(8,104,172)"
          ],
          [
           1,
           "rgb(8,64,129)"
          ]
         ]
        },
        "height": 800,
        "hoverlabel": {
         "bgcolor": "white",
         "font": {
          "family": "Rockwell",
          "size": 16
         }
        },
        "legend": {
         "title": {
          "text": "Trend"
         }
        },
        "margin": {
         "t": 60
        },
        "showlegend": true,
        "template": {
         "data": {
          "bar": [
           {
            "error_x": {
             "color": "#2a3f5f"
            },
            "error_y": {
             "color": "#2a3f5f"
            },
            "marker": {
             "line": {
              "color": "#E5ECF6",
              "width": 0.5
             },
             "pattern": {
              "fillmode": "overlay",
              "size": 10,
              "solidity": 0.2
             }
            },
            "type": "bar"
           }
          ],
          "barpolar": [
           {
            "marker": {
             "line": {
              "color": "#E5ECF6",
              "width": 0.5
             },
             "pattern": {
              "fillmode": "overlay",
              "size": 10,
              "solidity": 0.2
             }
            },
            "type": "barpolar"
           }
          ],
          "carpet": [
           {
            "aaxis": {
             "endlinecolor": "#2a3f5f",
             "gridcolor": "white",
             "linecolor": "white",
             "minorgridcolor": "white",
             "startlinecolor": "#2a3f5f"
            },
            "baxis": {
             "endlinecolor": "#2a3f5f",
             "gridcolor": "white",
             "linecolor": "white",
             "minorgridcolor": "white",
             "startlinecolor": "#2a3f5f"
            },
            "type": "carpet"
           }
          ],
          "choropleth": [
           {
            "colorbar": {
             "outlinewidth": 0,
             "ticks": ""
            },
            "type": "choropleth"
           }
          ],
          "contour": [
           {
            "colorbar": {
             "outlinewidth": 0,
             "ticks": ""
            },
            "colorscale": [
             [
              0,
              "#0d0887"
             ],
             [
              0.1111111111111111,
              "#46039f"
             ],
             [
              0.2222222222222222,
              "#7201a8"
             ],
             [
              0.3333333333333333,
              "#9c179e"
             ],
             [
              0.4444444444444444,
              "#bd3786"
             ],
             [
              0.5555555555555556,
              "#d8576b"
             ],
             [
              0.6666666666666666,
              "#ed7953"
             ],
             [
              0.7777777777777778,
              "#fb9f3a"
             ],
             [
              0.8888888888888888,
              "#fdca26"
             ],
             [
              1,
              "#f0f921"
             ]
            ],
            "type": "contour"
           }
          ],
          "contourcarpet": [
           {
            "colorbar": {
             "outlinewidth": 0,
             "ticks": ""
            },
            "type": "contourcarpet"
           }
          ],
          "heatmap": [
           {
            "colorbar": {
             "outlinewidth": 0,
             "ticks": ""
            },
            "colorscale": [
             [
              0,
              "#0d0887"
             ],
             [
              0.1111111111111111,
              "#46039f"
             ],
             [
              0.2222222222222222,
              "#7201a8"
             ],
             [
              0.3333333333333333,
              "#9c179e"
             ],
             [
              0.4444444444444444,
              "#bd3786"
             ],
             [
              0.5555555555555556,
              "#d8576b"
             ],
             [
              0.6666666666666666,
              "#ed7953"
             ],
             [
              0.7777777777777778,
              "#fb9f3a"
             ],
             [
              0.8888888888888888,
              "#fdca26"
             ],
             [
              1,
              "#f0f921"
             ]
            ],
            "type": "heatmap"
           }
          ],
          "heatmapgl": [
           {
            "colorbar": {
             "outlinewidth": 0,
             "ticks": ""
            },
            "colorscale": [
             [
              0,
              "#0d0887"
             ],
             [
              0.1111111111111111,
              "#46039f"
             ],
             [
              0.2222222222222222,
              "#7201a8"
             ],
             [
              0.3333333333333333,
              "#9c179e"
             ],
             [
              0.4444444444444444,
              "#bd3786"
             ],
             [
              0.5555555555555556,
              "#d8576b"
             ],
             [
              0.6666666666666666,
              "#ed7953"
             ],
             [
              0.7777777777777778,
              "#fb9f3a"
             ],
             [
              0.8888888888888888,
              "#fdca26"
             ],
             [
              1,
              "#f0f921"
             ]
            ],
            "type": "heatmapgl"
           }
          ],
          "histogram": [
           {
            "marker": {
             "pattern": {
              "fillmode": "overlay",
              "size": 10,
              "solidity": 0.2
             }
            },
            "type": "histogram"
           }
          ],
          "histogram2d": [
           {
            "colorbar": {
             "outlinewidth": 0,
             "ticks": ""
            },
            "colorscale": [
             [
              0,
              "#0d0887"
             ],
             [
              0.1111111111111111,
              "#46039f"
             ],
             [
              0.2222222222222222,
              "#7201a8"
             ],
             [
              0.3333333333333333,
              "#9c179e"
             ],
             [
              0.4444444444444444,
              "#bd3786"
             ],
             [
              0.5555555555555556,
              "#d8576b"
             ],
             [
              0.6666666666666666,
              "#ed7953"
             ],
             [
              0.7777777777777778,
              "#fb9f3a"
             ],
             [
              0.8888888888888888,
              "#fdca26"
             ],
             [
              1,
              "#f0f921"
             ]
            ],
            "type": "histogram2d"
           }
          ],
          "histogram2dcontour": [
           {
            "colorbar": {
             "outlinewidth": 0,
             "ticks": ""
            },
            "colorscale": [
             [
              0,
              "#0d0887"
             ],
             [
              0.1111111111111111,
              "#46039f"
             ],
             [
              0.2222222222222222,
              "#7201a8"
             ],
             [
              0.3333333333333333,
              "#9c179e"
             ],
             [
              0.4444444444444444,
              "#bd3786"
             ],
             [
              0.5555555555555556,
              "#d8576b"
             ],
             [
              0.6666666666666666,
              "#ed7953"
             ],
             [
              0.7777777777777778,
              "#fb9f3a"
             ],
             [
              0.8888888888888888,
              "#fdca26"
             ],
             [
              1,
              "#f0f921"
             ]
            ],
            "type": "histogram2dcontour"
           }
          ],
          "mesh3d": [
           {
            "colorbar": {
             "outlinewidth": 0,
             "ticks": ""
            },
            "type": "mesh3d"
           }
          ],
          "parcoords": [
           {
            "line": {
             "colorbar": {
              "outlinewidth": 0,
              "ticks": ""
             }
            },
            "type": "parcoords"
           }
          ],
          "pie": [
           {
            "automargin": true,
            "type": "pie"
           }
          ],
          "scatter": [
           {
            "fillpattern": {
             "fillmode": "overlay",
             "size": 10,
             "solidity": 0.2
            },
            "type": "scatter"
           }
          ],
          "scatter3d": [
           {
            "line": {
             "colorbar": {
              "outlinewidth": 0,
              "ticks": ""
             }
            },
            "marker": {
             "colorbar": {
              "outlinewidth": 0,
              "ticks": ""
             }
            },
            "type": "scatter3d"
           }
          ],
          "scattercarpet": [
           {
            "marker": {
             "colorbar": {
              "outlinewidth": 0,
              "ticks": ""
             }
            },
            "type": "scattercarpet"
           }
          ],
          "scattergeo": [
           {
            "marker": {
             "colorbar": {
              "outlinewidth": 0,
              "ticks": ""
             }
            },
            "type": "scattergeo"
           }
          ],
          "scattergl": [
           {
            "marker": {
             "colorbar": {
              "outlinewidth": 0,
              "ticks": ""
             }
            },
            "type": "scattergl"
           }
          ],
          "scattermapbox": [
           {
            "marker": {
             "colorbar": {
              "outlinewidth": 0,
              "ticks": ""
             }
            },
            "type": "scattermapbox"
           }
          ],
          "scatterpolar": [
           {
            "marker": {
             "colorbar": {
              "outlinewidth": 0,
              "ticks": ""
             }
            },
            "type": "scatterpolar"
           }
          ],
          "scatterpolargl": [
           {
            "marker": {
             "colorbar": {
              "outlinewidth": 0,
              "ticks": ""
             }
            },
            "type": "scatterpolargl"
           }
          ],
          "scatterternary": [
           {
            "marker": {
             "colorbar": {
              "outlinewidth": 0,
              "ticks": ""
             }
            },
            "type": "scatterternary"
           }
          ],
          "surface": [
           {
            "colorbar": {
             "outlinewidth": 0,
             "ticks": ""
            },
            "colorscale": [
             [
              0,
              "#0d0887"
             ],
             [
              0.1111111111111111,
              "#46039f"
             ],
             [
              0.2222222222222222,
              "#7201a8"
             ],
             [
              0.3333333333333333,
              "#9c179e"
             ],
             [
              0.4444444444444444,
              "#bd3786"
             ],
             [
              0.5555555555555556,
              "#d8576b"
             ],
             [
              0.6666666666666666,
              "#ed7953"
             ],
             [
              0.7777777777777778,
              "#fb9f3a"
             ],
             [
              0.8888888888888888,
              "#fdca26"
             ],
             [
              1,
              "#f0f921"
             ]
            ],
            "type": "surface"
           }
          ],
          "table": [
           {
            "cells": {
             "fill": {
              "color": "#EBF0F8"
             },
             "line": {
              "color": "white"
             }
            },
            "header": {
             "fill": {
              "color": "#C8D4E3"
             },
             "line": {
              "color": "white"
             }
            },
            "type": "table"
           }
          ]
         },
         "layout": {
          "annotationdefaults": {
           "arrowcolor": "#2a3f5f",
           "arrowhead": 0,
           "arrowwidth": 1
          },
          "autotypenumbers": "strict",
          "coloraxis": {
           "colorbar": {
            "outlinewidth": 0,
            "ticks": ""
           }
          },
          "colorscale": {
           "diverging": [
            [
             0,
             "#8e0152"
            ],
            [
             0.1,
             "#c51b7d"
            ],
            [
             0.2,
             "#de77ae"
            ],
            [
             0.3,
             "#f1b6da"
            ],
            [
             0.4,
             "#fde0ef"
            ],
            [
             0.5,
             "#f7f7f7"
            ],
            [
             0.6,
             "#e6f5d0"
            ],
            [
             0.7,
             "#b8e186"
            ],
            [
             0.8,
             "#7fbc41"
            ],
            [
             0.9,
             "#4d9221"
            ],
            [
             1,
             "#276419"
            ]
           ],
           "sequential": [
            [
             0,
             "#0d0887"
            ],
            [
             0.1111111111111111,
             "#46039f"
            ],
            [
             0.2222222222222222,
             "#7201a8"
            ],
            [
             0.3333333333333333,
             "#9c179e"
            ],
            [
             0.4444444444444444,
             "#bd3786"
            ],
            [
             0.5555555555555556,
             "#d8576b"
            ],
            [
             0.6666666666666666,
             "#ed7953"
            ],
            [
             0.7777777777777778,
             "#fb9f3a"
            ],
            [
             0.8888888888888888,
             "#fdca26"
            ],
            [
             1,
             "#f0f921"
            ]
           ],
           "sequentialminus": [
            [
             0,
             "#0d0887"
            ],
            [
             0.1111111111111111,
             "#46039f"
            ],
            [
             0.2222222222222222,
             "#7201a8"
            ],
            [
             0.3333333333333333,
             "#9c179e"
            ],
            [
             0.4444444444444444,
             "#bd3786"
            ],
            [
             0.5555555555555556,
             "#d8576b"
            ],
            [
             0.6666666666666666,
             "#ed7953"
            ],
            [
             0.7777777777777778,
             "#fb9f3a"
            ],
            [
             0.8888888888888888,
             "#fdca26"
            ],
            [
             1,
             "#f0f921"
            ]
           ]
          },
          "colorway": [
           "#636efa",
           "#EF553B",
           "#00cc96",
           "#ab63fa",
           "#FFA15A",
           "#19d3f3",
           "#FF6692",
           "#B6E880",
           "#FF97FF",
           "#FECB52"
          ],
          "font": {
           "color": "#2a3f5f"
          },
          "geo": {
           "bgcolor": "white",
           "lakecolor": "white",
           "landcolor": "#E5ECF6",
           "showlakes": true,
           "showland": true,
           "subunitcolor": "white"
          },
          "hoverlabel": {
           "align": "left"
          },
          "hovermode": "closest",
          "mapbox": {
           "style": "light"
          },
          "paper_bgcolor": "white",
          "plot_bgcolor": "#E5ECF6",
          "polar": {
           "angularaxis": {
            "gridcolor": "white",
            "linecolor": "white",
            "ticks": ""
           },
           "bgcolor": "#E5ECF6",
           "radialaxis": {
            "gridcolor": "white",
            "linecolor": "white",
            "ticks": ""
           }
          },
          "scene": {
           "xaxis": {
            "backgroundcolor": "#E5ECF6",
            "gridcolor": "white",
            "gridwidth": 2,
            "linecolor": "white",
            "showbackground": true,
            "ticks": "",
            "zerolinecolor": "white"
           },
           "yaxis": {
            "backgroundcolor": "#E5ECF6",
            "gridcolor": "white",
            "gridwidth": 2,
            "linecolor": "white",
            "showbackground": true,
            "ticks": "",
            "zerolinecolor": "white"
           },
           "zaxis": {
            "backgroundcolor": "#E5ECF6",
            "gridcolor": "white",
            "gridwidth": 2,
            "linecolor": "white",
            "showbackground": true,
            "ticks": "",
            "zerolinecolor": "white"
           }
          },
          "shapedefaults": {
           "line": {
            "color": "#2a3f5f"
           }
          },
          "ternary": {
           "aaxis": {
            "gridcolor": "white",
            "linecolor": "white",
            "ticks": ""
           },
           "baxis": {
            "gridcolor": "white",
            "linecolor": "white",
            "ticks": ""
           },
           "bgcolor": "#E5ECF6",
           "caxis": {
            "gridcolor": "white",
            "linecolor": "white",
            "ticks": ""
           }
          },
          "title": {
           "x": 0.05
          },
          "xaxis": {
           "automargin": true,
           "gridcolor": "white",
           "linecolor": "white",
           "ticks": "",
           "title": {
            "standoff": 15
           },
           "zerolinecolor": "white",
           "zerolinewidth": 2
          },
          "yaxis": {
           "automargin": true,
           "gridcolor": "white",
           "linecolor": "white",
           "ticks": "",
           "title": {
            "standoff": 15
           },
           "zerolinecolor": "white",
           "zerolinewidth": 2
          }
         }
        },
        "title": {
         "font": {
          "color": "Black",
          "size": 22
         },
         "text": "<b>Similarity Matrix</b>",
         "x": 0.55,
         "xanchor": "center",
         "y": 0.95,
         "yanchor": "top"
        },
        "width": 800,
        "xaxis": {
         "anchor": "y",
         "constrain": "domain",
         "domain": [
          0,
          1
         ],
         "scaleanchor": "y"
        },
        "yaxis": {
         "anchor": "x",
         "autorange": "reversed",
         "constrain": "domain",
         "domain": [
          0,
          1
         ]
        }
       }
      }
     },
     "metadata": {},
     "output_type": "display_data"
    }
   ],
   "source": [
    "model.visualize_heatmap(n_clusters=5)"
   ]
  },
  {
   "cell_type": "code",
   "execution_count": 88,
   "metadata": {},
   "outputs": [
    {
     "name": "stderr",
     "output_type": "stream",
     "text": [
      "100%|██████████| 39/39 [00:00<00:00, 432.49it/s]\n"
     ]
    }
   ],
   "source": [
    "hierarchical_topics = model.hierarchical_topics(df['description'])"
   ]
  },
  {
   "cell_type": "code",
   "execution_count": 89,
   "metadata": {},
   "outputs": [
    {
     "data": {
      "application/vnd.plotly.v1+json": {
       "config": {
        "plotlyServerURL": "https://plot.ly"
       },
       "data": [
        {
         "hoverinfo": "text",
         "marker": {
          "color": "rgb(61,153,112)"
         },
         "mode": "lines",
         "text": [
          "sanimidget_sanimagnum_sanimicro_ex_clip",
          "",
          "",
          "pl_bpe_sf_pm_raep"
         ],
         "type": "scatter",
         "x": [
          0,
          0.8213634156982804,
          0.8213634156982804,
          0
         ],
         "xaxis": "x",
         "y": [
          -5,
          -5,
          -15,
          -15
         ],
         "yaxis": "y"
        },
        {
         "hoverinfo": "text",
         "marker": {
          "color": "rgb(255,65,54)"
         },
         "mode": "lines",
         "text": [
          "mark_body_dv_st_forged",
          "",
          "",
          "dv_fgd_st_man_sf"
         ],
         "type": "scatter",
         "x": [
          0,
          0.5680748409828509,
          0.5680748409828509,
          0
         ],
         "xaxis": "x",
         "y": [
          -25,
          -25,
          -35,
          -35
         ],
         "yaxis": "y"
        },
        {
         "hoverinfo": "text",
         "marker": {
          "color": "rgb(255,65,54)"
         },
         "mode": "lines",
         "text": [
          "dv_st_fgd_man_sf",
          "",
          "",
          "diaphragm_bayonet_dv_st_tfm"
         ],
         "type": "scatter",
         "x": [
          0.5680748409828509,
          0.934313683086455,
          0.934313683086455,
          0
         ],
         "xaxis": "x",
         "y": [
          -30,
          -30,
          -45,
          -45
         ],
         "yaxis": "y"
        },
        {
         "hoverinfo": "text",
         "marker": {
          "color": "rgb(0,116,217)"
         },
         "mode": "lines",
         "text": [
          "bpe_pl_sf_pm_sanimidget",
          "",
          "",
          "dv_st_fgd_man_sf"
         ],
         "type": "scatter",
         "x": [
          0.8213634156982804,
          1.0809672483125394,
          1.0809672483125394,
          0.934313683086455
         ],
         "xaxis": "x",
         "y": [
          -10,
          -10,
          -37.5,
          -37.5
         ],
         "yaxis": "y"
        },
        {
         "hoverinfo": "text",
         "marker": {
          "color": "rgb(35,205,205)"
         },
         "mode": "lines",
         "text": [
          "mixproof_piece_body_plug_intermediate",
          "",
          "",
          "mixproof_ends_welded_inside_cp"
         ],
         "type": "scatter",
         "x": [
          0,
          0.7307425014056704,
          0.7307425014056704,
          0
         ],
         "xaxis": "x",
         "y": [
          -55,
          -55,
          -65,
          -65
         ],
         "yaxis": "y"
        },
        {
         "hoverinfo": "text",
         "marker": {
          "color": "rgb(35,205,205)"
         },
         "mode": "lines",
         "text": [
          "mixproof_ends_welded_inside_cp",
          "",
          "",
          "bal_none_clean_cip_lower"
         ],
         "type": "scatter",
         "x": [
          0.7307425014056704,
          0.9337136647744376,
          0.9337136647744376,
          0
         ],
         "xaxis": "x",
         "y": [
          -60,
          -60,
          -75,
          -75
         ],
         "yaxis": "y"
        },
        {
         "hoverinfo": "text",
         "marker": {
          "color": "rgb(133,20,75)"
         },
         "mode": "lines",
         "text": [
          "sic_kw_hz_pump_seal",
          "",
          "",
          "casing_pump_mr_lkh_yeast"
         ],
         "type": "scatter",
         "x": [
          0,
          0.8197094262956803,
          0.8197094262956803,
          0
         ],
         "xaxis": "x",
         "y": [
          -95,
          -95,
          -105,
          -105
         ],
         "yaxis": "y"
        },
        {
         "hoverinfo": "text",
         "marker": {
          "color": "rgb(133,20,75)"
         },
         "mode": "lines",
         "text": [
          "impeller_special_evap_lkh_trace",
          "",
          "",
          "sic_kw_hz_pump_lkh"
         ],
         "type": "scatter",
         "x": [
          0,
          0.891535270975376,
          0.891535270975376,
          0.8197094262956803
         ],
         "xaxis": "x",
         "y": [
          -85,
          -85,
          -100,
          -100
         ],
         "yaxis": "y"
        },
        {
         "hoverinfo": "text",
         "marker": {
          "color": "rgb(255,220,0)"
         },
         "mode": "lines",
         "text": [
          "gj_item_bearing_sanitary_shaft",
          "",
          "",
          "als_agitator_lf_edp_altb"
         ],
         "type": "scatter",
         "x": [
          0,
          0.9029389681963143,
          0.9029389681963143,
          0
         ],
         "xaxis": "x",
         "y": [
          -125,
          -125,
          -135,
          -135
         ],
         "yaxis": "y"
        },
        {
         "hoverinfo": "text",
         "marker": {
          "color": "rgb(255,220,0)"
         },
         "mode": "lines",
         "text": [
          "rotor_sr_rotorcase_sx_cover",
          "",
          "",
          "sanitary_gj_item_bearing_als"
         ],
         "type": "scatter",
         "x": [
          0,
          0.9888035275007692,
          0.9888035275007692,
          0.9029389681963143
         ],
         "xaxis": "x",
         "y": [
          -115,
          -115,
          -130,
          -130
         ],
         "yaxis": "y"
        },
        {
         "hoverinfo": "text",
         "marker": {
          "color": "rgb(40,35,35)"
         },
         "mode": "lines",
         "text": [
          "cap_end_amp_chain_plastic",
          "",
          "",
          "gasket_tc_flanged_sfy_mp"
         ],
         "type": "scatter",
         "x": [
          0,
          0.9622015993583842,
          0.9622015993583842,
          0
         ],
         "xaxis": "x",
         "y": [
          -145,
          -145,
          -155,
          -155
         ],
         "yaxis": "y"
        },
        {
         "hoverinfo": "text",
         "marker": {
          "color": "rgb(40,35,35)"
         },
         "mode": "lines",
         "text": [
          "gasket_cap_end_tc_flanged",
          "",
          "",
          "ring_nbr_fep_fpm_epdm"
         ],
         "type": "scatter",
         "x": [
          0.9622015993583842,
          0.9788220598540229,
          0.9788220598540229,
          0
         ],
         "xaxis": "x",
         "y": [
          -150,
          -150,
          -165,
          -165
         ],
         "yaxis": "y"
        },
        {
         "hoverinfo": "text",
         "marker": {
          "color": "rgb(0,116,217)"
         },
         "mode": "lines",
         "text": [
          "sanitary_gj_item_bearing_als",
          "",
          "",
          "ring_gasket_nbr_cap_end"
         ],
         "type": "scatter",
         "x": [
          0.9888035275007692,
          1.0145657973413305,
          1.0145657973413305,
          0.9788220598540229
         ],
         "xaxis": "x",
         "y": [
          -122.5,
          -122.5,
          -157.5,
          -157.5
         ],
         "yaxis": "y"
        },
        {
         "hoverinfo": "text",
         "marker": {
          "color": "rgb(61,153,112)"
         },
         "mode": "lines",
         "text": [
          "dindndn_pharma_iy_line_ped",
          "",
          "",
          "glass_sight_sightglass_line_flexbody"
         ],
         "type": "scatter",
         "x": [
          0,
          0.9295557722237194,
          0.9295557722237194,
          0
         ],
         "xaxis": "x",
         "y": [
          -175,
          -175,
          -185,
          -185
         ],
         "yaxis": "y"
        },
        {
         "hoverinfo": "text",
         "marker": {
          "color": "rgb(0,116,217)"
         },
         "mode": "lines",
         "text": [
          "ring_sanitary_gasket_gj_item",
          "",
          "",
          "glass_sight_line_dindndn_pharma"
         ],
         "type": "scatter",
         "x": [
          1.0145657973413305,
          1.0508741720189332,
          1.0508741720189332,
          0.9295557722237194
         ],
         "xaxis": "x",
         "y": [
          -140,
          -140,
          -180,
          -180
         ],
         "yaxis": "y"
        },
        {
         "hoverinfo": "text",
         "marker": {
          "color": "rgb(255,65,54)"
         },
         "mode": "lines",
         "text": [
          "ball_sbv_sample_sampling_membrane",
          "",
          "",
          "pressure_regulator_bar_tank_gauge"
         ],
         "type": "scatter",
         "x": [
          0,
          0.9087172120500908,
          0.9087172120500908,
          0
         ],
         "xaxis": "x",
         "y": [
          -205,
          -205,
          -215,
          -215
         ],
         "yaxis": "y"
        },
        {
         "hoverinfo": "text",
         "marker": {
          "color": "rgb(255,65,54)"
         },
         "mode": "lines",
         "text": [
          "butterfly_lkb_hnbr_valve_cl",
          "",
          "",
          "pressure_ball_regulator_bar_sbv"
         ],
         "type": "scatter",
         "x": [
          0,
          0.9767433756459907,
          0.9767433756459907,
          0.9087172120500908
         ],
         "xaxis": "x",
         "y": [
          -195,
          -195,
          -210,
          -210
         ],
         "yaxis": "y"
        },
        {
         "hoverinfo": "text",
         "marker": {
          "color": "rgb(35,205,205)"
         },
         "mode": "lines",
         "text": [
          "personnel_access_inspection_port_lkdc",
          "",
          "",
          "vdc_pnp_digital_think_thinktop"
         ],
         "type": "scatter",
         "x": [
          0,
          0.9751228215843969,
          0.9751228215843969,
          0
         ],
         "xaxis": "x",
         "y": [
          -225,
          -225,
          -235,
          -235
         ],
         "yaxis": "y"
        },
        {
         "hoverinfo": "text",
         "marker": {
          "color": "rgb(0,116,217)"
         },
         "mode": "lines",
         "text": [
          "pressure_ball_regulator_bar_sbv",
          "",
          "",
          "vdc_pnp_digital_think_port"
         ],
         "type": "scatter",
         "x": [
          0.9767433756459907,
          1.011036805078134,
          1.011036805078134,
          0.9751228215843969
         ],
         "xaxis": "x",
         "y": [
          -202.5,
          -202.5,
          -230,
          -230
         ],
         "yaxis": "y"
        },
        {
         "hoverinfo": "text",
         "marker": {
          "color": "rgb(0,116,217)"
         },
         "mode": "lines",
         "text": [
          "ring_sanitary_gasket_gj_item",
          "",
          "",
          "pressure_ball_vdc_regulator_bar"
         ],
         "type": "scatter",
         "x": [
          1.0508741720189332,
          1.062134015293275,
          1.062134015293275,
          1.011036805078134
         ],
         "xaxis": "x",
         "y": [
          -160,
          -160,
          -216.25,
          -216.25
         ],
         "yaxis": "y"
        },
        {
         "hoverinfo": "text",
         "marker": {
          "color": "rgb(61,153,112)"
         },
         "mode": "lines",
         "text": [
          "hsf_red_tee_rk_din",
          "",
          "",
          "welding_mat_bend_raw_nw"
         ],
         "type": "scatter",
         "x": [
          0,
          0.7894589360615514,
          0.7894589360615514,
          0
         ],
         "xaxis": "x",
         "y": [
          -245,
          -245,
          -255,
          -255
         ],
         "yaxis": "y"
        },
        {
         "hoverinfo": "text",
         "marker": {
          "color": "rgb(61,153,112)"
         },
         "mode": "lines",
         "text": [
          "hsf_red_tee_din_rk",
          "",
          "",
          "lksf_slot_strainer_welding_bl"
         ],
         "type": "scatter",
         "x": [
          0.7894589360615514,
          0.9508863693281903,
          0.9508863693281903,
          0
         ],
         "xaxis": "x",
         "y": [
          -250,
          -250,
          -265,
          -265
         ],
         "yaxis": "y"
        },
        {
         "hoverinfo": "text",
         "marker": {
          "color": "rgb(0,116,217)"
         },
         "mode": "lines",
         "text": [
          "ring_sanitary_gasket_gj_ball",
          "",
          "",
          "hsf_red_tee_welding_din"
         ],
         "type": "scatter",
         "x": [
          1.062134015293275,
          1.1547050170410702,
          1.1547050170410702,
          0.9508863693281903
         ],
         "xaxis": "x",
         "y": [
          -188.125,
          -188.125,
          -257.5,
          -257.5
         ],
         "yaxis": "y"
        },
        {
         "hoverinfo": "text",
         "marker": {
          "color": "rgb(0,116,217)"
         },
         "mode": "lines",
         "text": [
          "sic_pump_lkh_kw_hz",
          "",
          "",
          "hsf_ring_red_sanitary_gasket"
         ],
         "type": "scatter",
         "x": [
          0.891535270975376,
          1.1639646178532965,
          1.1639646178532965,
          1.1547050170410702
         ],
         "xaxis": "x",
         "y": [
          -92.5,
          -92.5,
          -222.8125,
          -222.8125
         ],
         "yaxis": "y"
        },
        {
         "hoverinfo": "text",
         "marker": {
          "color": "rgb(0,116,217)"
         },
         "mode": "lines",
         "text": [
          "mixproof_ends_welded_inside_bal",
          "",
          "",
          "sic_lkh_kw_pump_hz"
         ],
         "type": "scatter",
         "x": [
          0.9337136647744376,
          1.1865425580613256,
          1.1865425580613256,
          1.1639646178532965
         ],
         "xaxis": "x",
         "y": [
          -67.5,
          -67.5,
          -157.65625,
          -157.65625
         ],
         "yaxis": "y"
        },
        {
         "hoverinfo": "text",
         "marker": {
          "color": "rgb(255,65,54)"
         },
         "mode": "lines",
         "text": [
          "pg_bar_psi_aisil_dial",
          "",
          "",
          "cm_tg_dial_gland_clamp"
         ],
         "type": "scatter",
         "x": [
          0,
          0.6743677939626642,
          0.6743677939626642,
          0
         ],
         "xaxis": "x",
         "y": [
          -275,
          -275,
          -285,
          -285
         ],
         "yaxis": "y"
        },
        {
         "hoverinfo": "text",
         "marker": {
          "color": "rgb(255,65,54)"
         },
         "mode": "lines",
         "text": [
          "bar_dial_pg_clamp_cm",
          "",
          "",
          "clamp_id_ultrapure_od_clamps"
         ],
         "type": "scatter",
         "x": [
          0.6743677939626642,
          0.8164013594950769,
          0.8164013594950769,
          0
         ],
         "xaxis": "x",
         "y": [
          -280,
          -280,
          -295,
          -295
         ],
         "yaxis": "y"
        },
        {
         "hoverinfo": "text",
         "marker": {
          "color": "rgb(0,116,217)"
         },
         "mode": "lines",
         "text": [
          "sic_lkh_kw_pump_hz",
          "",
          "",
          "clamp_bar_dial_pg_cm"
         ],
         "type": "scatter",
         "x": [
          1.1865425580613256,
          1.2661997037022277,
          1.2661997037022277,
          0.8164013594950769
         ],
         "xaxis": "x",
         "y": [
          -112.578125,
          -112.578125,
          -287.5,
          -287.5
         ],
         "yaxis": "y"
        },
        {
         "hoverinfo": "text",
         "marker": {
          "color": "rgb(0,116,217)"
         },
         "mode": "lines",
         "text": [
          "sf_dv_bpe_st_qdoc",
          "",
          "",
          "sic_lkh_kw_pump_hz"
         ],
         "type": "scatter",
         "x": [
          1.0809672483125394,
          1.287195176047418,
          1.287195176047418,
          1.2661997037022277
         ],
         "xaxis": "x",
         "y": [
          -23.75,
          -23.75,
          -200.0390625,
          -200.0390625
         ],
         "yaxis": "y"
        },
        {
         "hoverinfo": "text",
         "marker": {
          "color": "rgb(35,205,205)"
         },
         "mode": "lines",
         "text": [
          "kv_rv_plug_regulating_spc",
          "",
          "",
          "regulating_rv_kv_st_weld"
         ],
         "type": "scatter",
         "x": [
          0,
          0.27864130367653395,
          0.27864130367653395,
          0
         ],
         "xaxis": "x",
         "y": [
          -305,
          -305,
          -315,
          -315
         ],
         "yaxis": "y"
        },
        {
         "hoverinfo": "text",
         "marker": {
          "color": "rgb(133,20,75)"
         },
         "mode": "lines",
         "text": [
          "ssv_inch_nc_change_maintainable",
          "",
          "",
          "hnbr_ssv_inch_maintainable_nc"
         ],
         "type": "scatter",
         "x": [
          0,
          0.32544583526309245,
          0.32544583526309245,
          0
         ],
         "xaxis": "x",
         "y": [
          -335,
          -335,
          -345,
          -345
         ],
         "yaxis": "y"
        },
        {
         "hoverinfo": "text",
         "marker": {
          "color": "rgb(133,20,75)"
         },
         "mode": "lines",
         "text": [
          "manhole_lkdc_shut_ssv_lkd",
          "",
          "",
          "ssv_inch_nc_maintainable_change"
         ],
         "type": "scatter",
         "x": [
          0,
          0.7843721649693853,
          0.7843721649693853,
          0.32544583526309245
         ],
         "xaxis": "x",
         "y": [
          -325,
          -325,
          -340,
          -340
         ],
         "yaxis": "y"
        },
        {
         "hoverinfo": "text",
         "marker": {
          "color": "rgb(133,20,75)"
         },
         "mode": "lines",
         "text": [
          "ssv_inch_maintainable_nc_change",
          "",
          "",
          "actuator_ch_maintainable_tr_step"
         ],
         "type": "scatter",
         "x": [
          0.7843721649693853,
          0.8550507494325233,
          0.8550507494325233,
          0
         ],
         "xaxis": "x",
         "y": [
          -332.5,
          -332.5,
          -355,
          -355
         ],
         "yaxis": "y"
        },
        {
         "hoverinfo": "text",
         "marker": {
          "color": "rgb(0,116,217)"
         },
         "mode": "lines",
         "text": [
          "kv_regulating_rv_st_plug",
          "",
          "",
          "ssv_maintainable_inch_nc_change"
         ],
         "type": "scatter",
         "x": [
          0.27864130367653395,
          1.241891594354034,
          1.241891594354034,
          0.8550507494325233
         ],
         "xaxis": "x",
         "y": [
          -310,
          -310,
          -343.75,
          -343.75
         ],
         "yaxis": "y"
        },
        {
         "hoverinfo": "text",
         "marker": {
          "color": "rgb(255,220,0)"
         },
         "mode": "lines",
         "text": [
          "tr_plug_ssv_shut_change",
          "",
          "",
          "plug_smp_nw_set_bc"
         ],
         "type": "scatter",
         "x": [
          0,
          0.6182408516125878,
          0.6182408516125878,
          0
         ],
         "xaxis": "x",
         "y": [
          -365,
          -365,
          -375,
          -375
         ],
         "yaxis": "y"
        },
        {
         "hoverinfo": "text",
         "marker": {
          "color": "rgb(255,220,0)"
         },
         "mode": "lines",
         "text": [
          "service_kit_nw_smp_src",
          "",
          "",
          "service_kit_nw_nbr_fpm"
         ],
         "type": "scatter",
         "x": [
          0,
          0.17523239785034772,
          0.17523239785034772,
          0
         ],
         "xaxis": "x",
         "y": [
          -385,
          -385,
          -395,
          -395
         ],
         "yaxis": "y"
        },
        {
         "hoverinfo": "text",
         "marker": {
          "color": "rgb(255,220,0)"
         },
         "mode": "lines",
         "text": [
          "plug_tr_ssv_shut_change",
          "",
          "",
          "service_kit_nw_src_smp"
         ],
         "type": "scatter",
         "x": [
          0.6182408516125878,
          0.9093839909889775,
          0.9093839909889775,
          0.17523239785034772
         ],
         "xaxis": "x",
         "y": [
          -370,
          -370,
          -390,
          -390
         ],
         "yaxis": "y"
        },
        {
         "hoverinfo": "text",
         "marker": {
          "color": "rgb(0,116,217)"
         },
         "mode": "lines",
         "text": [
          "ssv_nc_maintainable_inch_change",
          "",
          "",
          "plug_service_kit_tr_ssv"
         ],
         "type": "scatter",
         "x": [
          1.241891594354034,
          1.3946753175336741,
          1.3946753175336741,
          0.9093839909889775
         ],
         "xaxis": "x",
         "y": [
          -326.875,
          -326.875,
          -380,
          -380
         ],
         "yaxis": "y"
        },
        {
         "hoverinfo": "text",
         "marker": {
          "color": "rgb(0,116,217)"
         },
         "mode": "lines",
         "text": [
          "sic_lkh_kw_pump_hz",
          "",
          "",
          "ssv_change_nc_maintainable_shut"
         ],
         "type": "scatter",
         "x": [
          1.287195176047418,
          1.5947931823964603,
          1.5947931823964603,
          1.3946753175336741
         ],
         "xaxis": "x",
         "y": [
          -111.89453125,
          -111.89453125,
          -353.4375,
          -353.4375
         ],
         "yaxis": "y"
        },
        {
         "hoverinfo": "text",
         "hovertext": [
          "dv_st_fgd_man_sf",
          "bpe_pl_sf_pm_sanimidget",
          "mixproof_ends_welded_inside_cp",
          "gasket_cap_end_tc_flanged",
          "sanitary_gj_item_bearing_als",
          "ring_sanitary_gasket_gj_item",
          "pressure_ball_regulator_bar_sbv",
          "ring_sanitary_gasket_gj_item",
          "hsf_red_tee_din_rk",
          "ring_sanitary_gasket_gj_ball",
          "sic_pump_lkh_kw_hz",
          "mixproof_ends_welded_inside_bal",
          "bar_dial_pg_clamp_cm",
          "sic_lkh_kw_pump_hz",
          "sf_dv_bpe_st_qdoc",
          "ssv_inch_maintainable_nc_change",
          "kv_regulating_rv_st_plug",
          "plug_tr_ssv_shut_change",
          "ssv_nc_maintainable_inch_change",
          "sic_lkh_kw_pump_hz"
         ],
         "marker": {
          "color": "black"
         },
         "mode": "markers",
         "showlegend": false,
         "type": "scatter",
         "x": [
          0.5680748409828509,
          0.8213634156982804,
          0.7307425014056704,
          0.9622015993583842,
          0.9888035275007692,
          1.0145657973413305,
          0.9767433756459907,
          1.0508741720189332,
          0.7894589360615514,
          1.062134015293275,
          0.891535270975376,
          0.9337136647744376,
          0.6743677939626642,
          1.1865425580613256,
          1.0809672483125394,
          0.7843721649693853,
          0.27864130367653395,
          0.6182408516125878,
          1.241891594354034,
          1.287195176047418
         ],
         "y": [
          -30,
          -10,
          -60,
          -150,
          -122.5,
          -140,
          -202.5,
          -160,
          -250,
          -188.125,
          -92.5,
          -67.5,
          -280,
          -112.578125,
          -23.75,
          -332.5,
          -310,
          -370,
          -326.875,
          -111.89453125
         ]
        },
        {
         "hoverinfo": "text",
         "hovertext": [
          "dv_st_fgd_man_sf",
          "sic_kw_hz_pump_lkh",
          "sanitary_gj_item_bearing_als",
          "ring_gasket_nbr_cap_end",
          "glass_sight_line_dindndn_pharma",
          "pressure_ball_regulator_bar_sbv",
          "vdc_pnp_digital_think_port",
          "pressure_ball_vdc_regulator_bar",
          "hsf_red_tee_welding_din",
          "hsf_ring_red_sanitary_gasket",
          "sic_lkh_kw_pump_hz",
          "clamp_bar_dial_pg_cm",
          "sic_lkh_kw_pump_hz",
          "ssv_inch_nc_maintainable_change",
          "ssv_maintainable_inch_nc_change",
          "service_kit_nw_src_smp",
          "plug_service_kit_tr_ssv",
          "ssv_change_nc_maintainable_shut"
         ],
         "marker": {
          "color": "black"
         },
         "mode": "markers",
         "showlegend": false,
         "type": "scatter",
         "x": [
          0.934313683086455,
          0.8197094262956803,
          0.9029389681963143,
          0.9788220598540229,
          0.9295557722237194,
          0.9087172120500908,
          0.9751228215843969,
          1.011036805078134,
          0.9508863693281903,
          1.1547050170410702,
          1.1639646178532965,
          0.8164013594950769,
          1.2661997037022277,
          0.32544583526309245,
          0.8550507494325233,
          0.17523239785034772,
          0.9093839909889775,
          1.3946753175336741
         ],
         "y": [
          -37.5,
          -100,
          -130,
          -157.5,
          -180,
          -210,
          -230,
          -216.25,
          -257.5,
          -222.8125,
          -157.65625,
          -287.5,
          -200.0390625,
          -340,
          -343.75,
          -390,
          -380,
          -353.4375
         ]
        }
       ],
       "layout": {
        "autosize": false,
        "height": 800,
        "hoverlabel": {
         "bgcolor": "white",
         "font": {
          "family": "Rockwell",
          "size": 16
         }
        },
        "hovermode": "closest",
        "plot_bgcolor": "#ECEFF1",
        "showlegend": false,
        "template": {
         "data": {
          "bar": [
           {
            "error_x": {
             "color": "#2a3f5f"
            },
            "error_y": {
             "color": "#2a3f5f"
            },
            "marker": {
             "line": {
              "color": "white",
              "width": 0.5
             },
             "pattern": {
              "fillmode": "overlay",
              "size": 10,
              "solidity": 0.2
             }
            },
            "type": "bar"
           }
          ],
          "barpolar": [
           {
            "marker": {
             "line": {
              "color": "white",
              "width": 0.5
             },
             "pattern": {
              "fillmode": "overlay",
              "size": 10,
              "solidity": 0.2
             }
            },
            "type": "barpolar"
           }
          ],
          "carpet": [
           {
            "aaxis": {
             "endlinecolor": "#2a3f5f",
             "gridcolor": "#C8D4E3",
             "linecolor": "#C8D4E3",
             "minorgridcolor": "#C8D4E3",
             "startlinecolor": "#2a3f5f"
            },
            "baxis": {
             "endlinecolor": "#2a3f5f",
             "gridcolor": "#C8D4E3",
             "linecolor": "#C8D4E3",
             "minorgridcolor": "#C8D4E3",
             "startlinecolor": "#2a3f5f"
            },
            "type": "carpet"
           }
          ],
          "choropleth": [
           {
            "colorbar": {
             "outlinewidth": 0,
             "ticks": ""
            },
            "type": "choropleth"
           }
          ],
          "contour": [
           {
            "colorbar": {
             "outlinewidth": 0,
             "ticks": ""
            },
            "colorscale": [
             [
              0,
              "#0d0887"
             ],
             [
              0.1111111111111111,
              "#46039f"
             ],
             [
              0.2222222222222222,
              "#7201a8"
             ],
             [
              0.3333333333333333,
              "#9c179e"
             ],
             [
              0.4444444444444444,
              "#bd3786"
             ],
             [
              0.5555555555555556,
              "#d8576b"
             ],
             [
              0.6666666666666666,
              "#ed7953"
             ],
             [
              0.7777777777777778,
              "#fb9f3a"
             ],
             [
              0.8888888888888888,
              "#fdca26"
             ],
             [
              1,
              "#f0f921"
             ]
            ],
            "type": "contour"
           }
          ],
          "contourcarpet": [
           {
            "colorbar": {
             "outlinewidth": 0,
             "ticks": ""
            },
            "type": "contourcarpet"
           }
          ],
          "heatmap": [
           {
            "colorbar": {
             "outlinewidth": 0,
             "ticks": ""
            },
            "colorscale": [
             [
              0,
              "#0d0887"
             ],
             [
              0.1111111111111111,
              "#46039f"
             ],
             [
              0.2222222222222222,
              "#7201a8"
             ],
             [
              0.3333333333333333,
              "#9c179e"
             ],
             [
              0.4444444444444444,
              "#bd3786"
             ],
             [
              0.5555555555555556,
              "#d8576b"
             ],
             [
              0.6666666666666666,
              "#ed7953"
             ],
             [
              0.7777777777777778,
              "#fb9f3a"
             ],
             [
              0.8888888888888888,
              "#fdca26"
             ],
             [
              1,
              "#f0f921"
             ]
            ],
            "type": "heatmap"
           }
          ],
          "heatmapgl": [
           {
            "colorbar": {
             "outlinewidth": 0,
             "ticks": ""
            },
            "colorscale": [
             [
              0,
              "#0d0887"
             ],
             [
              0.1111111111111111,
              "#46039f"
             ],
             [
              0.2222222222222222,
              "#7201a8"
             ],
             [
              0.3333333333333333,
              "#9c179e"
             ],
             [
              0.4444444444444444,
              "#bd3786"
             ],
             [
              0.5555555555555556,
              "#d8576b"
             ],
             [
              0.6666666666666666,
              "#ed7953"
             ],
             [
              0.7777777777777778,
              "#fb9f3a"
             ],
             [
              0.8888888888888888,
              "#fdca26"
             ],
             [
              1,
              "#f0f921"
             ]
            ],
            "type": "heatmapgl"
           }
          ],
          "histogram": [
           {
            "marker": {
             "pattern": {
              "fillmode": "overlay",
              "size": 10,
              "solidity": 0.2
             }
            },
            "type": "histogram"
           }
          ],
          "histogram2d": [
           {
            "colorbar": {
             "outlinewidth": 0,
             "ticks": ""
            },
            "colorscale": [
             [
              0,
              "#0d0887"
             ],
             [
              0.1111111111111111,
              "#46039f"
             ],
             [
              0.2222222222222222,
              "#7201a8"
             ],
             [
              0.3333333333333333,
              "#9c179e"
             ],
             [
              0.4444444444444444,
              "#bd3786"
             ],
             [
              0.5555555555555556,
              "#d8576b"
             ],
             [
              0.6666666666666666,
              "#ed7953"
             ],
             [
              0.7777777777777778,
              "#fb9f3a"
             ],
             [
              0.8888888888888888,
              "#fdca26"
             ],
             [
              1,
              "#f0f921"
             ]
            ],
            "type": "histogram2d"
           }
          ],
          "histogram2dcontour": [
           {
            "colorbar": {
             "outlinewidth": 0,
             "ticks": ""
            },
            "colorscale": [
             [
              0,
              "#0d0887"
             ],
             [
              0.1111111111111111,
              "#46039f"
             ],
             [
              0.2222222222222222,
              "#7201a8"
             ],
             [
              0.3333333333333333,
              "#9c179e"
             ],
             [
              0.4444444444444444,
              "#bd3786"
             ],
             [
              0.5555555555555556,
              "#d8576b"
             ],
             [
              0.6666666666666666,
              "#ed7953"
             ],
             [
              0.7777777777777778,
              "#fb9f3a"
             ],
             [
              0.8888888888888888,
              "#fdca26"
             ],
             [
              1,
              "#f0f921"
             ]
            ],
            "type": "histogram2dcontour"
           }
          ],
          "mesh3d": [
           {
            "colorbar": {
             "outlinewidth": 0,
             "ticks": ""
            },
            "type": "mesh3d"
           }
          ],
          "parcoords": [
           {
            "line": {
             "colorbar": {
              "outlinewidth": 0,
              "ticks": ""
             }
            },
            "type": "parcoords"
           }
          ],
          "pie": [
           {
            "automargin": true,
            "type": "pie"
           }
          ],
          "scatter": [
           {
            "fillpattern": {
             "fillmode": "overlay",
             "size": 10,
             "solidity": 0.2
            },
            "type": "scatter"
           }
          ],
          "scatter3d": [
           {
            "line": {
             "colorbar": {
              "outlinewidth": 0,
              "ticks": ""
             }
            },
            "marker": {
             "colorbar": {
              "outlinewidth": 0,
              "ticks": ""
             }
            },
            "type": "scatter3d"
           }
          ],
          "scattercarpet": [
           {
            "marker": {
             "colorbar": {
              "outlinewidth": 0,
              "ticks": ""
             }
            },
            "type": "scattercarpet"
           }
          ],
          "scattergeo": [
           {
            "marker": {
             "colorbar": {
              "outlinewidth": 0,
              "ticks": ""
             }
            },
            "type": "scattergeo"
           }
          ],
          "scattergl": [
           {
            "marker": {
             "colorbar": {
              "outlinewidth": 0,
              "ticks": ""
             }
            },
            "type": "scattergl"
           }
          ],
          "scattermapbox": [
           {
            "marker": {
             "colorbar": {
              "outlinewidth": 0,
              "ticks": ""
             }
            },
            "type": "scattermapbox"
           }
          ],
          "scatterpolar": [
           {
            "marker": {
             "colorbar": {
              "outlinewidth": 0,
              "ticks": ""
             }
            },
            "type": "scatterpolar"
           }
          ],
          "scatterpolargl": [
           {
            "marker": {
             "colorbar": {
              "outlinewidth": 0,
              "ticks": ""
             }
            },
            "type": "scatterpolargl"
           }
          ],
          "scatterternary": [
           {
            "marker": {
             "colorbar": {
              "outlinewidth": 0,
              "ticks": ""
             }
            },
            "type": "scatterternary"
           }
          ],
          "surface": [
           {
            "colorbar": {
             "outlinewidth": 0,
             "ticks": ""
            },
            "colorscale": [
             [
              0,
              "#0d0887"
             ],
             [
              0.1111111111111111,
              "#46039f"
             ],
             [
              0.2222222222222222,
              "#7201a8"
             ],
             [
              0.3333333333333333,
              "#9c179e"
             ],
             [
              0.4444444444444444,
              "#bd3786"
             ],
             [
              0.5555555555555556,
              "#d8576b"
             ],
             [
              0.6666666666666666,
              "#ed7953"
             ],
             [
              0.7777777777777778,
              "#fb9f3a"
             ],
             [
              0.8888888888888888,
              "#fdca26"
             ],
             [
              1,
              "#f0f921"
             ]
            ],
            "type": "surface"
           }
          ],
          "table": [
           {
            "cells": {
             "fill": {
              "color": "#EBF0F8"
             },
             "line": {
              "color": "white"
             }
            },
            "header": {
             "fill": {
              "color": "#C8D4E3"
             },
             "line": {
              "color": "white"
             }
            },
            "type": "table"
           }
          ]
         },
         "layout": {
          "annotationdefaults": {
           "arrowcolor": "#2a3f5f",
           "arrowhead": 0,
           "arrowwidth": 1
          },
          "autotypenumbers": "strict",
          "coloraxis": {
           "colorbar": {
            "outlinewidth": 0,
            "ticks": ""
           }
          },
          "colorscale": {
           "diverging": [
            [
             0,
             "#8e0152"
            ],
            [
             0.1,
             "#c51b7d"
            ],
            [
             0.2,
             "#de77ae"
            ],
            [
             0.3,
             "#f1b6da"
            ],
            [
             0.4,
             "#fde0ef"
            ],
            [
             0.5,
             "#f7f7f7"
            ],
            [
             0.6,
             "#e6f5d0"
            ],
            [
             0.7,
             "#b8e186"
            ],
            [
             0.8,
             "#7fbc41"
            ],
            [
             0.9,
             "#4d9221"
            ],
            [
             1,
             "#276419"
            ]
           ],
           "sequential": [
            [
             0,
             "#0d0887"
            ],
            [
             0.1111111111111111,
             "#46039f"
            ],
            [
             0.2222222222222222,
             "#7201a8"
            ],
            [
             0.3333333333333333,
             "#9c179e"
            ],
            [
             0.4444444444444444,
             "#bd3786"
            ],
            [
             0.5555555555555556,
             "#d8576b"
            ],
            [
             0.6666666666666666,
             "#ed7953"
            ],
            [
             0.7777777777777778,
             "#fb9f3a"
            ],
            [
             0.8888888888888888,
             "#fdca26"
            ],
            [
             1,
             "#f0f921"
            ]
           ],
           "sequentialminus": [
            [
             0,
             "#0d0887"
            ],
            [
             0.1111111111111111,
             "#46039f"
            ],
            [
             0.2222222222222222,
             "#7201a8"
            ],
            [
             0.3333333333333333,
             "#9c179e"
            ],
            [
             0.4444444444444444,
             "#bd3786"
            ],
            [
             0.5555555555555556,
             "#d8576b"
            ],
            [
             0.6666666666666666,
             "#ed7953"
            ],
            [
             0.7777777777777778,
             "#fb9f3a"
            ],
            [
             0.8888888888888888,
             "#fdca26"
            ],
            [
             1,
             "#f0f921"
            ]
           ]
          },
          "colorway": [
           "#636efa",
           "#EF553B",
           "#00cc96",
           "#ab63fa",
           "#FFA15A",
           "#19d3f3",
           "#FF6692",
           "#B6E880",
           "#FF97FF",
           "#FECB52"
          ],
          "font": {
           "color": "#2a3f5f"
          },
          "geo": {
           "bgcolor": "white",
           "lakecolor": "white",
           "landcolor": "white",
           "showlakes": true,
           "showland": true,
           "subunitcolor": "#C8D4E3"
          },
          "hoverlabel": {
           "align": "left"
          },
          "hovermode": "closest",
          "mapbox": {
           "style": "light"
          },
          "paper_bgcolor": "white",
          "plot_bgcolor": "white",
          "polar": {
           "angularaxis": {
            "gridcolor": "#EBF0F8",
            "linecolor": "#EBF0F8",
            "ticks": ""
           },
           "bgcolor": "white",
           "radialaxis": {
            "gridcolor": "#EBF0F8",
            "linecolor": "#EBF0F8",
            "ticks": ""
           }
          },
          "scene": {
           "xaxis": {
            "backgroundcolor": "white",
            "gridcolor": "#DFE8F3",
            "gridwidth": 2,
            "linecolor": "#EBF0F8",
            "showbackground": true,
            "ticks": "",
            "zerolinecolor": "#EBF0F8"
           },
           "yaxis": {
            "backgroundcolor": "white",
            "gridcolor": "#DFE8F3",
            "gridwidth": 2,
            "linecolor": "#EBF0F8",
            "showbackground": true,
            "ticks": "",
            "zerolinecolor": "#EBF0F8"
           },
           "zaxis": {
            "backgroundcolor": "white",
            "gridcolor": "#DFE8F3",
            "gridwidth": 2,
            "linecolor": "#EBF0F8",
            "showbackground": true,
            "ticks": "",
            "zerolinecolor": "#EBF0F8"
           }
          },
          "shapedefaults": {
           "line": {
            "color": "#2a3f5f"
           }
          },
          "ternary": {
           "aaxis": {
            "gridcolor": "#DFE8F3",
            "linecolor": "#A2B1C6",
            "ticks": ""
           },
           "baxis": {
            "gridcolor": "#DFE8F3",
            "linecolor": "#A2B1C6",
            "ticks": ""
           },
           "bgcolor": "white",
           "caxis": {
            "gridcolor": "#DFE8F3",
            "linecolor": "#A2B1C6",
            "ticks": ""
           }
          },
          "title": {
           "x": 0.05
          },
          "xaxis": {
           "automargin": true,
           "gridcolor": "#EBF0F8",
           "linecolor": "#EBF0F8",
           "ticks": "",
           "title": {
            "standoff": 15
           },
           "zerolinecolor": "#EBF0F8",
           "zerolinewidth": 2
          },
          "yaxis": {
           "automargin": true,
           "gridcolor": "#EBF0F8",
           "linecolor": "#EBF0F8",
           "ticks": "",
           "title": {
            "standoff": 15
           },
           "zerolinecolor": "#EBF0F8",
           "zerolinewidth": 2
          }
         }
        },
        "title": {
         "font": {
          "color": "Black",
          "size": 22
         },
         "text": "<b>Hierarchical Clustering</b>",
         "x": 0.5,
         "xanchor": "center",
         "yanchor": "top"
        },
        "width": 1000,
        "xaxis": {
         "mirror": "allticks",
         "rangemode": "tozero",
         "showgrid": false,
         "showline": true,
         "showticklabels": true,
         "ticks": "outside",
         "type": "linear",
         "zeroline": false
        },
        "yaxis": {
         "mirror": "allticks",
         "range": [
          -400,
          0
         ],
         "rangemode": "tozero",
         "showgrid": false,
         "showline": true,
         "showticklabels": true,
         "tickmode": "array",
         "ticks": "outside",
         "ticktext": [
          "9_sanimidget_sanimagnum_san...",
          "13_pl_bpe_sf",
          "37_mark_body_dv",
          "8_dv_fgd_st",
          "29_diaphragm_bayonet_dv",
          "22_mixproof_piece_body",
          "4_mixproof_ends_welded",
          "6_bal_none_clean",
          "16_impeller_special_evap",
          "0_sic_kw_hz",
          "27_casing_pump_mr",
          "30_rotor_sr_rotorcase",
          "1_gj_item_bearing",
          "17_als_agitator_lf",
          "39_cap_end_amp",
          "18_gasket_tc_flanged",
          "5_ring_nbr_fep",
          "36_dindndn_pharma_iy",
          "25_glass_sight_sightglass",
          "38_butterfly_lkb_hnbr",
          "7_ball_sbv_sample",
          "28_pressure_regulator_bar",
          "32_personnel_access_inspect...",
          "19_vdc_pnp_digital",
          "3_hsf_red_tee",
          "14_welding_mat_bend",
          "35_lksf_slot_strainer",
          "33_pg_bar_psi",
          "34_cm_tg_dial",
          "12_clamp_id_ultrapure",
          "31_kv_rv_plug",
          "26_regulating_rv_kv",
          "24_manhole_lkdc_shut",
          "2_ssv_inch_nc",
          "15_hnbr_ssv_inch",
          "11_actuator_ch_maintainable",
          "10_tr_plug_ssv",
          "21_plug_smp_nw",
          "23_service_kit_nw",
          "20_service_kit_nw"
         ],
         "tickvals": [
          -5,
          -15,
          -25,
          -35,
          -45,
          -55,
          -65,
          -75,
          -85,
          -95,
          -105,
          -115,
          -125,
          -135,
          -145,
          -155,
          -165,
          -175,
          -185,
          -195,
          -205,
          -215,
          -225,
          -235,
          -245,
          -255,
          -265,
          -275,
          -285,
          -295,
          -305,
          -315,
          -325,
          -335,
          -345,
          -355,
          -365,
          -375,
          -385,
          -395
         ],
         "type": "linear",
         "zeroline": false
        }
       }
      }
     },
     "metadata": {},
     "output_type": "display_data"
    }
   ],
   "source": [
    "model.visualize_hierarchy(hierarchical_topics=hierarchical_topics)"
   ]
  },
  {
   "cell_type": "code",
   "execution_count": 59,
   "metadata": {},
   "outputs": [],
   "source": [
    "# show df only for cateogyr different than '-1'\n",
    "df_labeled = df[df['category'] != '-1']"
   ]
  },
  {
   "cell_type": "code",
   "execution_count": 91,
   "metadata": {},
   "outputs": [
    {
     "data": {
      "text/html": [
       "<div>\n",
       "<style scoped>\n",
       "    .dataframe tbody tr th:only-of-type {\n",
       "        vertical-align: middle;\n",
       "    }\n",
       "\n",
       "    .dataframe tbody tr th {\n",
       "        vertical-align: top;\n",
       "    }\n",
       "\n",
       "    .dataframe thead th {\n",
       "        text-align: right;\n",
       "    }\n",
       "</style>\n",
       "<table border=\"1\" class=\"dataframe\">\n",
       "  <thead>\n",
       "    <tr style=\"text-align: right;\">\n",
       "      <th></th>\n",
       "      <th>category</th>\n",
       "      <th>topic</th>\n",
       "      <th>counts</th>\n",
       "    </tr>\n",
       "  </thead>\n",
       "  <tbody>\n",
       "    <tr>\n",
       "      <th>0</th>\n",
       "      <td>A</td>\n",
       "      <td>-1</td>\n",
       "      <td>50</td>\n",
       "    </tr>\n",
       "    <tr>\n",
       "      <th>1</th>\n",
       "      <td>A</td>\n",
       "      <td>1</td>\n",
       "      <td>11</td>\n",
       "    </tr>\n",
       "    <tr>\n",
       "      <th>2</th>\n",
       "      <td>A</td>\n",
       "      <td>3</td>\n",
       "      <td>49</td>\n",
       "    </tr>\n",
       "    <tr>\n",
       "      <th>3</th>\n",
       "      <td>A</td>\n",
       "      <td>6</td>\n",
       "      <td>2</td>\n",
       "    </tr>\n",
       "    <tr>\n",
       "      <th>4</th>\n",
       "      <td>A</td>\n",
       "      <td>9</td>\n",
       "      <td>25</td>\n",
       "    </tr>\n",
       "    <tr>\n",
       "      <th>5</th>\n",
       "      <td>A</td>\n",
       "      <td>11</td>\n",
       "      <td>10</td>\n",
       "    </tr>\n",
       "    <tr>\n",
       "      <th>6</th>\n",
       "      <td>B</td>\n",
       "      <td>-1</td>\n",
       "      <td>23</td>\n",
       "    </tr>\n",
       "    <tr>\n",
       "      <th>7</th>\n",
       "      <td>B</td>\n",
       "      <td>1</td>\n",
       "      <td>23</td>\n",
       "    </tr>\n",
       "    <tr>\n",
       "      <th>8</th>\n",
       "      <td>B</td>\n",
       "      <td>3</td>\n",
       "      <td>21</td>\n",
       "    </tr>\n",
       "    <tr>\n",
       "      <th>9</th>\n",
       "      <td>B</td>\n",
       "      <td>5</td>\n",
       "      <td>1</td>\n",
       "    </tr>\n",
       "    <tr>\n",
       "      <th>10</th>\n",
       "      <td>B</td>\n",
       "      <td>6</td>\n",
       "      <td>2</td>\n",
       "    </tr>\n",
       "    <tr>\n",
       "      <th>11</th>\n",
       "      <td>C</td>\n",
       "      <td>-1</td>\n",
       "      <td>20</td>\n",
       "    </tr>\n",
       "    <tr>\n",
       "      <th>12</th>\n",
       "      <td>C</td>\n",
       "      <td>1</td>\n",
       "      <td>2</td>\n",
       "    </tr>\n",
       "    <tr>\n",
       "      <th>13</th>\n",
       "      <td>C</td>\n",
       "      <td>3</td>\n",
       "      <td>1</td>\n",
       "    </tr>\n",
       "    <tr>\n",
       "      <th>14</th>\n",
       "      <td>C</td>\n",
       "      <td>4</td>\n",
       "      <td>3</td>\n",
       "    </tr>\n",
       "    <tr>\n",
       "      <th>15</th>\n",
       "      <td>C</td>\n",
       "      <td>5</td>\n",
       "      <td>1</td>\n",
       "    </tr>\n",
       "    <tr>\n",
       "      <th>16</th>\n",
       "      <td>C</td>\n",
       "      <td>6</td>\n",
       "      <td>2</td>\n",
       "    </tr>\n",
       "    <tr>\n",
       "      <th>17</th>\n",
       "      <td>C</td>\n",
       "      <td>7</td>\n",
       "      <td>6</td>\n",
       "    </tr>\n",
       "    <tr>\n",
       "      <th>18</th>\n",
       "      <td>C</td>\n",
       "      <td>18</td>\n",
       "      <td>4</td>\n",
       "    </tr>\n",
       "    <tr>\n",
       "      <th>19</th>\n",
       "      <td>D</td>\n",
       "      <td>-1</td>\n",
       "      <td>1</td>\n",
       "    </tr>\n",
       "  </tbody>\n",
       "</table>\n",
       "</div>"
      ],
      "text/plain": [
       "   category  topic  counts\n",
       "0         A     -1      50\n",
       "1         A      1      11\n",
       "2         A      3      49\n",
       "3         A      6       2\n",
       "4         A      9      25\n",
       "5         A     11      10\n",
       "6         B     -1      23\n",
       "7         B      1      23\n",
       "8         B      3      21\n",
       "9         B      5       1\n",
       "10        B      6       2\n",
       "11        C     -1      20\n",
       "12        C      1       2\n",
       "13        C      3       1\n",
       "14        C      4       3\n",
       "15        C      5       1\n",
       "16        C      6       2\n",
       "17        C      7       6\n",
       "18        C     18       4\n",
       "19        D     -1       1"
      ]
     },
     "execution_count": 91,
     "metadata": {},
     "output_type": "execute_result"
    }
   ],
   "source": [
    "# show for df_labeled groupby category and topic and just these columns\n",
    "df_labeled.groupby(['category', 'topic']).size().reset_index(name='counts')"
   ]
  },
  {
   "cell_type": "code",
   "execution_count": 65,
   "metadata": {},
   "outputs": [
    {
     "data": {
      "text/html": [
       "<div>\n",
       "<style scoped>\n",
       "    .dataframe tbody tr th:only-of-type {\n",
       "        vertical-align: middle;\n",
       "    }\n",
       "\n",
       "    .dataframe tbody tr th {\n",
       "        vertical-align: top;\n",
       "    }\n",
       "\n",
       "    .dataframe thead th {\n",
       "        text-align: right;\n",
       "    }\n",
       "</style>\n",
       "<table border=\"1\" class=\"dataframe\">\n",
       "  <thead>\n",
       "    <tr style=\"text-align: right;\">\n",
       "      <th></th>\n",
       "      <th>topic</th>\n",
       "      <th>counts</th>\n",
       "    </tr>\n",
       "  </thead>\n",
       "  <tbody>\n",
       "    <tr>\n",
       "      <th>0</th>\n",
       "      <td>-1</td>\n",
       "      <td>17009</td>\n",
       "    </tr>\n",
       "    <tr>\n",
       "      <th>1</th>\n",
       "      <td>0</td>\n",
       "      <td>3129</td>\n",
       "    </tr>\n",
       "    <tr>\n",
       "      <th>2</th>\n",
       "      <td>1</td>\n",
       "      <td>2547</td>\n",
       "    </tr>\n",
       "    <tr>\n",
       "      <th>3</th>\n",
       "      <td>2</td>\n",
       "      <td>1623</td>\n",
       "    </tr>\n",
       "    <tr>\n",
       "      <th>4</th>\n",
       "      <td>3</td>\n",
       "      <td>1464</td>\n",
       "    </tr>\n",
       "    <tr>\n",
       "      <th>5</th>\n",
       "      <td>4</td>\n",
       "      <td>1403</td>\n",
       "    </tr>\n",
       "    <tr>\n",
       "      <th>6</th>\n",
       "      <td>5</td>\n",
       "      <td>1326</td>\n",
       "    </tr>\n",
       "    <tr>\n",
       "      <th>7</th>\n",
       "      <td>6</td>\n",
       "      <td>953</td>\n",
       "    </tr>\n",
       "    <tr>\n",
       "      <th>8</th>\n",
       "      <td>7</td>\n",
       "      <td>719</td>\n",
       "    </tr>\n",
       "    <tr>\n",
       "      <th>9</th>\n",
       "      <td>8</td>\n",
       "      <td>644</td>\n",
       "    </tr>\n",
       "    <tr>\n",
       "      <th>10</th>\n",
       "      <td>9</td>\n",
       "      <td>632</td>\n",
       "    </tr>\n",
       "    <tr>\n",
       "      <th>11</th>\n",
       "      <td>10</td>\n",
       "      <td>558</td>\n",
       "    </tr>\n",
       "    <tr>\n",
       "      <th>12</th>\n",
       "      <td>11</td>\n",
       "      <td>510</td>\n",
       "    </tr>\n",
       "    <tr>\n",
       "      <th>13</th>\n",
       "      <td>12</td>\n",
       "      <td>388</td>\n",
       "    </tr>\n",
       "    <tr>\n",
       "      <th>14</th>\n",
       "      <td>13</td>\n",
       "      <td>356</td>\n",
       "    </tr>\n",
       "    <tr>\n",
       "      <th>15</th>\n",
       "      <td>14</td>\n",
       "      <td>311</td>\n",
       "    </tr>\n",
       "    <tr>\n",
       "      <th>16</th>\n",
       "      <td>15</td>\n",
       "      <td>297</td>\n",
       "    </tr>\n",
       "    <tr>\n",
       "      <th>17</th>\n",
       "      <td>16</td>\n",
       "      <td>287</td>\n",
       "    </tr>\n",
       "    <tr>\n",
       "      <th>18</th>\n",
       "      <td>17</td>\n",
       "      <td>283</td>\n",
       "    </tr>\n",
       "    <tr>\n",
       "      <th>19</th>\n",
       "      <td>18</td>\n",
       "      <td>274</td>\n",
       "    </tr>\n",
       "    <tr>\n",
       "      <th>20</th>\n",
       "      <td>19</td>\n",
       "      <td>252</td>\n",
       "    </tr>\n",
       "    <tr>\n",
       "      <th>21</th>\n",
       "      <td>20</td>\n",
       "      <td>221</td>\n",
       "    </tr>\n",
       "  </tbody>\n",
       "</table>\n",
       "</div>"
      ],
      "text/plain": [
       "    topic  counts\n",
       "0      -1   17009\n",
       "1       0    3129\n",
       "2       1    2547\n",
       "3       2    1623\n",
       "4       3    1464\n",
       "5       4    1403\n",
       "6       5    1326\n",
       "7       6     953\n",
       "8       7     719\n",
       "9       8     644\n",
       "10      9     632\n",
       "11     10     558\n",
       "12     11     510\n",
       "13     12     388\n",
       "14     13     356\n",
       "15     14     311\n",
       "16     15     297\n",
       "17     16     287\n",
       "18     17     283\n",
       "19     18     274\n",
       "20     19     252\n",
       "21     20     221"
      ]
     },
     "execution_count": 65,
     "metadata": {},
     "output_type": "execute_result"
    }
   ],
   "source": [
    "# groupby df by topic count\n",
    "df_topic_count = df.groupby(['topic']).size().reset_index(name='counts')\n",
    "df_topic_count"
   ]
  },
  {
   "cell_type": "code",
   "execution_count": null,
   "metadata": {},
   "outputs": [],
   "source": []
  }
 ],
 "metadata": {
  "kernelspec": {
   "display_name": "Python 3",
   "language": "python",
   "name": "python3"
  },
  "language_info": {
   "codemirror_mode": {
    "name": "ipython",
    "version": 3
   },
   "file_extension": ".py",
   "mimetype": "text/x-python",
   "name": "python",
   "nbconvert_exporter": "python",
   "pygments_lexer": "ipython3",
   "version": "3.10.13"
  },
  "orig_nbformat": 4
 },
 "nbformat": 4,
 "nbformat_minor": 2
}
