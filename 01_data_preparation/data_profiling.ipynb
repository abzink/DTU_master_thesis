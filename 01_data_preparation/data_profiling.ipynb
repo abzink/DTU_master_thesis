{
 "cells": [
  {
   "cell_type": "code",
   "execution_count": 5,
   "metadata": {},
   "outputs": [],
   "source": [
    "# import pandas, numpy, mapltloin, seaborn, profiling\n",
    "import pandas as pd\n",
    "import numpy as np\n",
    "import matplotlib.pyplot as plt\n",
    "import seaborn as sns\n",
    "from ydata_profiling import ProfileReport"
   ]
  },
  {
   "cell_type": "code",
   "execution_count": 2,
   "metadata": {},
   "outputs": [
    {
     "name": "stderr",
     "output_type": "stream",
     "text": [
      "/var/folders/n9/qhmmsj1s7w52648j4cjf7ztc0000gn/T/ipykernel_27928/4247227944.py:2: DtypeWarning: Columns (6,10) have mixed types. Specify dtype option on import or set low_memory=False.\n",
      "  df = pd.read_csv('data/data_all.csv')\n"
     ]
    }
   ],
   "source": [
    "# load data\n",
    "df = pd.read_csv('data/data_all.csv')"
   ]
  },
  {
   "cell_type": "code",
   "execution_count": 4,
   "metadata": {},
   "outputs": [
    {
     "data": {
      "text/html": [
       "<div>\n",
       "<style scoped>\n",
       "    .dataframe tbody tr th:only-of-type {\n",
       "        vertical-align: middle;\n",
       "    }\n",
       "\n",
       "    .dataframe tbody tr th {\n",
       "        vertical-align: top;\n",
       "    }\n",
       "\n",
       "    .dataframe thead th {\n",
       "        text-align: right;\n",
       "    }\n",
       "</style>\n",
       "<table border=\"1\" class=\"dataframe\">\n",
       "  <thead>\n",
       "    <tr style=\"text-align: right;\">\n",
       "      <th></th>\n",
       "      <th>OBCUOR</th>\n",
       "      <th>OBPONR</th>\n",
       "      <th>OACUNO</th>\n",
       "      <th>OKCUNM</th>\n",
       "      <th>OKCSCD</th>\n",
       "      <th>OBRGDT</th>\n",
       "      <th>OBORQT</th>\n",
       "      <th>OBITNO</th>\n",
       "      <th>DESCRIPT</th>\n",
       "      <th>MMITGR</th>\n",
       "      <th>MMITCL</th>\n",
       "      <th>NET_LINE</th>\n",
       "      <th>MMNEWE</th>\n",
       "      <th>MBBCOS</th>\n",
       "      <th>MBLEAT</th>\n",
       "      <th>category</th>\n",
       "    </tr>\n",
       "  </thead>\n",
       "  <tbody>\n",
       "    <tr>\n",
       "      <th>0</th>\n",
       "      <td>4545678</td>\n",
       "      <td>1</td>\n",
       "      <td>463150</td>\n",
       "      <td>ALFA LAVAL IBERIA, S.A.</td>\n",
       "      <td>ES</td>\n",
       "      <td>20141102</td>\n",
       "      <td>5</td>\n",
       "      <td>9611444501</td>\n",
       "      <td>BUTTERFLY VALVE LKB INCH W/W  25 EPDM 316L    ...</td>\n",
       "      <td>D5229</td>\n",
       "      <td>52040</td>\n",
       "      <td>157,95</td>\n",
       "      <td>0,71</td>\n",
       "      <td>0</td>\n",
       "      <td>3</td>\n",
       "      <td>-1</td>\n",
       "    </tr>\n",
       "    <tr>\n",
       "      <th>1</th>\n",
       "      <td>4545678</td>\n",
       "      <td>2</td>\n",
       "      <td>463150</td>\n",
       "      <td>ALFA LAVAL IBERIA, S.A.</td>\n",
       "      <td>ES</td>\n",
       "      <td>20141102</td>\n",
       "      <td>5</td>\n",
       "      <td>9611445155</td>\n",
       "      <td>BUTTERFLY VALVE LKB ISO-CL/CL 25 EPDM 316L    ...</td>\n",
       "      <td>D5229</td>\n",
       "      <td>52070</td>\n",
       "      <td>298,55</td>\n",
       "      <td>1,01</td>\n",
       "      <td>0</td>\n",
       "      <td>3</td>\n",
       "      <td>-1</td>\n",
       "    </tr>\n",
       "    <tr>\n",
       "      <th>2</th>\n",
       "      <td>4545678</td>\n",
       "      <td>3</td>\n",
       "      <td>463150</td>\n",
       "      <td>ALFA LAVAL IBERIA, S.A.</td>\n",
       "      <td>ES</td>\n",
       "      <td>20141102</td>\n",
       "      <td>10</td>\n",
       "      <td>9612045001</td>\n",
       "      <td>HANDLE 1.1 FOR LKB  POS.A     2-POSITIONS 25-6...</td>\n",
       "      <td>D5229</td>\n",
       "      <td>52260</td>\n",
       "      <td>93,3</td>\n",
       "      <td>0,27</td>\n",
       "      <td>0</td>\n",
       "      <td>83</td>\n",
       "      <td>-1</td>\n",
       "    </tr>\n",
       "    <tr>\n",
       "      <th>3</th>\n",
       "      <td>4545679</td>\n",
       "      <td>1</td>\n",
       "      <td>463150</td>\n",
       "      <td>ALFA LAVAL IBERIA, S.A.</td>\n",
       "      <td>ES</td>\n",
       "      <td>20141102</td>\n",
       "      <td>1</td>\n",
       "      <td>TE10B10201</td>\n",
       "      <td>SANIMIDGET 360° US W.PIN                      ...</td>\n",
       "      <td>D5529</td>\n",
       "      <td>55420</td>\n",
       "      <td>207,07</td>\n",
       "      <td>0,35</td>\n",
       "      <td>0</td>\n",
       "      <td>13</td>\n",
       "      <td>-1</td>\n",
       "    </tr>\n",
       "    <tr>\n",
       "      <th>4</th>\n",
       "      <td>0001400174</td>\n",
       "      <td>1</td>\n",
       "      <td>37509L1A</td>\n",
       "      <td>ALFA LAVAL SINGAPORE PTE. LTD.</td>\n",
       "      <td>SG</td>\n",
       "      <td>20141103</td>\n",
       "      <td>5</td>\n",
       "      <td>9612129629</td>\n",
       "      <td>SHAFT SEAL FSS EPDM/SIC/SIC                   ...</td>\n",
       "      <td>D5739</td>\n",
       "      <td>57310</td>\n",
       "      <td>1454,35</td>\n",
       "      <td>0,306</td>\n",
       "      <td>0</td>\n",
       "      <td>24</td>\n",
       "      <td>-1</td>\n",
       "    </tr>\n",
       "  </tbody>\n",
       "</table>\n",
       "</div>"
      ],
      "text/plain": [
       "                 OBCUOR  OBPONR      OACUNO  \\\n",
       "0  4545678                    1  463150       \n",
       "1  4545678                    2  463150       \n",
       "2  4545678                    3  463150       \n",
       "3  4545679                    1  463150       \n",
       "4  0001400174                 1  37509L1A     \n",
       "\n",
       "                                 OKCUNM OKCSCD    OBRGDT OBORQT      OBITNO  \\\n",
       "0  ALFA LAVAL IBERIA, S.A.                 ES   20141102      5  9611444501   \n",
       "1  ALFA LAVAL IBERIA, S.A.                 ES   20141102      5  9611445155   \n",
       "2  ALFA LAVAL IBERIA, S.A.                 ES   20141102     10  9612045001   \n",
       "3  ALFA LAVAL IBERIA, S.A.                 ES   20141102      1  TE10B10201   \n",
       "4  ALFA LAVAL SINGAPORE PTE. LTD.          SG   20141103      5  9612129629   \n",
       "\n",
       "                                            DESCRIPT    MMITGR MMITCL  \\\n",
       "0  BUTTERFLY VALVE LKB INCH W/W  25 EPDM 316L    ...  D5229     52040   \n",
       "1  BUTTERFLY VALVE LKB ISO-CL/CL 25 EPDM 316L    ...  D5229     52070   \n",
       "2  HANDLE 1.1 FOR LKB  POS.A     2-POSITIONS 25-6...  D5229     52260   \n",
       "3  SANIMIDGET 360° US W.PIN                      ...  D5529     55420   \n",
       "4  SHAFT SEAL FSS EPDM/SIC/SIC                   ...  D5739     57310   \n",
       "\n",
       "  NET_LINE MMNEWE  MBBCOS  MBLEAT category  \n",
       "0   157,95   0,71       0       3       -1  \n",
       "1   298,55   1,01       0       3       -1  \n",
       "2     93,3   0,27       0      83       -1  \n",
       "3   207,07   0,35       0      13       -1  \n",
       "4  1454,35  0,306       0      24       -1  "
      ]
     },
     "execution_count": 4,
     "metadata": {},
     "output_type": "execute_result"
    }
   ],
   "source": [
    "df.head()"
   ]
  },
  {
   "cell_type": "markdown",
   "metadata": {},
   "source": [
    "## Before aggregating"
   ]
  },
  {
   "cell_type": "code",
   "execution_count": 3,
   "metadata": {},
   "outputs": [],
   "source": [
    "# df.head()"
   ]
  },
  {
   "cell_type": "code",
   "execution_count": 4,
   "metadata": {},
   "outputs": [],
   "source": [
    "# run ydata profiling\n",
    "# profile = ProfileReport(df, title=\"Profiling Report\")"
   ]
  },
  {
   "cell_type": "code",
   "execution_count": 5,
   "metadata": {},
   "outputs": [],
   "source": [
    "# profile.to_widgets()"
   ]
  },
  {
   "cell_type": "code",
   "execution_count": 6,
   "metadata": {},
   "outputs": [],
   "source": [
    "# profile.to_file(\"eda_all.html\")"
   ]
  },
  {
   "cell_type": "markdown",
   "metadata": {},
   "source": [
    "## After aggregating"
   ]
  },
  {
   "cell_type": "code",
   "execution_count": 7,
   "metadata": {},
   "outputs": [],
   "source": [
    "# df_agg = pd.read_csv('data/processed_data_all_vol_1.csv')"
   ]
  },
  {
   "cell_type": "code",
   "execution_count": 8,
   "metadata": {},
   "outputs": [],
   "source": [
    "# df_agg.head()"
   ]
  },
  {
   "cell_type": "code",
   "execution_count": 9,
   "metadata": {},
   "outputs": [],
   "source": [
    "# run ydata profiling\n",
    "# profile_agg = ProfileReport(df_agg, title=\"Profiling Report\")"
   ]
  },
  {
   "cell_type": "code",
   "execution_count": 10,
   "metadata": {},
   "outputs": [],
   "source": [
    "# profile_agg.to_widgets()"
   ]
  },
  {
   "cell_type": "code",
   "execution_count": 11,
   "metadata": {},
   "outputs": [],
   "source": [
    "# profile_agg.to_file(\"eda_agg.html\")"
   ]
  },
  {
   "cell_type": "markdown",
   "metadata": {},
   "source": [
    "### Iteration 2"
   ]
  },
  {
   "cell_type": "code",
   "execution_count": 12,
   "metadata": {},
   "outputs": [],
   "source": [
    "df_agg_2 = pd.read_csv('data/processed_data_all_vol_2.csv')"
   ]
  },
  {
   "cell_type": "code",
   "execution_count": 13,
   "metadata": {},
   "outputs": [],
   "source": [
    "# skip last two columns and take 10 random rows\n",
    "df_agg_2.iloc[:, :-1].sample(20).to_csv('data/data_agg_snippet.csv')"
   ]
  },
  {
   "cell_type": "code",
   "execution_count": 3,
   "metadata": {},
   "outputs": [],
   "source": [
    "# run ydata profiling\n",
    "profile_agg_2 = ProfileReport(df_agg_2, title=\"Profiling Report\")"
   ]
  },
  {
   "cell_type": "code",
   "execution_count": 13,
   "metadata": {},
   "outputs": [
    {
     "data": {
      "application/vnd.jupyter.widget-view+json": {
       "model_id": "8002a6ab2de045548f63698a1667d9fd",
       "version_major": 2,
       "version_minor": 0
      },
      "text/plain": [
       "Summarize dataset:   0%|          | 0/5 [00:00<?, ?it/s]"
      ]
     },
     "metadata": {},
     "output_type": "display_data"
    },
    {
     "data": {
      "application/vnd.jupyter.widget-view+json": {
       "model_id": "b13f00237829478d997286f63d6427ba",
       "version_major": 2,
       "version_minor": 0
      },
      "text/plain": [
       "Generate report structure:   0%|          | 0/1 [00:00<?, ?it/s]"
      ]
     },
     "metadata": {},
     "output_type": "display_data"
    },
    {
     "data": {
      "application/vnd.jupyter.widget-view+json": {
       "model_id": "93fae0e8ea424664a89902503cc2fd68",
       "version_major": 2,
       "version_minor": 0
      },
      "text/plain": [
       "Render widgets:   0%|          | 0/1 [00:00<?, ?it/s]"
      ]
     },
     "metadata": {},
     "output_type": "display_data"
    }
   ],
   "source": [
    "profile_agg_2.to_widgets()"
   ]
  },
  {
   "cell_type": "code",
   "execution_count": 3,
   "metadata": {},
   "outputs": [
    {
     "ename": "NameError",
     "evalue": "name 'profile_agg_2' is not defined",
     "output_type": "error",
     "traceback": [
      "\u001b[0;31m---------------------------------------------------------------------------\u001b[0m",
      "\u001b[0;31mNameError\u001b[0m                                 Traceback (most recent call last)",
      "\u001b[1;32m/Users/annabzinkowska/DTU/master_thesis/data_all_eda.ipynb Cell 20\u001b[0m line \u001b[0;36m1\n\u001b[0;32m----> <a href='vscode-notebook-cell:/Users/annabzinkowska/DTU/master_thesis/data_all_eda.ipynb#X25sZmlsZQ%3D%3D?line=0'>1</a>\u001b[0m profile_agg_2\u001b[39m.\u001b[39mto_file(\u001b[39m\"\u001b[39m\u001b[39meda_agg_2.html\u001b[39m\u001b[39m\"\u001b[39m)\n",
      "\u001b[0;31mNameError\u001b[0m: name 'profile_agg_2' is not defined"
     ]
    }
   ],
   "source": [
    "profile_agg_2.to_file(\"eda_agg_2.html\")"
   ]
  },
  {
   "cell_type": "markdown",
   "metadata": {},
   "source": [
    "#### Labeled data - BERTopic"
   ]
  },
  {
   "cell_type": "code",
   "execution_count": 35,
   "metadata": {},
   "outputs": [
    {
     "name": "stderr",
     "output_type": "stream",
     "text": [
      "/var/folders/n9/qhmmsj1s7w52648j4cjf7ztc0000gn/T/ipykernel_45026/3447559729.py:1: DtypeWarning: Columns (12) have mixed types. Specify dtype option on import or set low_memory=False.\n",
      "  df_agg_bertopic_2 = pd.read_csv('data/processed_data_all_bertopic_vol_2.csv')\n"
     ]
    }
   ],
   "source": [
    "df_agg_bertopic_2 = pd.read_csv('data/processed_data_all_bertopic_vol_2.csv')"
   ]
  },
  {
   "cell_type": "code",
   "execution_count": 36,
   "metadata": {},
   "outputs": [],
   "source": [
    "# take category_bertopic different than -1\n",
    "df_agg_bertopic_2 = df_agg_bertopic_2[df_agg_bertopic_2['category_bertopic'] != '-1']"
   ]
  },
  {
   "cell_type": "code",
   "execution_count": 40,
   "metadata": {},
   "outputs": [
    {
     "data": {
      "text/html": [
       "<div>\n",
       "<style scoped>\n",
       "    .dataframe tbody tr th:only-of-type {\n",
       "        vertical-align: middle;\n",
       "    }\n",
       "\n",
       "    .dataframe tbody tr th {\n",
       "        vertical-align: top;\n",
       "    }\n",
       "\n",
       "    .dataframe thead th {\n",
       "        text-align: right;\n",
       "    }\n",
       "</style>\n",
       "<table border=\"1\" class=\"dataframe\">\n",
       "  <thead>\n",
       "    <tr style=\"text-align: right;\">\n",
       "      <th></th>\n",
       "      <th>product_id</th>\n",
       "      <th>description</th>\n",
       "      <th>month_mode</th>\n",
       "      <th>quarter_mode</th>\n",
       "      <th>year_mode</th>\n",
       "      <th>day_week_mode</th>\n",
       "      <th>quantity_sum</th>\n",
       "      <th>price_sum</th>\n",
       "      <th>unit_weight</th>\n",
       "      <th>customer_country_mode</th>\n",
       "      <th>customer_country_count</th>\n",
       "      <th>customer_id_count</th>\n",
       "      <th>category</th>\n",
       "      <th>unit_price_mean</th>\n",
       "      <th>description_original</th>\n",
       "      <th>topic</th>\n",
       "      <th>category_bertopic</th>\n",
       "    </tr>\n",
       "  </thead>\n",
       "  <tbody>\n",
       "    <tr>\n",
       "      <th>326</th>\n",
       "      <td>220181</td>\n",
       "      <td>box filter bag</td>\n",
       "      <td>2</td>\n",
       "      <td>1</td>\n",
       "      <td>2015</td>\n",
       "      <td>0</td>\n",
       "      <td>13593</td>\n",
       "      <td>10786.03</td>\n",
       "      <td>0.008</td>\n",
       "      <td>SE</td>\n",
       "      <td>2</td>\n",
       "      <td>2</td>\n",
       "      <td>C</td>\n",
       "      <td>0.7935</td>\n",
       "      <td>F1-1-30C                      (50/BOX) FILTER ...</td>\n",
       "      <td>-1</td>\n",
       "      <td>C</td>\n",
       "    </tr>\n",
       "    <tr>\n",
       "      <th>1052</th>\n",
       "      <td>3135600144</td>\n",
       "      <td>diaphr epdm ptfe cpm</td>\n",
       "      <td>3</td>\n",
       "      <td>1</td>\n",
       "      <td>2014</td>\n",
       "      <td>1</td>\n",
       "      <td>64473</td>\n",
       "      <td>2797917.54</td>\n",
       "      <td>0.084</td>\n",
       "      <td>SE</td>\n",
       "      <td>53</td>\n",
       "      <td>120</td>\n",
       "      <td>B</td>\n",
       "      <td>43.3967</td>\n",
       "      <td>DIAPHR. EPDM/PTFE CPM-I/O/D-60                ...</td>\n",
       "      <td>-1</td>\n",
       "      <td>B</td>\n",
       "    </tr>\n",
       "    <tr>\n",
       "      <th>1057</th>\n",
       "      <td>3135600621</td>\n",
       "      <td>support sector cpm</td>\n",
       "      <td>3</td>\n",
       "      <td>1</td>\n",
       "      <td>2022</td>\n",
       "      <td>1</td>\n",
       "      <td>19305</td>\n",
       "      <td>145523.37</td>\n",
       "      <td>0.056</td>\n",
       "      <td>SE</td>\n",
       "      <td>38</td>\n",
       "      <td>60</td>\n",
       "      <td>C</td>\n",
       "      <td>7.5381</td>\n",
       "      <td>SUPPORT SECTOR  CPM-I/O/D-60                  ...</td>\n",
       "      <td>-1</td>\n",
       "      <td>C</td>\n",
       "    </tr>\n",
       "    <tr>\n",
       "      <th>1396</th>\n",
       "      <td>400202</td>\n",
       "      <td>ser kit pr pr buna service kit</td>\n",
       "      <td>4</td>\n",
       "      <td>3</td>\n",
       "      <td>2021</td>\n",
       "      <td>3</td>\n",
       "      <td>20</td>\n",
       "      <td>659.12</td>\n",
       "      <td>0.754</td>\n",
       "      <td>SE</td>\n",
       "      <td>3</td>\n",
       "      <td>3</td>\n",
       "      <td>-1</td>\n",
       "      <td>32.9560</td>\n",
       "      <td>SER KIT PR60/PR125-1 BUNA     SERVICE KIT     ...</td>\n",
       "      <td>-1</td>\n",
       "      <td>A</td>\n",
       "    </tr>\n",
       "    <tr>\n",
       "      <th>1397</th>\n",
       "      <td>400208</td>\n",
       "      <td>ser kit pr pr buna service kit</td>\n",
       "      <td>4</td>\n",
       "      <td>2</td>\n",
       "      <td>2014</td>\n",
       "      <td>1</td>\n",
       "      <td>15</td>\n",
       "      <td>1969.70</td>\n",
       "      <td>1.722</td>\n",
       "      <td>DO</td>\n",
       "      <td>2</td>\n",
       "      <td>2</td>\n",
       "      <td>-1</td>\n",
       "      <td>131.3133</td>\n",
       "      <td>SER KIT PR60/PR125-1A BUNA    SERVICE KIT     ...</td>\n",
       "      <td>-1</td>\n",
       "      <td>A</td>\n",
       "    </tr>\n",
       "    <tr>\n",
       "      <th>...</th>\n",
       "      <td>...</td>\n",
       "      <td>...</td>\n",
       "      <td>...</td>\n",
       "      <td>...</td>\n",
       "      <td>...</td>\n",
       "      <td>...</td>\n",
       "      <td>...</td>\n",
       "      <td>...</td>\n",
       "      <td>...</td>\n",
       "      <td>...</td>\n",
       "      <td>...</td>\n",
       "      <td>...</td>\n",
       "      <td>...</td>\n",
       "      <td>...</td>\n",
       "      <td>...</td>\n",
       "      <td>...</td>\n",
       "      <td>...</td>\n",
       "    </tr>\n",
       "    <tr>\n",
       "      <th>33490</th>\n",
       "      <td>TE55T455</td>\n",
       "      <td>service kit packing box</td>\n",
       "      <td>3</td>\n",
       "      <td>1</td>\n",
       "      <td>2021</td>\n",
       "      <td>0</td>\n",
       "      <td>13</td>\n",
       "      <td>399.00</td>\n",
       "      <td>0.200</td>\n",
       "      <td>HK</td>\n",
       "      <td>3</td>\n",
       "      <td>4</td>\n",
       "      <td>-1</td>\n",
       "      <td>30.6923</td>\n",
       "      <td>SERVICE KIT PACKING BOX I40                   ...</td>\n",
       "      <td>-1</td>\n",
       "      <td>A</td>\n",
       "    </tr>\n",
       "    <tr>\n",
       "      <th>34052</th>\n",
       "      <td>TE75P28590</td>\n",
       "      <td>epdm service kit ssb retractorms</td>\n",
       "      <td>7</td>\n",
       "      <td>2</td>\n",
       "      <td>2017</td>\n",
       "      <td>0</td>\n",
       "      <td>21</td>\n",
       "      <td>10752.71</td>\n",
       "      <td>0.100</td>\n",
       "      <td>SE</td>\n",
       "      <td>6</td>\n",
       "      <td>6</td>\n",
       "      <td>-1</td>\n",
       "      <td>512.0338</td>\n",
       "      <td>EPDM SERVICE KIT SSB RETRACTORMS 3.1          ...</td>\n",
       "      <td>-1</td>\n",
       "      <td>A</td>\n",
       "    </tr>\n",
       "    <tr>\n",
       "      <th>34054</th>\n",
       "      <td>TE75P28790</td>\n",
       "      <td>epdm service kit ssb retractoras cert</td>\n",
       "      <td>6</td>\n",
       "      <td>2</td>\n",
       "      <td>2018</td>\n",
       "      <td>0</td>\n",
       "      <td>18</td>\n",
       "      <td>9375.34</td>\n",
       "      <td>0.012</td>\n",
       "      <td>GB</td>\n",
       "      <td>4</td>\n",
       "      <td>4</td>\n",
       "      <td>-1</td>\n",
       "      <td>520.8522</td>\n",
       "      <td>EPDM SERVICE KIT SSB RETRACTORAS 3.1 CERT     ...</td>\n",
       "      <td>-1</td>\n",
       "      <td>A</td>\n",
       "    </tr>\n",
       "    <tr>\n",
       "      <th>34056</th>\n",
       "      <td>TE75P28890</td>\n",
       "      <td>epdm service kit ssb retractordoc di</td>\n",
       "      <td>7</td>\n",
       "      <td>3</td>\n",
       "      <td>2016</td>\n",
       "      <td>0</td>\n",
       "      <td>5</td>\n",
       "      <td>2436.09</td>\n",
       "      <td>0.100</td>\n",
       "      <td>GB</td>\n",
       "      <td>2</td>\n",
       "      <td>2</td>\n",
       "      <td>-1</td>\n",
       "      <td>487.2180</td>\n",
       "      <td>EPDM SERVICE KIT SSB RETRACTORDOC AS DI       ...</td>\n",
       "      <td>-1</td>\n",
       "      <td>A</td>\n",
       "    </tr>\n",
       "    <tr>\n",
       "      <th>34057</th>\n",
       "      <td>TE75P299</td>\n",
       "      <td>service tool kit mrb serv</td>\n",
       "      <td>1</td>\n",
       "      <td>1</td>\n",
       "      <td>2016</td>\n",
       "      <td>4</td>\n",
       "      <td>7</td>\n",
       "      <td>2408.48</td>\n",
       "      <td>0.010</td>\n",
       "      <td>GB</td>\n",
       "      <td>2</td>\n",
       "      <td>2</td>\n",
       "      <td>-1</td>\n",
       "      <td>344.0686</td>\n",
       "      <td>SERVICE TOOL KIT              MRB-SERV-03     ...</td>\n",
       "      <td>-1</td>\n",
       "      <td>E</td>\n",
       "    </tr>\n",
       "  </tbody>\n",
       "</table>\n",
       "<p>944 rows × 17 columns</p>\n",
       "</div>"
      ],
      "text/plain": [
       "       product_id                            description  month_mode  \\\n",
       "326        220181                         box filter bag           2   \n",
       "1052   3135600144                   diaphr epdm ptfe cpm           3   \n",
       "1057   3135600621                     support sector cpm           3   \n",
       "1396       400202         ser kit pr pr buna service kit           4   \n",
       "1397       400208         ser kit pr pr buna service kit           4   \n",
       "...           ...                                    ...         ...   \n",
       "33490    TE55T455                service kit packing box           3   \n",
       "34052  TE75P28590       epdm service kit ssb retractorms           7   \n",
       "34054  TE75P28790  epdm service kit ssb retractoras cert           6   \n",
       "34056  TE75P28890   epdm service kit ssb retractordoc di           7   \n",
       "34057    TE75P299              service tool kit mrb serv           1   \n",
       "\n",
       "       quarter_mode  year_mode  day_week_mode  quantity_sum   price_sum  \\\n",
       "326               1       2015              0         13593    10786.03   \n",
       "1052              1       2014              1         64473  2797917.54   \n",
       "1057              1       2022              1         19305   145523.37   \n",
       "1396              3       2021              3            20      659.12   \n",
       "1397              2       2014              1            15     1969.70   \n",
       "...             ...        ...            ...           ...         ...   \n",
       "33490             1       2021              0            13      399.00   \n",
       "34052             2       2017              0            21    10752.71   \n",
       "34054             2       2018              0            18     9375.34   \n",
       "34056             3       2016              0             5     2436.09   \n",
       "34057             1       2016              4             7     2408.48   \n",
       "\n",
       "       unit_weight customer_country_mode  customer_country_count  \\\n",
       "326          0.008                    SE                       2   \n",
       "1052         0.084                    SE                      53   \n",
       "1057         0.056                    SE                      38   \n",
       "1396         0.754                    SE                       3   \n",
       "1397         1.722                    DO                       2   \n",
       "...            ...                   ...                     ...   \n",
       "33490        0.200                    HK                       3   \n",
       "34052        0.100                    SE                       6   \n",
       "34054        0.012                    GB                       4   \n",
       "34056        0.100                    GB                       2   \n",
       "34057        0.010                    GB                       2   \n",
       "\n",
       "       customer_id_count category  unit_price_mean  \\\n",
       "326                    2        C           0.7935   \n",
       "1052                 120        B          43.3967   \n",
       "1057                  60        C           7.5381   \n",
       "1396                   3       -1          32.9560   \n",
       "1397                   2       -1         131.3133   \n",
       "...                  ...      ...              ...   \n",
       "33490                  4       -1          30.6923   \n",
       "34052                  6       -1         512.0338   \n",
       "34054                  4       -1         520.8522   \n",
       "34056                  2       -1         487.2180   \n",
       "34057                  2       -1         344.0686   \n",
       "\n",
       "                                    description_original  topic  \\\n",
       "326    F1-1-30C                      (50/BOX) FILTER ...     -1   \n",
       "1052   DIAPHR. EPDM/PTFE CPM-I/O/D-60                ...     -1   \n",
       "1057   SUPPORT SECTOR  CPM-I/O/D-60                  ...     -1   \n",
       "1396   SER KIT PR60/PR125-1 BUNA     SERVICE KIT     ...     -1   \n",
       "1397   SER KIT PR60/PR125-1A BUNA    SERVICE KIT     ...     -1   \n",
       "...                                                  ...    ...   \n",
       "33490  SERVICE KIT PACKING BOX I40                   ...     -1   \n",
       "34052  EPDM SERVICE KIT SSB RETRACTORMS 3.1          ...     -1   \n",
       "34054  EPDM SERVICE KIT SSB RETRACTORAS 3.1 CERT     ...     -1   \n",
       "34056  EPDM SERVICE KIT SSB RETRACTORDOC AS DI       ...     -1   \n",
       "34057  SERVICE TOOL KIT              MRB-SERV-03     ...     -1   \n",
       "\n",
       "      category_bertopic  \n",
       "326                   C  \n",
       "1052                  B  \n",
       "1057                  C  \n",
       "1396                  A  \n",
       "1397                  A  \n",
       "...                 ...  \n",
       "33490                 A  \n",
       "34052                 A  \n",
       "34054                 A  \n",
       "34056                 A  \n",
       "34057                 E  \n",
       "\n",
       "[944 rows x 17 columns]"
      ]
     },
     "execution_count": 40,
     "metadata": {},
     "output_type": "execute_result"
    }
   ],
   "source": [
    "# topic equal to -1\n",
    "df_agg_bertopic_2[df_agg_bertopic_2['topic'] == -1]"
   ]
  },
  {
   "cell_type": "code",
   "execution_count": 16,
   "metadata": {},
   "outputs": [],
   "source": [
    "# run ydata profiling\n",
    "profile_agg_bertopic_2 = ProfileReport(df_agg_bertopic_2, title=\"Profiling Report\")"
   ]
  },
  {
   "cell_type": "code",
   "execution_count": 17,
   "metadata": {},
   "outputs": [
    {
     "data": {
      "application/vnd.jupyter.widget-view+json": {
       "model_id": "be7ca89f3c0b4fc2ab4fde95eb439a4d",
       "version_major": 2,
       "version_minor": 0
      },
      "text/plain": [
       "Summarize dataset:   0%|          | 0/5 [00:00<?, ?it/s]"
      ]
     },
     "metadata": {},
     "output_type": "display_data"
    },
    {
     "data": {
      "application/vnd.jupyter.widget-view+json": {
       "model_id": "4965265e8f294d37bab5624a9a4fdb2d",
       "version_major": 2,
       "version_minor": 0
      },
      "text/plain": [
       "Generate report structure:   0%|          | 0/1 [00:00<?, ?it/s]"
      ]
     },
     "metadata": {},
     "output_type": "display_data"
    },
    {
     "data": {
      "application/vnd.jupyter.widget-view+json": {
       "model_id": "2dc566718e534dd08110c86aaeb54209",
       "version_major": 2,
       "version_minor": 0
      },
      "text/plain": [
       "Render widgets:   0%|          | 0/1 [00:00<?, ?it/s]"
      ]
     },
     "metadata": {},
     "output_type": "display_data"
    },
    {
     "data": {
      "application/vnd.jupyter.widget-view+json": {
       "model_id": "bd747d3c7e3a41b4a73ce664665d87e4",
       "version_major": 2,
       "version_minor": 0
      },
      "text/plain": [
       "VBox(children=(Tab(children=(Tab(children=(GridBox(children=(VBox(children=(GridspecLayout(children=(HTML(valu…"
      ]
     },
     "metadata": {},
     "output_type": "display_data"
    }
   ],
   "source": [
    "profile_agg_bertopic_2.to_widgets()"
   ]
  },
  {
   "cell_type": "code",
   "execution_count": 18,
   "metadata": {},
   "outputs": [
    {
     "data": {
      "application/vnd.jupyter.widget-view+json": {
       "model_id": "97f3eefd40f84f5c8a209a2f77847465",
       "version_major": 2,
       "version_minor": 0
      },
      "text/plain": [
       "Render HTML:   0%|          | 0/1 [00:00<?, ?it/s]"
      ]
     },
     "metadata": {},
     "output_type": "display_data"
    },
    {
     "data": {
      "application/vnd.jupyter.widget-view+json": {
       "model_id": "52d0ae6c73c24430b8ca8d90d92b5080",
       "version_major": 2,
       "version_minor": 0
      },
      "text/plain": [
       "Export report to file:   0%|          | 0/1 [00:00<?, ?it/s]"
      ]
     },
     "metadata": {},
     "output_type": "display_data"
    }
   ],
   "source": [
    "profile_agg_bertopic_2.to_file(\"eda_bertopic_labeled.html\")"
   ]
  }
 ],
 "metadata": {
  "kernelspec": {
   "display_name": "thesis_",
   "language": "python",
   "name": "python3"
  },
  "language_info": {
   "codemirror_mode": {
    "name": "ipython",
    "version": 3
   },
   "file_extension": ".py",
   "mimetype": "text/x-python",
   "name": "python",
   "nbconvert_exporter": "python",
   "pygments_lexer": "ipython3",
   "version": "3.10.13"
  },
  "orig_nbformat": 4
 },
 "nbformat": 4,
 "nbformat_minor": 2
}
